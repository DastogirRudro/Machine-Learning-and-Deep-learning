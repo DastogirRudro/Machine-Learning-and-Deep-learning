{
 "cells": [
  {
   "cell_type": "code",
   "execution_count": 17,
   "id": "3090f38c",
   "metadata": {},
   "outputs": [],
   "source": [
    "import numpy as np\n",
    "import pandas as pd\n",
    "from sklearn.model_selection import train_test_split\n",
    "from sklearn.preprocessing import LabelEncoder\n",
    "from tensorflow.keras.preprocessing.text import Tokenizer\n",
    "from tensorflow.keras.preprocessing.sequence import pad_sequences\n",
    "from tensorflow.keras.models import Sequential\n",
    "from tensorflow.keras.layers import Embedding, LSTM, Dense, Dropout\n",
    "from tensorflow.keras.callbacks import EarlyStopping\n",
    "from sklearn.metrics import accuracy_score, classification_report, roc_auc_score, roc_curve\n",
    "from sklearn.metrics import precision_score,recall_score,f1_score"
   ]
  },
  {
   "cell_type": "code",
   "execution_count": 18,
   "id": "f283e9b8-6fcb-47c9-be7e-d85d7f29068d",
   "metadata": {},
   "outputs": [],
   "source": [
    "df = pd.read_csv('thesisbangladataset.csv')\n",
    "x = df['cleaned'].values\n",
    "y = df['Label'].values"
   ]
  },
  {
   "cell_type": "code",
   "execution_count": 19,
   "id": "5cd460a9-775b-4145-9a32-901a730fee35",
   "metadata": {},
   "outputs": [
    {
     "data": {
      "text/plain": [
       "(11326, 4)"
      ]
     },
     "execution_count": 19,
     "metadata": {},
     "output_type": "execute_result"
    }
   ],
   "source": [
    "df.shape"
   ]
  },
  {
   "cell_type": "code",
   "execution_count": 20,
   "id": "209ba504-f6cc-4bfd-b1f6-4003dc67c69d",
   "metadata": {},
   "outputs": [
    {
     "data": {
      "text/html": [
       "<div>\n",
       "<style scoped>\n",
       "    .dataframe tbody tr th:only-of-type {\n",
       "        vertical-align: middle;\n",
       "    }\n",
       "\n",
       "    .dataframe tbody tr th {\n",
       "        vertical-align: top;\n",
       "    }\n",
       "\n",
       "    .dataframe thead th {\n",
       "        text-align: right;\n",
       "    }\n",
       "</style>\n",
       "<table border=\"1\" class=\"dataframe\">\n",
       "  <thead>\n",
       "    <tr style=\"text-align: right;\">\n",
       "      <th></th>\n",
       "      <th>Unnamed: 0</th>\n",
       "      <th>cleaned</th>\n",
       "      <th>Class</th>\n",
       "      <th>Label</th>\n",
       "    </tr>\n",
       "  </thead>\n",
       "  <tbody>\n",
       "    <tr>\n",
       "      <th>0</th>\n",
       "      <td>0</td>\n",
       "      <td>এলাকায় আসিস খুন করে ফেলে রাখবো তকে আমারে ত চিন...</td>\n",
       "      <td>AG</td>\n",
       "      <td>1</td>\n",
       "    </tr>\n",
       "    <tr>\n",
       "      <th>1</th>\n",
       "      <td>1</td>\n",
       "      <td>কুরআন কিতাব টাই তো ভুল এবং অন্য ধর্ম থেকে ঝাড়া...</td>\n",
       "      <td>AG</td>\n",
       "      <td>1</td>\n",
       "    </tr>\n",
       "    <tr>\n",
       "      <th>2</th>\n",
       "      <td>2</td>\n",
       "      <td>বাংলাদেশি খেলোয়ারদের সাথে খারাপ আচরনের জন্য আই...</td>\n",
       "      <td>NoAG</td>\n",
       "      <td>0</td>\n",
       "    </tr>\n",
       "    <tr>\n",
       "      <th>3</th>\n",
       "      <td>3</td>\n",
       "      <td>তুই ভুলে যাইস না আগের কথা সামনে পাইলে কিন্তু ছ...</td>\n",
       "      <td>AG</td>\n",
       "      <td>1</td>\n",
       "    </tr>\n",
       "    <tr>\n",
       "      <th>4</th>\n",
       "      <td>4</td>\n",
       "      <td>কেনো শুধু শুধু অন্যের ঘাড়ে পা রেখে উপরে উঠতে চ...</td>\n",
       "      <td>NoAG</td>\n",
       "      <td>0</td>\n",
       "    </tr>\n",
       "  </tbody>\n",
       "</table>\n",
       "</div>"
      ],
      "text/plain": [
       "   Unnamed: 0                                            cleaned Class  Label\n",
       "0           0  এলাকায় আসিস খুন করে ফেলে রাখবো তকে আমারে ত চিন...    AG      1\n",
       "1           1  কুরআন কিতাব টাই তো ভুল এবং অন্য ধর্ম থেকে ঝাড়া...    AG      1\n",
       "2           2  বাংলাদেশি খেলোয়ারদের সাথে খারাপ আচরনের জন্য আই...  NoAG      0\n",
       "3           3  তুই ভুলে যাইস না আগের কথা সামনে পাইলে কিন্তু ছ...    AG      1\n",
       "4           4  কেনো শুধু শুধু অন্যের ঘাড়ে পা রেখে উপরে উঠতে চ...  NoAG      0"
      ]
     },
     "execution_count": 20,
     "metadata": {},
     "output_type": "execute_result"
    }
   ],
   "source": [
    "df.head()"
   ]
  },
  {
   "cell_type": "code",
   "execution_count": 39,
   "id": "f5a46748",
   "metadata": {},
   "outputs": [],
   "source": [
    "# Convert labels to numerical values\n",
    "label_encoder = LabelEncoder()\n",
    "df['label_encoded'] = label_encoder.fit_transform(df['Label'])\n",
    "\n",
    "# Split dataset into training and testing sets\n",
    "train_df, test_df = train_test_split(df, test_size=0.2, random_state=42)"
   ]
  },
  {
   "cell_type": "code",
   "execution_count": 40,
   "id": "11bd95d0",
   "metadata": {},
   "outputs": [],
   "source": [
    "# Tokenization and Padding\n",
    "max_words = 10000  # Maximum number of words to keep in the vocabulary\n",
    "max_seq_length = 100  # Maximum sequence length\n",
    "\n",
    "tokenizer = Tokenizer(num_words=max_words, oov_token='<OOV>')\n",
    "tokenizer.fit_on_texts(train_df['cleaned'])\n",
    "\n",
    "train_sequences = tokenizer.texts_to_sequences(train_df['cleaned'])\n",
    "test_sequences = tokenizer.texts_to_sequences(test_df['cleaned'])\n",
    "\n",
    "X_train = pad_sequences(train_sequences, maxlen=max_seq_length, padding='post', truncating='post')\n",
    "X_test = pad_sequences(test_sequences, maxlen=max_seq_length, padding='post', truncating='post')\n",
    "\n",
    "y_train = train_df['label_encoded']\n",
    "y_test = test_df['label_encoded']"
   ]
  },
  {
   "cell_type": "code",
   "execution_count": 41,
   "id": "70bc3147",
   "metadata": {},
   "outputs": [],
   "source": [
    "# Build LSTM Model\n",
    "embedding_dim = 100  # Dimension of the word embeddings\n",
    "lstm_units = 172  # Number of LSTM units\n",
    "\n",
    "model = Sequential()\n",
    "model.add(Embedding(input_dim=max_words, output_dim=embedding_dim, input_length=max_seq_length))\n",
    "model.add(LSTM(lstm_units, dropout=0.2, recurrent_dropout=0.3))\n",
    "model.add(Dense(1, activation='sigmoid'))\n",
    "\n",
    "model.compile(loss='binary_crossentropy', optimizer='adam', metrics=['accuracy'])"
   ]
  },
  {
   "cell_type": "code",
   "execution_count": 42,
   "id": "a266993a",
   "metadata": {},
   "outputs": [
    {
     "name": "stdout",
     "output_type": "stream",
     "text": [
      "Epoch 1/10\n",
      "128/128 [==============================] - 70s 526ms/step - loss: 0.6940 - accuracy: 0.5135 - val_loss: 0.6948 - val_accuracy: 0.4603\n",
      "Epoch 2/10\n",
      "128/128 [==============================] - 68s 535ms/step - loss: 0.6902 - accuracy: 0.5081 - val_loss: 0.6900 - val_accuracy: 0.4636\n",
      "Epoch 3/10\n",
      "128/128 [==============================] - 70s 543ms/step - loss: 0.6863 - accuracy: 0.5250 - val_loss: 0.6972 - val_accuracy: 0.4592\n",
      "Epoch 4/10\n",
      "128/128 [==============================] - 70s 544ms/step - loss: 0.6737 - accuracy: 0.5294 - val_loss: 0.6837 - val_accuracy: 0.4603\n",
      "Epoch 5/10\n",
      "128/128 [==============================] - 70s 548ms/step - loss: 0.6723 - accuracy: 0.5213 - val_loss: 0.6729 - val_accuracy: 0.5706\n",
      "Epoch 6/10\n",
      "128/128 [==============================] - 70s 550ms/step - loss: 0.6673 - accuracy: 0.5313 - val_loss: 0.6664 - val_accuracy: 0.5717\n",
      "Epoch 7/10\n",
      "128/128 [==============================] - 70s 549ms/step - loss: 0.6033 - accuracy: 0.6269 - val_loss: 0.3920 - val_accuracy: 0.8256\n",
      "Epoch 8/10\n",
      "128/128 [==============================] - 70s 547ms/step - loss: 0.3421 - accuracy: 0.8717 - val_loss: 0.3019 - val_accuracy: 0.8841\n",
      "Epoch 9/10\n",
      "128/128 [==============================] - 71s 558ms/step - loss: 0.2296 - accuracy: 0.9268 - val_loss: 0.3040 - val_accuracy: 0.8896\n",
      "Epoch 10/10\n",
      "128/128 [==============================] - 71s 553ms/step - loss: 0.1569 - accuracy: 0.9540 - val_loss: 0.3041 - val_accuracy: 0.8929\n",
      "71/71 [==============================] - 5s 65ms/step - loss: 0.3622 - accuracy: 0.8791\n",
      "Test Loss: 0.3622, Test Accuracy: 0.8791\n"
     ]
    }
   ],
   "source": [
    "# Early stopping to prevent overfitting\n",
    "early_stopping = EarlyStopping(monitor='val_loss', patience=3, restore_best_weights=True)\n",
    "\n",
    "# Train the model\n",
    "history = model.fit(X_train, y_train, validation_split=0.1, epochs=10, batch_size=64, callbacks=[early_stopping])\n",
    "\n",
    "# Evaluate the model on test data\n",
    "test_loss, test_accuracy = model.evaluate(X_test, y_test)\n",
    "print(f'Test Loss: {test_loss:.4f}, Test Accuracy: {test_accuracy:.4f}')"
   ]
  },
  {
   "cell_type": "code",
   "execution_count": 43,
   "id": "4cc5df8f",
   "metadata": {},
   "outputs": [
    {
     "name": "stdout",
     "output_type": "stream",
     "text": [
      "71/71 [==============================] - 5s 64ms/step\n",
      "Precision: 0.8789, Recall: 0.8693, F1-Score: 0.8741\n",
      "AUC-ROC Score: 0.9442\n"
     ]
    },
    {
     "data": {
      "image/png": "[encoded data removed]",
      "text/plain": [
       "<Figure size 640x480 with 1 Axes>"
      ]
     },
     "metadata": {},
     "output_type": "display_data"
    }
   ],
   "source": [
    "from sklearn.metrics import classification_report, roc_auc_score, roc_curve, precision_score, recall_score, f1_score\n",
    "import matplotlib.pyplot as plt\n",
    "\n",
    "# Make predictions on the test set\n",
    "y_pred = model.predict(X_test)\n",
    "y_pred_classes = np.round(y_pred)\n",
    "\n",
    "# Calculate and print precision, recall, and F1-score\n",
    "precision = precision_score(y_test, y_pred_classes)\n",
    "recall = recall_score(y_test, y_pred_classes)\n",
    "f1 = f1_score(y_test, y_pred_classes)\n",
    "print(f'Precision: {precision:.4f}, Recall: {recall:.4f}, F1-Score: {f1:.4f}')\n",
    "\n",
    "# Calculate and print ROC-AUC score\n",
    "roc_auc = roc_auc_score(y_test, y_pred)\n",
    "print(f'AUC-ROC Score: {roc_auc:.4f}')\n",
    "\n",
    "# Plot ROC curve\n",
    "fpr, tpr, thresholds = roc_curve(y_test, y_pred)\n",
    "plt.figure()\n",
    "plt.plot(fpr, tpr, label=f'AUC = {roc_auc:.4f}')\n",
    "plt.plot([0, 1], [0, 1], 'k--')\n",
    "plt.xlim([0.0, 1.0])\n",
    "plt.ylim([0.0, 1.05])\n",
    "plt.xlabel('False Positive Rate')\n",
    "plt.ylabel('True Positive Rate')\n",
    "plt.title('Receiver Operating Characteristic (ROC) Curve')\n",
    "plt.legend(loc='lower right')\n",
    "plt.show()\n"
   ]
  },
  {
   "cell_type": "code",
   "execution_count": 44,
   "id": "0bfde824",
   "metadata": {},
   "outputs": [
    {
     "name": "stdout",
     "output_type": "stream",
     "text": [
      "Model, tokenizer, and label encoder saved successfully.\n"
     ]
    },
    {
     "name": "stdin",
     "output_type": "stream",
     "text": [
      "Enter the text for prediction:  তুই ভুলে যাইস না আমি কে এতো বাড়াবাড়ি করলে খবর আছে কইলাম তর\n"
     ]
    },
    {
     "name": "stdout",
     "output_type": "stream",
     "text": [
      "1/1 [==============================] - 0s 312ms/step\n",
      "The input text is classified as: 1\n"
     ]
    }
   ],
   "source": [
    "import pickle\n",
    "import tensorflow as tf\n",
    "from sklearn.preprocessing import LabelEncoder\n",
    "\n",
    "# ... (code for data preprocessing and model training)\n",
    "\n",
    "# Save the model, tokenizer, and label encoder using pickle\n",
    "with open('lstm_model.pkl', 'wb') as f:\n",
    "    pickle.dump((model, tokenizer, label_encoder), f)\n",
    "\n",
    "print(\"Model, tokenizer, and label encoder saved successfully.\")\n",
    "\n",
    "# Now, to load the pickled model, tokenizer, and label encoder and use them for predictions:\n",
    "\n",
    "# Load the pickled objects\n",
    "with open('lstm_model.pkl', 'rb') as f:\n",
    "    model, tokenizer, label_encoder = pickle.load(f)\n",
    "\n",
    "# Take user input for a text\n",
    "text_input = input(\"Enter the text for prediction: \")\n",
    "\n",
    "# Preprocess the text similar to the training data\n",
    "input_sequence = tokenizer.texts_to_sequences([text_input])\n",
    "input_sequence = pad_sequences(input_sequence, maxlen=max_seq_length, padding='post', truncating='post')\n",
    "\n",
    "# Make the prediction\n",
    "output = model.predict(input_sequence)\n",
    "\n",
    "# Decode the output label\n",
    "predicted_label = label_encoder.inverse_transform([1 if output > 0.5 else 0])\n",
    "\n",
    "# Print the predicted label\n",
    "print(f\"The input text is classified as: {predicted_label[0]}\")\n"
   ]
  },
  {
   "cell_type": "markdown",
   "id": "ef4360d3-9ce7-4b2b-8634-d0133aaa74a3",
   "metadata": {},
   "source": [
    "# Here 1 is spam and 0 is non spam"
   ]
  },
  {
   "cell_type": "code",
   "execution_count": null,
   "id": "e0525e36-7bba-4316-ac69-a4e412aaded6",
   "metadata": {},
   "outputs": [],
   "source": []
  }
 ],
 "metadata": {
  "kernelspec": {
   "display_name": "Python 3 (ipykernel)",
   "language": "python",
   "name": "python3"
  },
  "language_info": {
   "codemirror_mode": {
    "name": "ipython",
    "version": 3
   },
   "file_extension": ".py",
   "mimetype": "text/x-python",
   "name": "python",
   "nbconvert_exporter": "python",
   "pygments_lexer": "ipython3",
   "version": "3.11.4"
  }
 },
 "nbformat": 4,
 "nbformat_minor": 5
}
