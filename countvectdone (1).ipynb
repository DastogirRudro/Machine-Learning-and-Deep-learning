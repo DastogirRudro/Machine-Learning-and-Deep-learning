{
 "cells": [
  {
   "cell_type": "code",
   "execution_count": 1,
   "id": "202a5a2d-648b-46ff-a052-3151061d03ad",
   "metadata": {
    "id": "202a5a2d-648b-46ff-a052-3151061d03ad"
   },
   "outputs": [],
   "source": [
    "import pandas as pd\n",
    "import numpy as np\n",
    "from sklearn.preprocessing import LabelEncoder\n",
    "import matplotlib.pyplot as plt\n",
    "import nltk\n",
    "import re\n",
    "import seaborn as sns\n",
    "from sklearn.model_selection import train_test_split\n",
    "from sklearn.feature_extraction.text import CountVectorizer\n",
    "from sklearn.naive_bayes import MultinomialNB,BernoulliNB\n",
    "from sklearn.metrics import accuracy_score, confusion_matrix, precision_score\n",
    "from sklearn.svm import SVC\n",
    "from sklearn.linear_model import LogisticRegression\n",
    "from sklearn.ensemble import RandomForestClassifier\n",
    "from sklearn.model_selection import cross_val_score"
   ]
  },
  {
   "cell_type": "markdown",
   "id": "92c9d456-1205-42b3-87f2-02b365015834",
   "metadata": {},
   "source": [
    "# Load dataset and changes in dataset"
   ]
  },
  {
   "cell_type": "code",
   "execution_count": 2,
   "id": "72672b6b-6021-4d4c-b286-511dfdd62280",
   "metadata": {
    "id": "72672b6b-6021-4d4c-b286-511dfdd62280"
   },
   "outputs": [],
   "source": [
    "df = pd.read_csv('thesisbangladataset.csv')"
   ]
  },
  {
   "cell_type": "code",
   "execution_count": 3,
   "id": "352b4573-548a-43dd-92df-d0d2352ddbd9",
   "metadata": {
    "colab": {
     "base_uri": "https://localhost:8080/",
     "height": 112
    },
    "id": "352b4573-548a-43dd-92df-d0d2352ddbd9",
    "outputId": "a25d8f63-fa0d-4bdd-c763-80c73a1b9809"
   },
   "outputs": [
    {
     "data": {
      "text/html": [
       "<div>\n",
       "<style scoped>\n",
       "    .dataframe tbody tr th:only-of-type {\n",
       "        vertical-align: middle;\n",
       "    }\n",
       "\n",
       "    .dataframe tbody tr th {\n",
       "        vertical-align: top;\n",
       "    }\n",
       "\n",
       "    .dataframe thead th {\n",
       "        text-align: right;\n",
       "    }\n",
       "</style>\n",
       "<table border=\"1\" class=\"dataframe\">\n",
       "  <thead>\n",
       "    <tr style=\"text-align: right;\">\n",
       "      <th></th>\n",
       "      <th>Unnamed: 0</th>\n",
       "      <th>cleaned</th>\n",
       "      <th>Class</th>\n",
       "      <th>Label</th>\n",
       "    </tr>\n",
       "  </thead>\n",
       "  <tbody>\n",
       "    <tr>\n",
       "      <th>5620</th>\n",
       "      <td>5620</td>\n",
       "      <td>তোর যে মা আছে সে তার মামা কাছে চুদা খাছে এটা ই...</td>\n",
       "      <td>AG</td>\n",
       "      <td>1</td>\n",
       "    </tr>\n",
       "    <tr>\n",
       "      <th>5880</th>\n",
       "      <td>5880</td>\n",
       "      <td>ইসলাম কোন ধর্ম না এটা জঙ্গি তৈরি আস্থানা বুঝলি...</td>\n",
       "      <td>AG</td>\n",
       "      <td>1</td>\n",
       "    </tr>\n",
       "  </tbody>\n",
       "</table>\n",
       "</div>"
      ],
      "text/plain": [
       "      Unnamed: 0                                            cleaned Class  \\\n",
       "5620        5620  তোর যে মা আছে সে তার মামা কাছে চুদা খাছে এটা ই...    AG   \n",
       "5880        5880  ইসলাম কোন ধর্ম না এটা জঙ্গি তৈরি আস্থানা বুঝলি...    AG   \n",
       "\n",
       "      Label  \n",
       "5620      1  \n",
       "5880      1  "
      ]
     },
     "execution_count": 3,
     "metadata": {},
     "output_type": "execute_result"
    }
   ],
   "source": [
    "df.sample(2)"
   ]
  },
  {
   "cell_type": "code",
   "execution_count": 4,
   "id": "d65a1904-71d9-4274-8b9d-b4b4f59e5fe8",
   "metadata": {
    "colab": {
     "base_uri": "https://localhost:8080/"
    },
    "id": "d65a1904-71d9-4274-8b9d-b4b4f59e5fe8",
    "outputId": "650e967f-1303-4f4d-bcb7-3cf51d47adf9"
   },
   "outputs": [
    {
     "data": {
      "text/plain": [
       "(11326, 4)"
      ]
     },
     "execution_count": 4,
     "metadata": {},
     "output_type": "execute_result"
    }
   ],
   "source": [
    "df.shape"
   ]
  },
  {
   "cell_type": "code",
   "execution_count": 5,
   "id": "3a1e9577-6512-4c5b-b2a4-d069f0d418f9",
   "metadata": {
    "colab": {
     "base_uri": "https://localhost:8080/"
    },
    "id": "3a1e9577-6512-4c5b-b2a4-d069f0d418f9",
    "outputId": "05508886-c7d2-45c8-88d1-fcc4e5c0944c"
   },
   "outputs": [
    {
     "name": "stdout",
     "output_type": "stream",
     "text": [
      "<class 'pandas.core.frame.DataFrame'>\n",
      "RangeIndex: 11326 entries, 0 to 11325\n",
      "Data columns (total 4 columns):\n",
      " #   Column      Non-Null Count  Dtype \n",
      "---  ------      --------------  ----- \n",
      " 0   Unnamed: 0  11326 non-null  int64 \n",
      " 1   cleaned     11326 non-null  object\n",
      " 2   Class       11326 non-null  object\n",
      " 3   Label       11326 non-null  int64 \n",
      "dtypes: int64(2), object(2)\n",
      "memory usage: 354.1+ KB\n"
     ]
    }
   ],
   "source": [
    "df.info()"
   ]
  },
  {
   "cell_type": "code",
   "execution_count": 6,
   "id": "70b364bc-3124-4930-a4d0-42a6bf76977d",
   "metadata": {
    "id": "70b364bc-3124-4930-a4d0-42a6bf76977d"
   },
   "outputs": [],
   "source": [
    "df.rename(columns={'cleaned':'text','Class':'target'},inplace=True)"
   ]
  },
  {
   "cell_type": "code",
   "execution_count": 7,
   "id": "9ff3ecfb-e0ce-4a7e-80e7-c6abfe6bac91",
   "metadata": {
    "colab": {
     "base_uri": "https://localhost:8080/",
     "height": 81
    },
    "id": "9ff3ecfb-e0ce-4a7e-80e7-c6abfe6bac91",
    "outputId": "bf88165c-4fd8-4cb7-f3ee-eddef8f0782f"
   },
   "outputs": [
    {
     "data": {
      "text/html": [
       "<div>\n",
       "<style scoped>\n",
       "    .dataframe tbody tr th:only-of-type {\n",
       "        vertical-align: middle;\n",
       "    }\n",
       "\n",
       "    .dataframe tbody tr th {\n",
       "        vertical-align: top;\n",
       "    }\n",
       "\n",
       "    .dataframe thead th {\n",
       "        text-align: right;\n",
       "    }\n",
       "</style>\n",
       "<table border=\"1\" class=\"dataframe\">\n",
       "  <thead>\n",
       "    <tr style=\"text-align: right;\">\n",
       "      <th></th>\n",
       "      <th>Unnamed: 0</th>\n",
       "      <th>text</th>\n",
       "      <th>target</th>\n",
       "      <th>Label</th>\n",
       "    </tr>\n",
       "  </thead>\n",
       "  <tbody>\n",
       "    <tr>\n",
       "      <th>0</th>\n",
       "      <td>0</td>\n",
       "      <td>এলাকায় আসিস খুন করে ফেলে রাখবো তকে আমারে ত চিন...</td>\n",
       "      <td>AG</td>\n",
       "      <td>1</td>\n",
       "    </tr>\n",
       "    <tr>\n",
       "      <th>1</th>\n",
       "      <td>1</td>\n",
       "      <td>কুরআন কিতাব টাই তো ভুল এবং অন্য ধর্ম থেকে ঝাড়া...</td>\n",
       "      <td>AG</td>\n",
       "      <td>1</td>\n",
       "    </tr>\n",
       "    <tr>\n",
       "      <th>2</th>\n",
       "      <td>2</td>\n",
       "      <td>বাংলাদেশি খেলোয়ারদের সাথে খারাপ আচরনের জন্য আই...</td>\n",
       "      <td>NoAG</td>\n",
       "      <td>0</td>\n",
       "    </tr>\n",
       "    <tr>\n",
       "      <th>3</th>\n",
       "      <td>3</td>\n",
       "      <td>তুই ভুলে যাইস না আগের কথা সামনে পাইলে কিন্তু ছ...</td>\n",
       "      <td>AG</td>\n",
       "      <td>1</td>\n",
       "    </tr>\n",
       "    <tr>\n",
       "      <th>4</th>\n",
       "      <td>4</td>\n",
       "      <td>কেনো শুধু শুধু অন্যের ঘাড়ে পা রেখে উপরে উঠতে চ...</td>\n",
       "      <td>NoAG</td>\n",
       "      <td>0</td>\n",
       "    </tr>\n",
       "  </tbody>\n",
       "</table>\n",
       "</div>"
      ],
      "text/plain": [
       "   Unnamed: 0                                               text target  Label\n",
       "0           0  এলাকায় আসিস খুন করে ফেলে রাখবো তকে আমারে ত চিন...     AG      1\n",
       "1           1  কুরআন কিতাব টাই তো ভুল এবং অন্য ধর্ম থেকে ঝাড়া...     AG      1\n",
       "2           2  বাংলাদেশি খেলোয়ারদের সাথে খারাপ আচরনের জন্য আই...   NoAG      0\n",
       "3           3  তুই ভুলে যাইস না আগের কথা সামনে পাইলে কিন্তু ছ...     AG      1\n",
       "4           4  কেনো শুধু শুধু অন্যের ঘাড়ে পা রেখে উপরে উঠতে চ...   NoAG      0"
      ]
     },
     "execution_count": 7,
     "metadata": {},
     "output_type": "execute_result"
    }
   ],
   "source": [
    "df.head()"
   ]
  },
  {
   "cell_type": "code",
   "execution_count": 8,
   "id": "f2cc075b-e29b-4a0f-83e5-67bed3bc6244",
   "metadata": {
    "colab": {
     "base_uri": "https://localhost:8080/"
    },
    "id": "f2cc075b-e29b-4a0f-83e5-67bed3bc6244",
    "outputId": "16ab4115-e68b-4b7a-e6b0-948127017619"
   },
   "outputs": [
    {
     "data": {
      "text/plain": [
       "target\n",
       "NoAG    5845\n",
       "AG      5481\n",
       "Name: count, dtype: int64"
      ]
     },
     "execution_count": 8,
     "metadata": {},
     "output_type": "execute_result"
    }
   ],
   "source": [
    "df[\"target\"].value_counts()"
   ]
  },
  {
   "cell_type": "markdown",
   "id": "bf33dae3-b3d1-4ba4-8c49-b9589f8ada0c",
   "metadata": {},
   "source": [
    "# Label encoder"
   ]
  },
  {
   "cell_type": "code",
   "execution_count": 9,
   "id": "e81dc78a-7949-486f-85f7-93f85b8d77d5",
   "metadata": {
    "id": "e81dc78a-7949-486f-85f7-93f85b8d77d5"
   },
   "outputs": [],
   "source": [
    "from sklearn.preprocessing import LabelEncoder\n",
    "label_encoder=LabelEncoder()"
   ]
  },
  {
   "cell_type": "code",
   "execution_count": 10,
   "id": "8dbf6147-248b-4b15-ad25-fc904335cdd9",
   "metadata": {
    "colab": {
     "base_uri": "https://localhost:8080/"
    },
    "id": "8dbf6147-248b-4b15-ad25-fc904335cdd9",
    "outputId": "113dabda-0e0a-4de2-fde6-21999fdd7153"
   },
   "outputs": [
    {
     "name": "stdout",
     "output_type": "stream",
     "text": [
      "LabelEncoder()\n"
     ]
    }
   ],
   "source": [
    "print (label_encoder)"
   ]
  },
  {
   "cell_type": "code",
   "execution_count": 11,
   "id": "8132d4fe-fccd-414d-b1d0-f70c6594a0db",
   "metadata": {
    "id": "8132d4fe-fccd-414d-b1d0-f70c6594a0db"
   },
   "outputs": [],
   "source": [
    "df[\"target\"] = label_encoder.fit_transform(df[\"target\"])"
   ]
  },
  {
   "cell_type": "code",
   "execution_count": 12,
   "id": "23a3cc51-e28d-4c15-8089-46d90fb8dba6",
   "metadata": {},
   "outputs": [
    {
     "data": {
      "text/html": [
       "<div>\n",
       "<style scoped>\n",
       "    .dataframe tbody tr th:only-of-type {\n",
       "        vertical-align: middle;\n",
       "    }\n",
       "\n",
       "    .dataframe tbody tr th {\n",
       "        vertical-align: top;\n",
       "    }\n",
       "\n",
       "    .dataframe thead th {\n",
       "        text-align: right;\n",
       "    }\n",
       "</style>\n",
       "<table border=\"1\" class=\"dataframe\">\n",
       "  <thead>\n",
       "    <tr style=\"text-align: right;\">\n",
       "      <th></th>\n",
       "      <th>Unnamed: 0</th>\n",
       "      <th>text</th>\n",
       "      <th>target</th>\n",
       "      <th>Label</th>\n",
       "    </tr>\n",
       "  </thead>\n",
       "  <tbody>\n",
       "    <tr>\n",
       "      <th>0</th>\n",
       "      <td>0</td>\n",
       "      <td>এলাকায় আসিস খুন করে ফেলে রাখবো তকে আমারে ত চিন...</td>\n",
       "      <td>0</td>\n",
       "      <td>1</td>\n",
       "    </tr>\n",
       "    <tr>\n",
       "      <th>1</th>\n",
       "      <td>1</td>\n",
       "      <td>কুরআন কিতাব টাই তো ভুল এবং অন্য ধর্ম থেকে ঝাড়া...</td>\n",
       "      <td>0</td>\n",
       "      <td>1</td>\n",
       "    </tr>\n",
       "    <tr>\n",
       "      <th>2</th>\n",
       "      <td>2</td>\n",
       "      <td>বাংলাদেশি খেলোয়ারদের সাথে খারাপ আচরনের জন্য আই...</td>\n",
       "      <td>1</td>\n",
       "      <td>0</td>\n",
       "    </tr>\n",
       "    <tr>\n",
       "      <th>3</th>\n",
       "      <td>3</td>\n",
       "      <td>তুই ভুলে যাইস না আগের কথা সামনে পাইলে কিন্তু ছ...</td>\n",
       "      <td>0</td>\n",
       "      <td>1</td>\n",
       "    </tr>\n",
       "    <tr>\n",
       "      <th>4</th>\n",
       "      <td>4</td>\n",
       "      <td>কেনো শুধু শুধু অন্যের ঘাড়ে পা রেখে উপরে উঠতে চ...</td>\n",
       "      <td>1</td>\n",
       "      <td>0</td>\n",
       "    </tr>\n",
       "  </tbody>\n",
       "</table>\n",
       "</div>"
      ],
      "text/plain": [
       "   Unnamed: 0                                               text  target  \\\n",
       "0           0  এলাকায় আসিস খুন করে ফেলে রাখবো তকে আমারে ত চিন...       0   \n",
       "1           1  কুরআন কিতাব টাই তো ভুল এবং অন্য ধর্ম থেকে ঝাড়া...       0   \n",
       "2           2  বাংলাদেশি খেলোয়ারদের সাথে খারাপ আচরনের জন্য আই...       1   \n",
       "3           3  তুই ভুলে যাইস না আগের কথা সামনে পাইলে কিন্তু ছ...       0   \n",
       "4           4  কেনো শুধু শুধু অন্যের ঘাড়ে পা রেখে উপরে উঠতে চ...       1   \n",
       "\n",
       "   Label  \n",
       "0      1  \n",
       "1      1  \n",
       "2      0  \n",
       "3      1  \n",
       "4      0  "
      ]
     },
     "execution_count": 12,
     "metadata": {},
     "output_type": "execute_result"
    }
   ],
   "source": [
    "df.head()"
   ]
  },
  {
   "cell_type": "markdown",
   "id": "398a20d8-5fee-48ca-b3d5-a2571f9b5e1e",
   "metadata": {},
   "source": [
    "# Removing unnecessary column"
   ]
  },
  {
   "cell_type": "code",
   "execution_count": 13,
   "id": "26b5881f-e428-4261-a530-ebd6d5e93b0b",
   "metadata": {},
   "outputs": [],
   "source": [
    "df.drop('Unnamed: 0', axis=1, inplace=True)"
   ]
  },
  {
   "cell_type": "code",
   "execution_count": 14,
   "id": "a86c1c9a-beee-4a63-8448-c7e72b7b9800",
   "metadata": {},
   "outputs": [
    {
     "data": {
      "text/html": [
       "<div>\n",
       "<style scoped>\n",
       "    .dataframe tbody tr th:only-of-type {\n",
       "        vertical-align: middle;\n",
       "    }\n",
       "\n",
       "    .dataframe tbody tr th {\n",
       "        vertical-align: top;\n",
       "    }\n",
       "\n",
       "    .dataframe thead th {\n",
       "        text-align: right;\n",
       "    }\n",
       "</style>\n",
       "<table border=\"1\" class=\"dataframe\">\n",
       "  <thead>\n",
       "    <tr style=\"text-align: right;\">\n",
       "      <th></th>\n",
       "      <th>text</th>\n",
       "      <th>target</th>\n",
       "      <th>Label</th>\n",
       "    </tr>\n",
       "  </thead>\n",
       "  <tbody>\n",
       "    <tr>\n",
       "      <th>0</th>\n",
       "      <td>এলাকায় আসিস খুন করে ফেলে রাখবো তকে আমারে ত চিন...</td>\n",
       "      <td>0</td>\n",
       "      <td>1</td>\n",
       "    </tr>\n",
       "    <tr>\n",
       "      <th>1</th>\n",
       "      <td>কুরআন কিতাব টাই তো ভুল এবং অন্য ধর্ম থেকে ঝাড়া...</td>\n",
       "      <td>0</td>\n",
       "      <td>1</td>\n",
       "    </tr>\n",
       "    <tr>\n",
       "      <th>2</th>\n",
       "      <td>বাংলাদেশি খেলোয়ারদের সাথে খারাপ আচরনের জন্য আই...</td>\n",
       "      <td>1</td>\n",
       "      <td>0</td>\n",
       "    </tr>\n",
       "    <tr>\n",
       "      <th>3</th>\n",
       "      <td>তুই ভুলে যাইস না আগের কথা সামনে পাইলে কিন্তু ছ...</td>\n",
       "      <td>0</td>\n",
       "      <td>1</td>\n",
       "    </tr>\n",
       "    <tr>\n",
       "      <th>4</th>\n",
       "      <td>কেনো শুধু শুধু অন্যের ঘাড়ে পা রেখে উপরে উঠতে চ...</td>\n",
       "      <td>1</td>\n",
       "      <td>0</td>\n",
       "    </tr>\n",
       "  </tbody>\n",
       "</table>\n",
       "</div>"
      ],
      "text/plain": [
       "                                                text  target  Label\n",
       "0  এলাকায় আসিস খুন করে ফেলে রাখবো তকে আমারে ত চিন...       0      1\n",
       "1  কুরআন কিতাব টাই তো ভুল এবং অন্য ধর্ম থেকে ঝাড়া...       0      1\n",
       "2  বাংলাদেশি খেলোয়ারদের সাথে খারাপ আচরনের জন্য আই...       1      0\n",
       "3  তুই ভুলে যাইস না আগের কথা সামনে পাইলে কিন্তু ছ...       0      1\n",
       "4  কেনো শুধু শুধু অন্যের ঘাড়ে পা রেখে উপরে উঠতে চ...       1      0"
      ]
     },
     "execution_count": 14,
     "metadata": {},
     "output_type": "execute_result"
    }
   ],
   "source": [
    "df.head()"
   ]
  },
  {
   "cell_type": "markdown",
   "id": "65186c47-71f1-4867-82a5-d47377c9011c",
   "metadata": {},
   "source": [
    "# Chacked duplicate and missing value"
   ]
  },
  {
   "cell_type": "code",
   "execution_count": 15,
   "id": "616174dd-8384-4203-9007-da85b7b39d57",
   "metadata": {},
   "outputs": [
    {
     "data": {
      "text/plain": [
       "(11326, 3)"
      ]
     },
     "execution_count": 15,
     "metadata": {},
     "output_type": "execute_result"
    }
   ],
   "source": [
    "df.shape"
   ]
  },
  {
   "cell_type": "code",
   "execution_count": 16,
   "id": "b2496eff-db81-4270-9c82-431c880b2e1b",
   "metadata": {
    "colab": {
     "base_uri": "https://localhost:8080/"
    },
    "id": "546fa124-b73e-4fa2-bbc0-7e2ec8625f92",
    "outputId": "046f19b0-3a86-4c0b-e50a-357ca629bd70"
   },
   "outputs": [
    {
     "data": {
      "text/plain": [
       "text      0\n",
       "target    0\n",
       "Label     0\n",
       "dtype: int64"
      ]
     },
     "execution_count": 16,
     "metadata": {},
     "output_type": "execute_result"
    }
   ],
   "source": [
    "df.isnull().sum()"
   ]
  },
  {
   "cell_type": "code",
   "execution_count": 17,
   "id": "d431f955-5208-4a75-83fb-441e10afe819",
   "metadata": {
    "colab": {
     "base_uri": "https://localhost:8080/"
    },
    "id": "d431f955-5208-4a75-83fb-441e10afe819",
    "outputId": "17735862-f5b4-48c9-be21-8dbbdc7f7c15"
   },
   "outputs": [
    {
     "data": {
      "text/plain": [
       "154"
      ]
     },
     "execution_count": 17,
     "metadata": {},
     "output_type": "execute_result"
    }
   ],
   "source": [
    "df.duplicated().sum()"
   ]
  },
  {
   "cell_type": "code",
   "execution_count": 18,
   "id": "86baa41f-916f-4cba-8a56-4f1432215336",
   "metadata": {},
   "outputs": [
    {
     "data": {
      "text/plain": [
       "0"
      ]
     },
     "execution_count": 18,
     "metadata": {},
     "output_type": "execute_result"
    }
   ],
   "source": [
    "df= df.drop_duplicates(keep='first')\n",
    "df.duplicated().sum()"
   ]
  },
  {
   "cell_type": "code",
   "execution_count": 19,
   "id": "ffd85752-c274-4258-a6a3-0294199e1197",
   "metadata": {
    "colab": {
     "base_uri": "https://localhost:8080/"
    },
    "id": "ffd85752-c274-4258-a6a3-0294199e1197",
    "outputId": "b74fdad5-fd9c-45ec-af5b-c8c5fda52ade"
   },
   "outputs": [
    {
     "data": {
      "text/plain": [
       "(11172, 3)"
      ]
     },
     "execution_count": 19,
     "metadata": {},
     "output_type": "execute_result"
    }
   ],
   "source": [
    "df.shape"
   ]
  },
  {
   "cell_type": "markdown",
   "id": "a90f05cf-ad62-46a5-b858-2e7b72ec9462",
   "metadata": {},
   "source": [
    "# removing stopword"
   ]
  },
  {
   "cell_type": "code",
   "execution_count": 20,
   "id": "02a5188e-5933-4d9f-a8eb-acd90671c486",
   "metadata": {},
   "outputs": [],
   "source": [
    "custom_bengali_stopwords = [\n",
    "    \"আমি\",\"কি\",\"সে\",\"জন্য\",\"এবং\",\"এক\",\"একটা\",\"এ\",\"ও\",\"যে\",\"এর\",\"মনে\",\"সব\",\"নাই\",\"আমরা\",\"কেন\",\"করা\",\"সাথে\",\"তো\",\"না\",\"করে\",\"আমার\",\"একটি\",\n",
    "    \"যদি\",\"দিয়ে\",\"আর\",\"নিয়ে\",\"ছিল\",\"হবে\",\"থেকে\",\"তার\",\"কিন্তু\",\"করা\",\"এটা\",\"এই\"]  # Add more as needed\n",
    "\n",
    "# Define a function to remove stop words from a given text using custom stop words\n",
    "def remove_stopwords(text):\n",
    "  \n",
    "    words = text.split()    \n",
    "    words = [word for word in words if word not in custom_bengali_stopwords]\n",
    "    return ' '.join(words)\n",
    "# Apply the modified remove_stopwords function to the 'text' column\n",
    "df['text'] = df['text'].apply(remove_stopwords)"
   ]
  },
  {
   "cell_type": "code",
   "execution_count": 21,
   "id": "5a8eca4a-d298-43a7-a6b8-8b19fb5465f5",
   "metadata": {},
   "outputs": [
    {
     "data": {
      "text/html": [
       "<div>\n",
       "<style scoped>\n",
       "    .dataframe tbody tr th:only-of-type {\n",
       "        vertical-align: middle;\n",
       "    }\n",
       "\n",
       "    .dataframe tbody tr th {\n",
       "        vertical-align: top;\n",
       "    }\n",
       "\n",
       "    .dataframe thead th {\n",
       "        text-align: right;\n",
       "    }\n",
       "</style>\n",
       "<table border=\"1\" class=\"dataframe\">\n",
       "  <thead>\n",
       "    <tr style=\"text-align: right;\">\n",
       "      <th></th>\n",
       "      <th>text</th>\n",
       "      <th>target</th>\n",
       "      <th>Label</th>\n",
       "    </tr>\n",
       "  </thead>\n",
       "  <tbody>\n",
       "    <tr>\n",
       "      <th>0</th>\n",
       "      <td>এলাকায় আসিস খুন ফেলে রাখবো তকে আমারে ত চিনিস ত...</td>\n",
       "      <td>0</td>\n",
       "      <td>1</td>\n",
       "    </tr>\n",
       "    <tr>\n",
       "      <th>1</th>\n",
       "      <td>কুরআন কিতাব টাই ভুল অন্য ধর্ম ঝাড়া আল্লাহ কাল্...</td>\n",
       "      <td>0</td>\n",
       "      <td>1</td>\n",
       "    </tr>\n",
       "    <tr>\n",
       "      <th>2</th>\n",
       "      <td>বাংলাদেশি খেলোয়ারদের খারাপ আচরনের আইসিসি আদালত...</td>\n",
       "      <td>1</td>\n",
       "      <td>0</td>\n",
       "    </tr>\n",
       "    <tr>\n",
       "      <th>3</th>\n",
       "      <td>তুই ভুলে যাইস আগের কথা সামনে পাইলে ছিড়া ফেলমু</td>\n",
       "      <td>0</td>\n",
       "      <td>1</td>\n",
       "    </tr>\n",
       "    <tr>\n",
       "      <th>4</th>\n",
       "      <td>কেনো শুধু শুধু অন্যের ঘাড়ে পা রেখে উপরে উঠতে চ...</td>\n",
       "      <td>1</td>\n",
       "      <td>0</td>\n",
       "    </tr>\n",
       "  </tbody>\n",
       "</table>\n",
       "</div>"
      ],
      "text/plain": [
       "                                                text  target  Label\n",
       "0  এলাকায় আসিস খুন ফেলে রাখবো তকে আমারে ত চিনিস ত...       0      1\n",
       "1  কুরআন কিতাব টাই ভুল অন্য ধর্ম ঝাড়া আল্লাহ কাল্...       0      1\n",
       "2  বাংলাদেশি খেলোয়ারদের খারাপ আচরনের আইসিসি আদালত...       1      0\n",
       "3      তুই ভুলে যাইস আগের কথা সামনে পাইলে ছিড়া ফেলমু       0      1\n",
       "4  কেনো শুধু শুধু অন্যের ঘাড়ে পা রেখে উপরে উঠতে চ...       1      0"
      ]
     },
     "execution_count": 21,
     "metadata": {},
     "output_type": "execute_result"
    }
   ],
   "source": [
    "df.head(5)"
   ]
  },
  {
   "cell_type": "code",
   "execution_count": 22,
   "id": "40c09259-b0f5-44d2-9ef8-406d4f4cd006",
   "metadata": {},
   "outputs": [],
   "source": [
    "#NUM OF WORDS\n",
    "df['num_words']=df['text'].apply(lambda x:len(nltk.word_tokenize(x)))"
   ]
  },
  {
   "cell_type": "code",
   "execution_count": 23,
   "id": "abe93242-f762-4509-ac28-59ff1b70e033",
   "metadata": {},
   "outputs": [],
   "source": [
    "df['num_sentences']= df['text'].apply(lambda x:len(nltk.sent_tokenize(x)))"
   ]
  },
  {
   "cell_type": "code",
   "execution_count": 24,
   "id": "bbfa8a2e-1c47-4356-bbd3-63593361aa81",
   "metadata": {},
   "outputs": [],
   "source": [
    "df['num_characters'] = df['text'].apply(len)"
   ]
  },
  {
   "cell_type": "code",
   "execution_count": 25,
   "id": "b79451c1-5ec8-49c5-b568-9232b04359c3",
   "metadata": {},
   "outputs": [
    {
     "data": {
      "text/html": [
       "<div>\n",
       "<style scoped>\n",
       "    .dataframe tbody tr th:only-of-type {\n",
       "        vertical-align: middle;\n",
       "    }\n",
       "\n",
       "    .dataframe tbody tr th {\n",
       "        vertical-align: top;\n",
       "    }\n",
       "\n",
       "    .dataframe thead th {\n",
       "        text-align: right;\n",
       "    }\n",
       "</style>\n",
       "<table border=\"1\" class=\"dataframe\">\n",
       "  <thead>\n",
       "    <tr style=\"text-align: right;\">\n",
       "      <th></th>\n",
       "      <th>num_characters</th>\n",
       "      <th>num_words</th>\n",
       "      <th>num_sentences</th>\n",
       "    </tr>\n",
       "  </thead>\n",
       "  <tbody>\n",
       "    <tr>\n",
       "      <th>count</th>\n",
       "      <td>11172.000000</td>\n",
       "      <td>11172.000000</td>\n",
       "      <td>11172.0</td>\n",
       "    </tr>\n",
       "    <tr>\n",
       "      <th>mean</th>\n",
       "      <td>107.858575</td>\n",
       "      <td>17.807107</td>\n",
       "      <td>1.0</td>\n",
       "    </tr>\n",
       "    <tr>\n",
       "      <th>std</th>\n",
       "      <td>135.471050</td>\n",
       "      <td>21.627194</td>\n",
       "      <td>0.0</td>\n",
       "    </tr>\n",
       "    <tr>\n",
       "      <th>min</th>\n",
       "      <td>6.000000</td>\n",
       "      <td>1.000000</td>\n",
       "      <td>1.0</td>\n",
       "    </tr>\n",
       "    <tr>\n",
       "      <th>25%</th>\n",
       "      <td>48.000000</td>\n",
       "      <td>8.000000</td>\n",
       "      <td>1.0</td>\n",
       "    </tr>\n",
       "    <tr>\n",
       "      <th>50%</th>\n",
       "      <td>78.000000</td>\n",
       "      <td>13.000000</td>\n",
       "      <td>1.0</td>\n",
       "    </tr>\n",
       "    <tr>\n",
       "      <th>75%</th>\n",
       "      <td>124.000000</td>\n",
       "      <td>21.000000</td>\n",
       "      <td>1.0</td>\n",
       "    </tr>\n",
       "    <tr>\n",
       "      <th>max</th>\n",
       "      <td>3000.000000</td>\n",
       "      <td>478.000000</td>\n",
       "      <td>1.0</td>\n",
       "    </tr>\n",
       "  </tbody>\n",
       "</table>\n",
       "</div>"
      ],
      "text/plain": [
       "       num_characters     num_words  num_sentences\n",
       "count    11172.000000  11172.000000        11172.0\n",
       "mean       107.858575     17.807107            1.0\n",
       "std        135.471050     21.627194            0.0\n",
       "min          6.000000      1.000000            1.0\n",
       "25%         48.000000      8.000000            1.0\n",
       "50%         78.000000     13.000000            1.0\n",
       "75%        124.000000     21.000000            1.0\n",
       "max       3000.000000    478.000000            1.0"
      ]
     },
     "execution_count": 25,
     "metadata": {},
     "output_type": "execute_result"
    }
   ],
   "source": [
    "df[['num_characters','num_words','num_sentences']].describe()"
   ]
  },
  {
   "cell_type": "code",
   "execution_count": 26,
   "id": "60f243b7-48e7-43f7-bc4e-b1be8d449338",
   "metadata": {},
   "outputs": [
    {
     "data": {
      "text/html": [
       "<div>\n",
       "<style scoped>\n",
       "    .dataframe tbody tr th:only-of-type {\n",
       "        vertical-align: middle;\n",
       "    }\n",
       "\n",
       "    .dataframe tbody tr th {\n",
       "        vertical-align: top;\n",
       "    }\n",
       "\n",
       "    .dataframe thead th {\n",
       "        text-align: right;\n",
       "    }\n",
       "</style>\n",
       "<table border=\"1\" class=\"dataframe\">\n",
       "  <thead>\n",
       "    <tr style=\"text-align: right;\">\n",
       "      <th></th>\n",
       "      <th>text</th>\n",
       "      <th>target</th>\n",
       "      <th>Label</th>\n",
       "      <th>num_words</th>\n",
       "      <th>num_sentences</th>\n",
       "      <th>num_characters</th>\n",
       "    </tr>\n",
       "  </thead>\n",
       "  <tbody>\n",
       "    <tr>\n",
       "      <th>0</th>\n",
       "      <td>এলাকায় আসিস খুন ফেলে রাখবো তকে আমারে ত চিনিস ত...</td>\n",
       "      <td>0</td>\n",
       "      <td>1</td>\n",
       "      <td>12</td>\n",
       "      <td>1</td>\n",
       "      <td>58</td>\n",
       "    </tr>\n",
       "    <tr>\n",
       "      <th>1</th>\n",
       "      <td>কুরআন কিতাব টাই ভুল অন্য ধর্ম ঝাড়া আল্লাহ কাল্...</td>\n",
       "      <td>0</td>\n",
       "      <td>1</td>\n",
       "      <td>19</td>\n",
       "      <td>1</td>\n",
       "      <td>110</td>\n",
       "    </tr>\n",
       "    <tr>\n",
       "      <th>2</th>\n",
       "      <td>বাংলাদেশি খেলোয়ারদের খারাপ আচরনের আইসিসি আদালত...</td>\n",
       "      <td>1</td>\n",
       "      <td>0</td>\n",
       "      <td>11</td>\n",
       "      <td>1</td>\n",
       "      <td>80</td>\n",
       "    </tr>\n",
       "    <tr>\n",
       "      <th>3</th>\n",
       "      <td>তুই ভুলে যাইস আগের কথা সামনে পাইলে ছিড়া ফেলমু</td>\n",
       "      <td>0</td>\n",
       "      <td>1</td>\n",
       "      <td>9</td>\n",
       "      <td>1</td>\n",
       "      <td>45</td>\n",
       "    </tr>\n",
       "    <tr>\n",
       "      <th>4</th>\n",
       "      <td>কেনো শুধু শুধু অন্যের ঘাড়ে পা রেখে উপরে উঠতে চ...</td>\n",
       "      <td>1</td>\n",
       "      <td>0</td>\n",
       "      <td>32</td>\n",
       "      <td>1</td>\n",
       "      <td>187</td>\n",
       "    </tr>\n",
       "  </tbody>\n",
       "</table>\n",
       "</div>"
      ],
      "text/plain": [
       "                                                text  target  Label  \\\n",
       "0  এলাকায় আসিস খুন ফেলে রাখবো তকে আমারে ত চিনিস ত...       0      1   \n",
       "1  কুরআন কিতাব টাই ভুল অন্য ধর্ম ঝাড়া আল্লাহ কাল্...       0      1   \n",
       "2  বাংলাদেশি খেলোয়ারদের খারাপ আচরনের আইসিসি আদালত...       1      0   \n",
       "3      তুই ভুলে যাইস আগের কথা সামনে পাইলে ছিড়া ফেলমু       0      1   \n",
       "4  কেনো শুধু শুধু অন্যের ঘাড়ে পা রেখে উপরে উঠতে চ...       1      0   \n",
       "\n",
       "   num_words  num_sentences  num_characters  \n",
       "0         12              1              58  \n",
       "1         19              1             110  \n",
       "2         11              1              80  \n",
       "3          9              1              45  \n",
       "4         32              1             187  "
      ]
     },
     "execution_count": 26,
     "metadata": {},
     "output_type": "execute_result"
    }
   ],
   "source": [
    "df.head(5)"
   ]
  },
  {
   "cell_type": "markdown",
   "id": "18a1eeda-ac43-41a2-bd1c-bae707614e88",
   "metadata": {},
   "source": [
    "# Corpus"
   ]
  },
  {
   "cell_type": "code",
   "execution_count": 27,
   "id": "3060e262-69a5-48c5-8458-7307f79b2065",
   "metadata": {},
   "outputs": [],
   "source": [
    "spam_corpus=[]\n",
    "for msg in df[df['target']==0]['text'].tolist():\n",
    "    for word in msg.split():\n",
    "        spam_corpus.append(word)"
   ]
  },
  {
   "cell_type": "code",
   "execution_count": 28,
   "id": "4076cb69-1331-4417-8ac7-7b36607a96b9",
   "metadata": {},
   "outputs": [
    {
     "data": {
      "text/plain": [
       "68394"
      ]
     },
     "execution_count": 28,
     "metadata": {},
     "output_type": "execute_result"
    }
   ],
   "source": [
    "len(spam_corpus)"
   ]
  },
  {
   "cell_type": "code",
   "execution_count": 29,
   "id": "7367e4f1-3ee0-4c5f-bcfb-d27c102d726d",
   "metadata": {},
   "outputs": [
    {
     "data": {
      "text/plain": [
       "[('ধর্ম', 514),\n",
       " ('তোর', 507),\n",
       " ('কে', 406),\n",
       " ('ইসলাম', 359),\n",
       " ('হিন্দু', 356),\n",
       " ('তুই', 347),\n",
       " ('কোন', 294),\n",
       " ('আছে', 291),\n",
       " ('কথা', 282),\n",
       " ('তোদের', 282)]"
      ]
     },
     "execution_count": 29,
     "metadata": {},
     "output_type": "execute_result"
    }
   ],
   "source": [
    "from collections import Counter\n",
    "Counter(spam_corpus).most_common(10)"
   ]
  },
  {
   "cell_type": "code",
   "execution_count": 30,
   "id": "4bcb91bf-95fc-4a54-9e9f-2be85871ae33",
   "metadata": {},
   "outputs": [],
   "source": [
    "ham_corpus=[]\n",
    "for msg in df[df['target']==1]['text'].tolist():\n",
    "    for word in msg.split():\n",
    "        ham_corpus.append(word)"
   ]
  },
  {
   "cell_type": "code",
   "execution_count": 31,
   "id": "1afe7215-55ee-403b-978d-d4e16c801375",
   "metadata": {},
   "outputs": [
    {
     "data": {
      "text/plain": [
       "130192"
      ]
     },
     "execution_count": 31,
     "metadata": {},
     "output_type": "execute_result"
    }
   ],
   "source": [
    "len(ham_corpus)"
   ]
  },
  {
   "cell_type": "code",
   "execution_count": 32,
   "id": "d5f8cbe7-8525-4e95-ac28-fde451bb5b69",
   "metadata": {},
   "outputs": [
    {
     "data": {
      "text/plain": [
       "[('করতে', 654),\n",
       " ('তারা', 603),\n",
       " ('কিছু', 579),\n",
       " ('আছে', 548),\n",
       " ('আমাদের', 547),\n",
       " ('হয়', 515),\n",
       " ('ভাল', 493),\n",
       " ('অনেক', 486),\n",
       " ('তাদের', 474),\n",
       " ('হয়', 438)]"
      ]
     },
     "execution_count": 32,
     "metadata": {},
     "output_type": "execute_result"
    }
   ],
   "source": [
    "from collections import Counter\n",
    "Counter(ham_corpus).most_common(10)"
   ]
  },
  {
   "cell_type": "code",
   "execution_count": 33,
   "id": "fc403a6c-57a6-4932-ad38-8dedac6a0980",
   "metadata": {},
   "outputs": [
    {
     "data": {
      "text/html": [
       "<div>\n",
       "<style scoped>\n",
       "    .dataframe tbody tr th:only-of-type {\n",
       "        vertical-align: middle;\n",
       "    }\n",
       "\n",
       "    .dataframe tbody tr th {\n",
       "        vertical-align: top;\n",
       "    }\n",
       "\n",
       "    .dataframe thead th {\n",
       "        text-align: right;\n",
       "    }\n",
       "</style>\n",
       "<table border=\"1\" class=\"dataframe\">\n",
       "  <thead>\n",
       "    <tr style=\"text-align: right;\">\n",
       "      <th></th>\n",
       "      <th>text</th>\n",
       "      <th>target</th>\n",
       "      <th>Label</th>\n",
       "      <th>num_words</th>\n",
       "      <th>num_sentences</th>\n",
       "      <th>num_characters</th>\n",
       "    </tr>\n",
       "  </thead>\n",
       "  <tbody>\n",
       "    <tr>\n",
       "      <th>0</th>\n",
       "      <td>এলাকায় আসিস খুন ফেলে রাখবো তকে আমারে ত চিনিস ত...</td>\n",
       "      <td>0</td>\n",
       "      <td>1</td>\n",
       "      <td>12</td>\n",
       "      <td>1</td>\n",
       "      <td>58</td>\n",
       "    </tr>\n",
       "    <tr>\n",
       "      <th>1</th>\n",
       "      <td>কুরআন কিতাব টাই ভুল অন্য ধর্ম ঝাড়া আল্লাহ কাল্...</td>\n",
       "      <td>0</td>\n",
       "      <td>1</td>\n",
       "      <td>19</td>\n",
       "      <td>1</td>\n",
       "      <td>110</td>\n",
       "    </tr>\n",
       "    <tr>\n",
       "      <th>2</th>\n",
       "      <td>বাংলাদেশি খেলোয়ারদের খারাপ আচরনের আইসিসি আদালত...</td>\n",
       "      <td>1</td>\n",
       "      <td>0</td>\n",
       "      <td>11</td>\n",
       "      <td>1</td>\n",
       "      <td>80</td>\n",
       "    </tr>\n",
       "    <tr>\n",
       "      <th>3</th>\n",
       "      <td>তুই ভুলে যাইস আগের কথা সামনে পাইলে ছিড়া ফেলমু</td>\n",
       "      <td>0</td>\n",
       "      <td>1</td>\n",
       "      <td>9</td>\n",
       "      <td>1</td>\n",
       "      <td>45</td>\n",
       "    </tr>\n",
       "    <tr>\n",
       "      <th>4</th>\n",
       "      <td>কেনো শুধু শুধু অন্যের ঘাড়ে পা রেখে উপরে উঠতে চ...</td>\n",
       "      <td>1</td>\n",
       "      <td>0</td>\n",
       "      <td>32</td>\n",
       "      <td>1</td>\n",
       "      <td>187</td>\n",
       "    </tr>\n",
       "  </tbody>\n",
       "</table>\n",
       "</div>"
      ],
      "text/plain": [
       "                                                text  target  Label  \\\n",
       "0  এলাকায় আসিস খুন ফেলে রাখবো তকে আমারে ত চিনিস ত...       0      1   \n",
       "1  কুরআন কিতাব টাই ভুল অন্য ধর্ম ঝাড়া আল্লাহ কাল্...       0      1   \n",
       "2  বাংলাদেশি খেলোয়ারদের খারাপ আচরনের আইসিসি আদালত...       1      0   \n",
       "3      তুই ভুলে যাইস আগের কথা সামনে পাইলে ছিড়া ফেলমু       0      1   \n",
       "4  কেনো শুধু শুধু অন্যের ঘাড়ে পা রেখে উপরে উঠতে চ...       1      0   \n",
       "\n",
       "   num_words  num_sentences  num_characters  \n",
       "0         12              1              58  \n",
       "1         19              1             110  \n",
       "2         11              1              80  \n",
       "3          9              1              45  \n",
       "4         32              1             187  "
      ]
     },
     "execution_count": 33,
     "metadata": {},
     "output_type": "execute_result"
    }
   ],
   "source": [
    "df.head(5)"
   ]
  },
  {
   "cell_type": "markdown",
   "id": "2827e805-a17b-4895-a26f-df8727575645",
   "metadata": {},
   "source": [
    "# Removing digits"
   ]
  },
  {
   "cell_type": "code",
   "execution_count": 34,
   "id": "f40ac494-9099-4c09-b11d-508299663282",
   "metadata": {},
   "outputs": [],
   "source": [
    "import re"
   ]
  },
  {
   "cell_type": "code",
   "execution_count": 35,
   "id": "54ffe3ac-6b5f-4290-b3d2-15161f50e37f",
   "metadata": {},
   "outputs": [
    {
     "name": "stdout",
     "output_type": "stream",
     "text": [
      "Total Bangla digits in the dataset:  2629\n"
     ]
    }
   ],
   "source": [
    "bangla_digits_pattern = '[০১২৩৪৫৬৭৮৯]'\n",
    "total_digit_count = 0\n",
    "for index, row in df.iterrows():\n",
    "    text = row['text']\n",
    "    digit_count = len(re.findall(bangla_digits_pattern, text))\n",
    "    total_digit_count += digit_count\n",
    "print(\"Total Bangla digits in the dataset: \", total_digit_count)"
   ]
  },
  {
   "cell_type": "code",
   "execution_count": 36,
   "id": "c52df6e3-c2d0-4133-bae6-61abf33fc99c",
   "metadata": {},
   "outputs": [],
   "source": [
    "bangla_digits_pattern = '[০১২৩৪৫৬৭৮৯]'\n",
    "for index, row in df.iterrows():\n",
    "    text = row['text']\n",
    "    text_without_bangla_digits = re.sub(bangla_digits_pattern, '', text)\n",
    "    df.at[index, 'text'] = text_without_bangla_digits"
   ]
  },
  {
   "cell_type": "code",
   "execution_count": 37,
   "id": "7f050b14-f260-4e7a-a5d5-63f57ecb04f6",
   "metadata": {},
   "outputs": [
    {
     "name": "stdout",
     "output_type": "stream",
     "text": [
      "Total Bangla digits in the dataset:  0\n"
     ]
    }
   ],
   "source": [
    "bangla_digits_pattern_after = '[০১২৩৪৫৬৭৮৯]'\n",
    "total_digit_count_after = 0\n",
    "for index, row in df.iterrows():\n",
    "    text = row['text']\n",
    "    digit_count = len(re.findall(bangla_digits_pattern_after, text))\n",
    "    total_digit_count_after += digit_count\n",
    "print(\"Total Bangla digits in the dataset: \", total_digit_count_after)"
   ]
  },
  {
   "cell_type": "code",
   "execution_count": null,
   "id": "ad1db83c-7877-4f6e-ab5e-cdbee015aa2a",
   "metadata": {},
   "outputs": [],
   "source": []
  },
  {
   "cell_type": "markdown",
   "id": "7b3e5782-8c59-44a3-8b54-409b8a27f393",
   "metadata": {
    "colab": {
     "base_uri": "https://localhost:8080/"
    },
    "id": "2dc997ab-51cc-48c0-a403-37b6171cbdf9",
    "outputId": "96885579-a898-49db-cc2a-08bfa627e8f6"
   },
   "source": [
    "# EDA"
   ]
  },
  {
   "cell_type": "code",
   "execution_count": 38,
   "id": "1e8d6a8c-cc1b-4467-bc60-9201bef48657",
   "metadata": {
    "colab": {
     "base_uri": "https://localhost:8080/"
    },
    "id": "1e8d6a8c-cc1b-4467-bc60-9201bef48657",
    "outputId": "f9a89e64-7867-4eea-ae76-e5831d9f42e1"
   },
   "outputs": [
    {
     "data": {
      "text/plain": [
       "target\n",
       "1    5705\n",
       "0    5467\n",
       "Name: count, dtype: int64"
      ]
     },
     "execution_count": 38,
     "metadata": {},
     "output_type": "execute_result"
    }
   ],
   "source": [
    "df['target'].value_counts()"
   ]
  },
  {
   "cell_type": "raw",
   "id": "1f76bb21-00ec-46a7-95d4-8de2377968fd",
   "metadata": {},
   "source": [
    "# HERE 0 IS SPAM AND 1 IS HAM"
   ]
  },
  {
   "cell_type": "code",
   "execution_count": 39,
   "id": "a9e2396c-eb0e-4e6f-977a-3a990ec6aea8",
   "metadata": {},
   "outputs": [
    {
     "data": {
      "text/plain": [
       "target\n",
       "1    5705\n",
       "0    5467\n",
       "Name: count, dtype: int64"
      ]
     },
     "execution_count": 39,
     "metadata": {},
     "output_type": "execute_result"
    }
   ],
   "source": [
    "df[\"target\"].value_counts()"
   ]
  },
  {
   "cell_type": "code",
   "execution_count": 40,
   "id": "b12181ca-b5bb-4a0f-b0b7-c2e8997bd40a",
   "metadata": {
    "id": "b12181ca-b5bb-4a0f-b0b7-c2e8997bd40a"
   },
   "outputs": [],
   "source": [
    "import matplotlib.pyplot as plt"
   ]
  },
  {
   "cell_type": "code",
   "execution_count": 41,
   "id": "fb68e776-fb6f-4db8-8df3-3732f6b8b765",
   "metadata": {
    "colab": {
     "base_uri": "https://localhost:8080/",
     "height": 510
    },
    "id": "fb68e776-fb6f-4db8-8df3-3732f6b8b765",
    "outputId": "66db0a95-333b-4cce-d04e-ad6f024cbe0c"
   },
   "outputs": [
    {
     "data": {
      "image/png": "[encoded data removed]",
      "text/plain": [
       "<Figure size 640x480 with 1 Axes>"
      ]
     },
     "metadata": {},
     "output_type": "display_data"
    }
   ],
   "source": [
    "plt.pie(df['target'].value_counts(), labels=['ham','spam'],autopct=\"%0.3f\")\n",
    "plt.show()"
   ]
  },
  {
   "cell_type": "code",
   "execution_count": 42,
   "id": "1f23d455-1bb5-46de-aeef-7d82fb577982",
   "metadata": {
    "id": "1f23d455-1bb5-46de-aeef-7d82fb577982"
   },
   "outputs": [],
   "source": [
    "import nltk"
   ]
  },
  {
   "cell_type": "code",
   "execution_count": 43,
   "id": "1b523983-be3b-4ab2-af5e-cbf86c7de94a",
   "metadata": {},
   "outputs": [
    {
     "data": {
      "text/plain": [
       "0         58\n",
       "1        110\n",
       "2         80\n",
       "3         45\n",
       "4        187\n",
       "        ... \n",
       "11321    102\n",
       "11322    226\n",
       "11323     83\n",
       "11324    163\n",
       "11325     24\n",
       "Name: text, Length: 11172, dtype: int64"
      ]
     },
     "execution_count": 43,
     "metadata": {},
     "output_type": "execute_result"
    }
   ],
   "source": [
    "df['text'].apply(len)"
   ]
  },
  {
   "cell_type": "code",
   "execution_count": 44,
   "id": "d8028a3a-0dec-41bc-bfee-4299d7007f82",
   "metadata": {},
   "outputs": [],
   "source": [
    "# count word character and sentence\n",
    "df['num_characters'] = df['text'].apply(len)"
   ]
  },
  {
   "cell_type": "code",
   "execution_count": 45,
   "id": "a0c5eb09-f46d-4f5b-bf4b-6d2164fd50e4",
   "metadata": {},
   "outputs": [],
   "source": [
    "df['num_words']=df['text'].apply(lambda x:len(nltk.word_tokenize(x)))"
   ]
  },
  {
   "cell_type": "code",
   "execution_count": 46,
   "id": "332be93c-61b1-4097-8ca9-a1ea1ff9283e",
   "metadata": {},
   "outputs": [],
   "source": [
    "df['num_sentences']= df['text'].apply(lambda x:len(nltk.sent_tokenize(x)))"
   ]
  },
  {
   "cell_type": "code",
   "execution_count": 47,
   "id": "82b9a0c8-6f2e-42b2-ab49-d23dc3420e67",
   "metadata": {},
   "outputs": [
    {
     "data": {
      "text/html": [
       "<div>\n",
       "<style scoped>\n",
       "    .dataframe tbody tr th:only-of-type {\n",
       "        vertical-align: middle;\n",
       "    }\n",
       "\n",
       "    .dataframe tbody tr th {\n",
       "        vertical-align: top;\n",
       "    }\n",
       "\n",
       "    .dataframe thead th {\n",
       "        text-align: right;\n",
       "    }\n",
       "</style>\n",
       "<table border=\"1\" class=\"dataframe\">\n",
       "  <thead>\n",
       "    <tr style=\"text-align: right;\">\n",
       "      <th></th>\n",
       "      <th>num_characters</th>\n",
       "      <th>num_words</th>\n",
       "      <th>num_sentences</th>\n",
       "    </tr>\n",
       "  </thead>\n",
       "  <tbody>\n",
       "    <tr>\n",
       "      <th>count</th>\n",
       "      <td>11172.000000</td>\n",
       "      <td>11172.000000</td>\n",
       "      <td>11172.0</td>\n",
       "    </tr>\n",
       "    <tr>\n",
       "      <th>mean</th>\n",
       "      <td>107.623255</td>\n",
       "      <td>17.719388</td>\n",
       "      <td>1.0</td>\n",
       "    </tr>\n",
       "    <tr>\n",
       "      <th>std</th>\n",
       "      <td>135.352398</td>\n",
       "      <td>21.586215</td>\n",
       "      <td>0.0</td>\n",
       "    </tr>\n",
       "    <tr>\n",
       "      <th>min</th>\n",
       "      <td>6.000000</td>\n",
       "      <td>1.000000</td>\n",
       "      <td>1.0</td>\n",
       "    </tr>\n",
       "    <tr>\n",
       "      <th>25%</th>\n",
       "      <td>48.000000</td>\n",
       "      <td>8.000000</td>\n",
       "      <td>1.0</td>\n",
       "    </tr>\n",
       "    <tr>\n",
       "      <th>50%</th>\n",
       "      <td>78.000000</td>\n",
       "      <td>13.000000</td>\n",
       "      <td>1.0</td>\n",
       "    </tr>\n",
       "    <tr>\n",
       "      <th>75%</th>\n",
       "      <td>123.000000</td>\n",
       "      <td>20.000000</td>\n",
       "      <td>1.0</td>\n",
       "    </tr>\n",
       "    <tr>\n",
       "      <th>max</th>\n",
       "      <td>3000.000000</td>\n",
       "      <td>478.000000</td>\n",
       "      <td>1.0</td>\n",
       "    </tr>\n",
       "  </tbody>\n",
       "</table>\n",
       "</div>"
      ],
      "text/plain": [
       "       num_characters     num_words  num_sentences\n",
       "count    11172.000000  11172.000000        11172.0\n",
       "mean       107.623255     17.719388            1.0\n",
       "std        135.352398     21.586215            0.0\n",
       "min          6.000000      1.000000            1.0\n",
       "25%         48.000000      8.000000            1.0\n",
       "50%         78.000000     13.000000            1.0\n",
       "75%        123.000000     20.000000            1.0\n",
       "max       3000.000000    478.000000            1.0"
      ]
     },
     "execution_count": 47,
     "metadata": {},
     "output_type": "execute_result"
    }
   ],
   "source": [
    "df[['num_characters','num_words','num_sentences']].describe()"
   ]
  },
  {
   "cell_type": "code",
   "execution_count": 48,
   "id": "ebb35372-53d9-4568-8430-19f32abec904",
   "metadata": {},
   "outputs": [
    {
     "data": {
      "text/html": [
       "<div>\n",
       "<style scoped>\n",
       "    .dataframe tbody tr th:only-of-type {\n",
       "        vertical-align: middle;\n",
       "    }\n",
       "\n",
       "    .dataframe tbody tr th {\n",
       "        vertical-align: top;\n",
       "    }\n",
       "\n",
       "    .dataframe thead th {\n",
       "        text-align: right;\n",
       "    }\n",
       "</style>\n",
       "<table border=\"1\" class=\"dataframe\">\n",
       "  <thead>\n",
       "    <tr style=\"text-align: right;\">\n",
       "      <th></th>\n",
       "      <th>text</th>\n",
       "      <th>target</th>\n",
       "      <th>Label</th>\n",
       "      <th>num_words</th>\n",
       "      <th>num_sentences</th>\n",
       "      <th>num_characters</th>\n",
       "    </tr>\n",
       "  </thead>\n",
       "  <tbody>\n",
       "    <tr>\n",
       "      <th>0</th>\n",
       "      <td>এলাকায় আসিস খুন ফেলে রাখবো তকে আমারে ত চিনিস ত...</td>\n",
       "      <td>0</td>\n",
       "      <td>1</td>\n",
       "      <td>12</td>\n",
       "      <td>1</td>\n",
       "      <td>58</td>\n",
       "    </tr>\n",
       "    <tr>\n",
       "      <th>1</th>\n",
       "      <td>কুরআন কিতাব টাই ভুল অন্য ধর্ম ঝাড়া আল্লাহ কাল্...</td>\n",
       "      <td>0</td>\n",
       "      <td>1</td>\n",
       "      <td>19</td>\n",
       "      <td>1</td>\n",
       "      <td>110</td>\n",
       "    </tr>\n",
       "    <tr>\n",
       "      <th>2</th>\n",
       "      <td>বাংলাদেশি খেলোয়ারদের খারাপ আচরনের আইসিসি আদালত...</td>\n",
       "      <td>1</td>\n",
       "      <td>0</td>\n",
       "      <td>11</td>\n",
       "      <td>1</td>\n",
       "      <td>80</td>\n",
       "    </tr>\n",
       "    <tr>\n",
       "      <th>3</th>\n",
       "      <td>তুই ভুলে যাইস আগের কথা সামনে পাইলে ছিড়া ফেলমু</td>\n",
       "      <td>0</td>\n",
       "      <td>1</td>\n",
       "      <td>9</td>\n",
       "      <td>1</td>\n",
       "      <td>45</td>\n",
       "    </tr>\n",
       "    <tr>\n",
       "      <th>4</th>\n",
       "      <td>কেনো শুধু শুধু অন্যের ঘাড়ে পা রেখে উপরে উঠতে চ...</td>\n",
       "      <td>1</td>\n",
       "      <td>0</td>\n",
       "      <td>32</td>\n",
       "      <td>1</td>\n",
       "      <td>187</td>\n",
       "    </tr>\n",
       "  </tbody>\n",
       "</table>\n",
       "</div>"
      ],
      "text/plain": [
       "                                                text  target  Label  \\\n",
       "0  এলাকায় আসিস খুন ফেলে রাখবো তকে আমারে ত চিনিস ত...       0      1   \n",
       "1  কুরআন কিতাব টাই ভুল অন্য ধর্ম ঝাড়া আল্লাহ কাল্...       0      1   \n",
       "2  বাংলাদেশি খেলোয়ারদের খারাপ আচরনের আইসিসি আদালত...       1      0   \n",
       "3      তুই ভুলে যাইস আগের কথা সামনে পাইলে ছিড়া ফেলমু       0      1   \n",
       "4  কেনো শুধু শুধু অন্যের ঘাড়ে পা রেখে উপরে উঠতে চ...       1      0   \n",
       "\n",
       "   num_words  num_sentences  num_characters  \n",
       "0         12              1              58  \n",
       "1         19              1             110  \n",
       "2         11              1              80  \n",
       "3          9              1              45  \n",
       "4         32              1             187  "
      ]
     },
     "execution_count": 48,
     "metadata": {},
     "output_type": "execute_result"
    }
   ],
   "source": [
    "df.head()"
   ]
  },
  {
   "cell_type": "code",
   "execution_count": 49,
   "id": "6682f795-16f2-42c3-afef-31f542c4e916",
   "metadata": {},
   "outputs": [],
   "source": [
    "import seaborn as sns"
   ]
  },
  {
   "cell_type": "code",
   "execution_count": 50,
   "id": "946d93a5-8b20-47d5-ba61-55dc4549e9cd",
   "metadata": {},
   "outputs": [
    {
     "data": {
      "text/html": [
       "<div>\n",
       "<style scoped>\n",
       "    .dataframe tbody tr th:only-of-type {\n",
       "        vertical-align: middle;\n",
       "    }\n",
       "\n",
       "    .dataframe tbody tr th {\n",
       "        vertical-align: top;\n",
       "    }\n",
       "\n",
       "    .dataframe thead th {\n",
       "        text-align: right;\n",
       "    }\n",
       "</style>\n",
       "<table border=\"1\" class=\"dataframe\">\n",
       "  <thead>\n",
       "    <tr style=\"text-align: right;\">\n",
       "      <th></th>\n",
       "      <th>num_characters</th>\n",
       "      <th>num_words</th>\n",
       "      <th>num_sentences</th>\n",
       "    </tr>\n",
       "  </thead>\n",
       "  <tbody>\n",
       "    <tr>\n",
       "      <th>count</th>\n",
       "      <td>5705.000000</td>\n",
       "      <td>5705.000000</td>\n",
       "      <td>5705.0</td>\n",
       "    </tr>\n",
       "    <tr>\n",
       "      <th>mean</th>\n",
       "      <td>140.151271</td>\n",
       "      <td>22.744084</td>\n",
       "      <td>1.0</td>\n",
       "    </tr>\n",
       "    <tr>\n",
       "      <th>std</th>\n",
       "      <td>175.530595</td>\n",
       "      <td>27.975503</td>\n",
       "      <td>0.0</td>\n",
       "    </tr>\n",
       "    <tr>\n",
       "      <th>min</th>\n",
       "      <td>6.000000</td>\n",
       "      <td>1.000000</td>\n",
       "      <td>1.0</td>\n",
       "    </tr>\n",
       "    <tr>\n",
       "      <th>25%</th>\n",
       "      <td>68.000000</td>\n",
       "      <td>11.000000</td>\n",
       "      <td>1.0</td>\n",
       "    </tr>\n",
       "    <tr>\n",
       "      <th>50%</th>\n",
       "      <td>101.000000</td>\n",
       "      <td>17.000000</td>\n",
       "      <td>1.0</td>\n",
       "    </tr>\n",
       "    <tr>\n",
       "      <th>75%</th>\n",
       "      <td>150.000000</td>\n",
       "      <td>24.000000</td>\n",
       "      <td>1.0</td>\n",
       "    </tr>\n",
       "    <tr>\n",
       "      <th>max</th>\n",
       "      <td>3000.000000</td>\n",
       "      <td>478.000000</td>\n",
       "      <td>1.0</td>\n",
       "    </tr>\n",
       "  </tbody>\n",
       "</table>\n",
       "</div>"
      ],
      "text/plain": [
       "       num_characters    num_words  num_sentences\n",
       "count     5705.000000  5705.000000         5705.0\n",
       "mean       140.151271    22.744084            1.0\n",
       "std        175.530595    27.975503            0.0\n",
       "min          6.000000     1.000000            1.0\n",
       "25%         68.000000    11.000000            1.0\n",
       "50%        101.000000    17.000000            1.0\n",
       "75%        150.000000    24.000000            1.0\n",
       "max       3000.000000   478.000000            1.0"
      ]
     },
     "execution_count": 50,
     "metadata": {},
     "output_type": "execute_result"
    }
   ],
   "source": [
    "df[df['target']==1][['num_characters','num_words','num_sentences']].describe()"
   ]
  },
  {
   "cell_type": "code",
   "execution_count": 51,
   "id": "6b576636-550e-4c50-8b77-7604cafb52c3",
   "metadata": {},
   "outputs": [
    {
     "data": {
      "text/html": [
       "<div>\n",
       "<style scoped>\n",
       "    .dataframe tbody tr th:only-of-type {\n",
       "        vertical-align: middle;\n",
       "    }\n",
       "\n",
       "    .dataframe tbody tr th {\n",
       "        vertical-align: top;\n",
       "    }\n",
       "\n",
       "    .dataframe thead th {\n",
       "        text-align: right;\n",
       "    }\n",
       "</style>\n",
       "<table border=\"1\" class=\"dataframe\">\n",
       "  <thead>\n",
       "    <tr style=\"text-align: right;\">\n",
       "      <th></th>\n",
       "      <th>num_characters</th>\n",
       "      <th>num_words</th>\n",
       "      <th>num_sentences</th>\n",
       "    </tr>\n",
       "  </thead>\n",
       "  <tbody>\n",
       "    <tr>\n",
       "      <th>count</th>\n",
       "      <td>5467.000000</td>\n",
       "      <td>5467.000000</td>\n",
       "      <td>5467.0</td>\n",
       "    </tr>\n",
       "    <tr>\n",
       "      <th>mean</th>\n",
       "      <td>73.679166</td>\n",
       "      <td>12.475947</td>\n",
       "      <td>1.0</td>\n",
       "    </tr>\n",
       "    <tr>\n",
       "      <th>std</th>\n",
       "      <td>55.066213</td>\n",
       "      <td>9.041430</td>\n",
       "      <td>0.0</td>\n",
       "    </tr>\n",
       "    <tr>\n",
       "      <th>min</th>\n",
       "      <td>8.000000</td>\n",
       "      <td>1.000000</td>\n",
       "      <td>1.0</td>\n",
       "    </tr>\n",
       "    <tr>\n",
       "      <th>25%</th>\n",
       "      <td>38.000000</td>\n",
       "      <td>7.000000</td>\n",
       "      <td>1.0</td>\n",
       "    </tr>\n",
       "    <tr>\n",
       "      <th>50%</th>\n",
       "      <td>57.000000</td>\n",
       "      <td>10.000000</td>\n",
       "      <td>1.0</td>\n",
       "    </tr>\n",
       "    <tr>\n",
       "      <th>75%</th>\n",
       "      <td>92.000000</td>\n",
       "      <td>15.000000</td>\n",
       "      <td>1.0</td>\n",
       "    </tr>\n",
       "    <tr>\n",
       "      <th>max</th>\n",
       "      <td>739.000000</td>\n",
       "      <td>122.000000</td>\n",
       "      <td>1.0</td>\n",
       "    </tr>\n",
       "  </tbody>\n",
       "</table>\n",
       "</div>"
      ],
      "text/plain": [
       "       num_characters    num_words  num_sentences\n",
       "count     5467.000000  5467.000000         5467.0\n",
       "mean        73.679166    12.475947            1.0\n",
       "std         55.066213     9.041430            0.0\n",
       "min          8.000000     1.000000            1.0\n",
       "25%         38.000000     7.000000            1.0\n",
       "50%         57.000000    10.000000            1.0\n",
       "75%         92.000000    15.000000            1.0\n",
       "max        739.000000   122.000000            1.0"
      ]
     },
     "execution_count": 51,
     "metadata": {},
     "output_type": "execute_result"
    }
   ],
   "source": [
    "df[df['target']==0][['num_characters','num_words','num_sentences']].describe()"
   ]
  },
  {
   "cell_type": "code",
   "execution_count": 52,
   "id": "53ab8aff-d5aa-4184-b5b9-af229b2131d9",
   "metadata": {},
   "outputs": [
    {
     "data": {
      "text/plain": [
       "<Axes: xlabel='num_characters', ylabel='Count'>"
      ]
     },
     "execution_count": 52,
     "metadata": {},
     "output_type": "execute_result"
    },
    {
     "data": {
      "image/png": "[encoded data removed]",
      "text/plain": [
       "<Figure size 640x480 with 1 Axes>"
      ]
     },
     "metadata": {},
     "output_type": "display_data"
    }
   ],
   "source": [
    "# 0 is spam and 1 is ham\n",
    "sns.histplot(df[df['target']==0]['num_characters'],color='red')\n",
    "sns.histplot(df[df['target']==1]['num_characters'],color='yellow')"
   ]
  },
  {
   "cell_type": "code",
   "execution_count": 53,
   "id": "b76b5b31-c4fb-403d-8325-8a7d04980a19",
   "metadata": {},
   "outputs": [
    {
     "name": "stderr",
     "output_type": "stream",
     "text": [
      "No artists with labels found to put in legend.  Note that artists whose label start with an underscore are ignored when legend() is called with no argument.\n"
     ]
    },
    {
     "data": {
      "image/png": "[encoded data removed]",
      "text/plain": [
       "<Figure size 640x480 with 1 Axes>"
      ]
     },
     "metadata": {},
     "output_type": "display_data"
    }
   ],
   "source": [
    "sns.histplot(df[df['target']==0]['num_words'],color='red')\n",
    "sns.histplot(df[df['target']==1]['num_words'],color='yellow')\n",
    "plt.xlabel('Number of Words')\n",
    "plt.ylabel('Frequency')\n",
    "plt.legend()\n",
    "\n",
    "plt.savefig('histogram.png', bbox_inches='tight', pad_inches=1)"
   ]
  },
  {
   "cell_type": "code",
   "execution_count": 54,
   "id": "9bb8e90f-e7f1-495d-9e24-f7fa8ce3973c",
   "metadata": {},
   "outputs": [
    {
     "data": {
      "image/png": "[encoded data removed]",
      "text/plain": [
       "<Figure size 640x480 with 2 Axes>"
      ]
     },
     "metadata": {},
     "output_type": "display_data"
    }
   ],
   "source": [
    "#  0 spam and 1 ham we you have a DataFrame df and you want to include only numeric columns\n",
    "numeric_df = df.select_dtypes(include=[np.number])\n",
    "sns.heatmap(numeric_df.corr(), annot=True)\n",
    "\n",
    "plt.savefig('heatmap.png', bbox_inches='tight')"
   ]
  },
  {
   "cell_type": "markdown",
   "id": "bb4fe303-7fd7-4269-9372-0e632c477ce0",
   "metadata": {},
   "source": [
    "# wordcloud"
   ]
  },
  {
   "cell_type": "code",
   "execution_count": 55,
   "id": "46c5b8ae-9aff-48a6-8f4a-8a65bf4cb71c",
   "metadata": {},
   "outputs": [
    {
     "name": "stderr",
     "output_type": "stream",
     "text": [
      "[nltk_data] Downloading package stopwords to\n",
      "[nltk_data]     your/actual/nltk_data_directory...\n",
      "[nltk_data]   Unzipping corpora\\stopwords.zip.\n"
     ]
    }
   ],
   "source": [
    "import string\n",
    "import nltk\n",
    "from nltk.corpus import stopwords\n",
    "import string\n",
    "# Replace 'your/actual/nltk_data_directory' with the path you want to use\n",
    "nltk.data.path.append('your/actual/nltk_data_directory')\n",
    "# Download Bengali stopwords data\n",
    "nltk.download('stopwords', download_dir='your/actual/nltk_data_directory')\n",
    "\n",
    "def transform_text(text):\n",
    "    text = nltk.word_tokenize(text)\n",
    "    \n",
    "    y = []\n",
    "    for i in text:\n",
    "        if i.isalnum():\n",
    "            y.append(i)\n",
    "    \n",
    "    text = y[:]\n",
    "    y.clear()\n",
    "    \n",
    "    # Specify language as 'bengali'\n",
    "    for i in text:\n",
    "        if i not in stopwords.words('bengali') and i not in string.punctuation:\n",
    "            y.append(i)\n",
    "            \n",
    "    return \" \".join(y)"
   ]
  },
  {
   "cell_type": "code",
   "execution_count": 56,
   "id": "8a727aae-ddb3-4b51-8bf3-17a19d43204b",
   "metadata": {},
   "outputs": [],
   "source": [
    "df['transformed_text'] = df['text'].apply(transform_text)"
   ]
  },
  {
   "cell_type": "code",
   "execution_count": 57,
   "id": "34159d99-84e0-44b1-b129-79422e07d507",
   "metadata": {},
   "outputs": [],
   "source": [
    "from wordcloud import WordCloud\n",
    "wc = WordCloud(font_path='kalpurush.ttf',width=500,height=500,min_font_size=10,background_color='white')"
   ]
  },
  {
   "cell_type": "code",
   "execution_count": 58,
   "id": "a591b312-fb6d-4f65-8e9f-ed64bd2af1a1",
   "metadata": {},
   "outputs": [],
   "source": [
    "# 1 is ham\n",
    "ham_wc = wc.generate(df[df['target'] == 1]['transformed_text'].str.cat(sep=\" \"))"
   ]
  },
  {
   "cell_type": "code",
   "execution_count": 59,
   "id": "8bf9a131-59b2-42c7-abd5-083dc7ab6d76",
   "metadata": {},
   "outputs": [
    {
     "data": {
      "image/png": "[encoded data removed]",
      "text/plain": [
       "<Figure size 1500x600 with 1 Axes>"
      ]
     },
     "metadata": {},
     "output_type": "display_data"
    }
   ],
   "source": [
    "plt.figure(figsize=(15,6))\n",
    "plt.imshow(ham_wc)\n",
    "plt.axis('off')  # to turn off axis if needed\n",
    "plt.savefig('ham_wordcloud.png')"
   ]
  },
  {
   "cell_type": "code",
   "execution_count": 60,
   "id": "3c5768af-4f6f-49b2-b572-de210e9f779e",
   "metadata": {},
   "outputs": [
    {
     "data": {
      "text/plain": [
       "<Figure size 640x480 with 0 Axes>"
      ]
     },
     "metadata": {},
     "output_type": "display_data"
    }
   ],
   "source": [
    "plt.savefig('spam_wordcloud.png', bbox_inches='tight', pad_inches=0)"
   ]
  },
  {
   "cell_type": "code",
   "execution_count": 61,
   "id": "d862b86b-dc5c-4a27-affb-739b90718b85",
   "metadata": {},
   "outputs": [],
   "source": [
    "# 0 spam\n",
    "spam_wc = wc.generate(df[df['target'] == 0]['transformed_text'].str.cat(sep=\" \"))"
   ]
  },
  {
   "cell_type": "code",
   "execution_count": 62,
   "id": "96aeb7a6-1a61-459c-aa74-a3c8949f998c",
   "metadata": {},
   "outputs": [
    {
     "data": {
      "image/png": "[encoded data removed]",
      "text/plain": [
       "<Figure size 1500x600 with 1 Axes>"
      ]
     },
     "metadata": {},
     "output_type": "display_data"
    }
   ],
   "source": [
    "plt.figure(figsize=(15, 6))\n",
    "plt.imshow(spam_wc)\n",
    "plt.axis('off')  # to turn off axis if needed\n",
    "plt.savefig('spam_wordcloud.png', bbox_inches='tight', pad_inches=1)"
   ]
  },
  {
   "cell_type": "code",
   "execution_count": 63,
   "id": "f5a7c241-e8f7-4a99-9c57-2e1e35a6d034",
   "metadata": {},
   "outputs": [
    {
     "data": {
      "text/html": [
       "<div>\n",
       "<style scoped>\n",
       "    .dataframe tbody tr th:only-of-type {\n",
       "        vertical-align: middle;\n",
       "    }\n",
       "\n",
       "    .dataframe tbody tr th {\n",
       "        vertical-align: top;\n",
       "    }\n",
       "\n",
       "    .dataframe thead th {\n",
       "        text-align: right;\n",
       "    }\n",
       "</style>\n",
       "<table border=\"1\" class=\"dataframe\">\n",
       "  <thead>\n",
       "    <tr style=\"text-align: right;\">\n",
       "      <th></th>\n",
       "      <th>text</th>\n",
       "      <th>target</th>\n",
       "      <th>Label</th>\n",
       "      <th>num_words</th>\n",
       "      <th>num_sentences</th>\n",
       "      <th>num_characters</th>\n",
       "      <th>transformed_text</th>\n",
       "    </tr>\n",
       "  </thead>\n",
       "  <tbody>\n",
       "    <tr>\n",
       "      <th>0</th>\n",
       "      <td>এলাকায় আসিস খুন ফেলে রাখবো তকে আমারে ত চিনিস ত...</td>\n",
       "      <td>0</td>\n",
       "      <td>1</td>\n",
       "      <td>12</td>\n",
       "      <td>1</td>\n",
       "      <td>58</td>\n",
       "      <td>ত</td>\n",
       "    </tr>\n",
       "    <tr>\n",
       "      <th>1</th>\n",
       "      <td>কুরআন কিতাব টাই ভুল অন্য ধর্ম ঝাড়া আল্লাহ কাল্...</td>\n",
       "      <td>0</td>\n",
       "      <td>1</td>\n",
       "      <td>19</td>\n",
       "      <td>1</td>\n",
       "      <td>110</td>\n",
       "      <td></td>\n",
       "    </tr>\n",
       "    <tr>\n",
       "      <th>2</th>\n",
       "      <td>বাংলাদেশি খেলোয়ারদের খারাপ আচরনের আইসিসি আদালত...</td>\n",
       "      <td>1</td>\n",
       "      <td>0</td>\n",
       "      <td>11</td>\n",
       "      <td>1</td>\n",
       "      <td>80</td>\n",
       "      <td>কর</td>\n",
       "    </tr>\n",
       "    <tr>\n",
       "      <th>3</th>\n",
       "      <td>তুই ভুলে যাইস আগের কথা সামনে পাইলে ছিড়া ফেলমু</td>\n",
       "      <td>0</td>\n",
       "      <td>1</td>\n",
       "      <td>9</td>\n",
       "      <td>1</td>\n",
       "      <td>45</td>\n",
       "      <td></td>\n",
       "    </tr>\n",
       "    <tr>\n",
       "      <th>4</th>\n",
       "      <td>কেনো শুধু শুধু অন্যের ঘাড়ে পা রেখে উপরে উঠতে চ...</td>\n",
       "      <td>1</td>\n",
       "      <td>0</td>\n",
       "      <td>32</td>\n",
       "      <td>1</td>\n",
       "      <td>187</td>\n",
       "      <td>মই</td>\n",
       "    </tr>\n",
       "  </tbody>\n",
       "</table>\n",
       "</div>"
      ],
      "text/plain": [
       "                                                text  target  Label  \\\n",
       "0  এলাকায় আসিস খুন ফেলে রাখবো তকে আমারে ত চিনিস ত...       0      1   \n",
       "1  কুরআন কিতাব টাই ভুল অন্য ধর্ম ঝাড়া আল্লাহ কাল্...       0      1   \n",
       "2  বাংলাদেশি খেলোয়ারদের খারাপ আচরনের আইসিসি আদালত...       1      0   \n",
       "3      তুই ভুলে যাইস আগের কথা সামনে পাইলে ছিড়া ফেলমু       0      1   \n",
       "4  কেনো শুধু শুধু অন্যের ঘাড়ে পা রেখে উপরে উঠতে চ...       1      0   \n",
       "\n",
       "   num_words  num_sentences  num_characters transformed_text  \n",
       "0         12              1              58                ত  \n",
       "1         19              1             110                   \n",
       "2         11              1              80               কর  \n",
       "3          9              1              45                   \n",
       "4         32              1             187               মই  "
      ]
     },
     "execution_count": 63,
     "metadata": {},
     "output_type": "execute_result"
    }
   ],
   "source": [
    "df.head()"
   ]
  },
  {
   "cell_type": "code",
   "execution_count": null,
   "id": "8f5f6fee-5de1-43f3-a243-03ee41521fa4",
   "metadata": {},
   "outputs": [],
   "source": []
  },
  {
   "cell_type": "markdown",
   "id": "7f195bb9-b41c-4d16-9b73-07bf09e6f197",
   "metadata": {},
   "source": [
    "# This section is for model creating and building"
   ]
  },
  {
   "cell_type": "code",
   "execution_count": 64,
   "id": "8aJ-kkPag9TK",
   "metadata": {
    "id": "8aJ-kkPag9TK"
   },
   "outputs": [],
   "source": [
    "x = df.text.values\n",
    "y = df.target.values"
   ]
  },
  {
   "cell_type": "code",
   "execution_count": 65,
   "id": "EqCWZbVbh--K",
   "metadata": {
    "id": "EqCWZbVbh--K"
   },
   "outputs": [],
   "source": [
    "from sklearn.model_selection import train_test_split"
   ]
  },
  {
   "cell_type": "code",
   "execution_count": 66,
   "id": "1tcK_kZBh_Gd",
   "metadata": {
    "id": "1tcK_kZBh_Gd"
   },
   "outputs": [],
   "source": [
    "xtrain,xtest,ytrain,ytest=train_test_split(x,y,test_size=0.3,random_state=42)"
   ]
  },
  {
   "cell_type": "code",
   "execution_count": 67,
   "id": "ybefqSCKh_Lz",
   "metadata": {
    "id": "ybefqSCKh_Lz"
   },
   "outputs": [],
   "source": [
    "from sklearn.feature_extraction.text import CountVectorizer"
   ]
  },
  {
   "cell_type": "code",
   "execution_count": 68,
   "id": "MRSq9XQWh_TO",
   "metadata": {
    "id": "MRSq9XQWh_TO"
   },
   "outputs": [],
   "source": [
    "cv = CountVectorizer()\n",
    "x_train=cv.fit_transform(xtrain)"
   ]
  },
  {
   "cell_type": "code",
   "execution_count": 69,
   "id": "W22_Dnl-iujG",
   "metadata": {
    "colab": {
     "base_uri": "https://localhost:8080/"
    },
    "id": "W22_Dnl-iujG",
    "outputId": "e0e274e3-e6a1-4b11-a0be-165801b2c3fb"
   },
   "outputs": [
    {
     "data": {
      "text/plain": [
       "array([[0, 0, 0, ..., 0, 0, 0],\n",
       "       [0, 0, 0, ..., 0, 0, 0],\n",
       "       [0, 0, 0, ..., 0, 0, 0],\n",
       "       ...,\n",
       "       [0, 0, 0, ..., 0, 0, 0],\n",
       "       [0, 0, 0, ..., 0, 0, 0],\n",
       "       [0, 0, 0, ..., 0, 0, 0]], dtype=int64)"
      ]
     },
     "execution_count": 69,
     "metadata": {},
     "output_type": "execute_result"
    }
   ],
   "source": [
    "x_train.toarray()\n"
   ]
  },
  {
   "cell_type": "code",
   "execution_count": 70,
   "id": "f556Sjf8iumH",
   "metadata": {
    "id": "f556Sjf8iumH"
   },
   "outputs": [],
   "source": [
    "from sklearn.naive_bayes import MultinomialNB,BernoulliNB\n",
    "from sklearn.metrics import accuracy_score, confusion_matrix, precision_score"
   ]
  },
  {
   "cell_type": "markdown",
   "id": "20a421c9-b7c1-496c-8445-1c230cce2628",
   "metadata": {},
   "source": [
    "# This is for multinomialNB"
   ]
  },
  {
   "cell_type": "code",
   "execution_count": 71,
   "id": "Wqqaq3vKiuog",
   "metadata": {
    "colab": {
     "base_uri": "https://localhost:8080/",
     "height": 74
    },
    "id": "Wqqaq3vKiuog",
    "outputId": "aaba5c62-5938-4fa7-8ada-891f9fb58673"
   },
   "outputs": [
    {
     "data": {
      "text/html": [
       "<style>#sk-container-id-1 {color: black;}#sk-container-id-1 pre{padding: 0;}#sk-container-id-1 div.sk-toggleable {background-color: white;}#sk-container-id-1 label.sk-toggleable__label {cursor: pointer;display: block;width: 100%;margin-bottom: 0;padding: 0.3em;box-sizing: border-box;text-align: center;}#sk-container-id-1 label.sk-toggleable__label-arrow:before {content: \"▸\";float: left;margin-right: 0.25em;color: #696969;}#sk-container-id-1 label.sk-toggleable__label-arrow:hover:before {color: black;}#sk-container-id-1 div.sk-estimator:hover label.sk-toggleable__label-arrow:before {color: black;}#sk-container-id-1 div.sk-toggleable__content {max-height: 0;max-width: 0;overflow: hidden;text-align: left;background-color: #f0f8ff;}#sk-container-id-1 div.sk-toggleable__content pre {margin: 0.2em;color: black;border-radius: 0.25em;background-color: #f0f8ff;}#sk-container-id-1 input.sk-toggleable__control:checked~div.sk-toggleable__content {max-height: 200px;max-width: 100%;overflow: auto;}#sk-container-id-1 input.sk-toggleable__control:checked~label.sk-toggleable__label-arrow:before {content: \"▾\";}#sk-container-id-1 div.sk-estimator input.sk-toggleable__control:checked~label.sk-toggleable__label {background-color: #d4ebff;}#sk-container-id-1 div.sk-label input.sk-toggleable__control:checked~label.sk-toggleable__label {background-color: #d4ebff;}#sk-container-id-1 input.sk-hidden--visually {border: 0;clip: rect(1px 1px 1px 1px);clip: rect(1px, 1px, 1px, 1px);height: 1px;margin: -1px;overflow: hidden;padding: 0;position: absolute;width: 1px;}#sk-container-id-1 div.sk-estimator {font-family: monospace;background-color: #f0f8ff;border: 1px dotted black;border-radius: 0.25em;box-sizing: border-box;margin-bottom: 0.5em;}#sk-container-id-1 div.sk-estimator:hover {background-color: #d4ebff;}#sk-container-id-1 div.sk-parallel-item::after {content: \"\";width: 100%;border-bottom: 1px solid gray;flex-grow: 1;}#sk-container-id-1 div.sk-label:hover label.sk-toggleable__label {background-color: #d4ebff;}#sk-container-id-1 div.sk-serial::before {content: \"\";position: absolute;border-left: 1px solid gray;box-sizing: border-box;top: 0;bottom: 0;left: 50%;z-index: 0;}#sk-container-id-1 div.sk-serial {display: flex;flex-direction: column;align-items: center;background-color: white;padding-right: 0.2em;padding-left: 0.2em;position: relative;}#sk-container-id-1 div.sk-item {position: relative;z-index: 1;}#sk-container-id-1 div.sk-parallel {display: flex;align-items: stretch;justify-content: center;background-color: white;position: relative;}#sk-container-id-1 div.sk-item::before, #sk-container-id-1 div.sk-parallel-item::before {content: \"\";position: absolute;border-left: 1px solid gray;box-sizing: border-box;top: 0;bottom: 0;left: 50%;z-index: -1;}#sk-container-id-1 div.sk-parallel-item {display: flex;flex-direction: column;z-index: 1;position: relative;background-color: white;}#sk-container-id-1 div.sk-parallel-item:first-child::after {align-self: flex-end;width: 50%;}#sk-container-id-1 div.sk-parallel-item:last-child::after {align-self: flex-start;width: 50%;}#sk-container-id-1 div.sk-parallel-item:only-child::after {width: 0;}#sk-container-id-1 div.sk-dashed-wrapped {border: 1px dashed gray;margin: 0 0.4em 0.5em 0.4em;box-sizing: border-box;padding-bottom: 0.4em;background-color: white;}#sk-container-id-1 div.sk-label label {font-family: monospace;font-weight: bold;display: inline-block;line-height: 1.2em;}#sk-container-id-1 div.sk-label-container {text-align: center;}#sk-container-id-1 div.sk-container {/* jupyter's `normalize.less` sets `[hidden] { display: none; }` but bootstrap.min.css set `[hidden] { display: none !important; }` so we also need the `!important` here to be able to override the default hidden behavior on the sphinx rendered scikit-learn.org. See: https://github.com/scikit-learn/scikit-learn/issues/21755 */display: inline-block !important;position: relative;}#sk-container-id-1 div.sk-text-repr-fallback {display: none;}</style><div id=\"sk-container-id-1\" class=\"sk-top-container\"><div class=\"sk-text-repr-fallback\"><pre>MultinomialNB()</pre><b>In a Jupyter environment, please rerun this cell to show the HTML representation or trust the notebook. <br />On GitHub, the HTML representation is unable to render, please try loading this page with nbviewer.org.</b></div><div class=\"sk-container\" hidden><div class=\"sk-item\"><div class=\"sk-estimator sk-toggleable\"><input class=\"sk-toggleable__control sk-hidden--visually\" id=\"sk-estimator-id-1\" type=\"checkbox\" checked><label for=\"sk-estimator-id-1\" class=\"sk-toggleable__label sk-toggleable__label-arrow\">MultinomialNB</label><div class=\"sk-toggleable__content\"><pre>MultinomialNB()</pre></div></div></div></div></div>"
      ],
      "text/plain": [
       "MultinomialNB()"
      ]
     },
     "execution_count": 71,
     "metadata": {},
     "output_type": "execute_result"
    }
   ],
   "source": [
    "x_train_dense = x_train.toarray()\n",
    "model = MultinomialNB()\n",
    "model.fit(x_train_dense,ytrain)"
   ]
  },
  {
   "cell_type": "code",
   "execution_count": 72,
   "id": "da52426d-f4cd-47d1-94ae-522b4711d919",
   "metadata": {},
   "outputs": [],
   "source": [
    "x_test= cv.transform(xtest)"
   ]
  },
  {
   "cell_type": "code",
   "execution_count": 73,
   "id": "34b14f0c-43ce-4ad5-b2d9-8014b516af5f",
   "metadata": {},
   "outputs": [
    {
     "data": {
      "text/plain": [
       "array([[0, 0, 0, ..., 0, 0, 0],\n",
       "       [0, 0, 0, ..., 0, 0, 0],\n",
       "       [0, 0, 0, ..., 0, 0, 0],\n",
       "       ...,\n",
       "       [0, 0, 0, ..., 0, 0, 0],\n",
       "       [0, 0, 0, ..., 0, 0, 0],\n",
       "       [0, 0, 0, ..., 0, 0, 0]], dtype=int64)"
      ]
     },
     "execution_count": 73,
     "metadata": {},
     "output_type": "execute_result"
    }
   ],
   "source": [
    "x_test.toarray()"
   ]
  },
  {
   "cell_type": "code",
   "execution_count": 74,
   "id": "bc037114-ff72-4898-9ee8-16adedf10ae8",
   "metadata": {},
   "outputs": [
    {
     "name": "stdout",
     "output_type": "stream",
     "text": [
      "Accuracy: 0.777744630071599\n"
     ]
    }
   ],
   "source": [
    "x_test_dense = x_test.toarray()\n",
    "accuracy = model.score(x_test_dense, ytest)\n",
    "print(\"Accuracy:\", accuracy)"
   ]
  },
  {
   "cell_type": "code",
   "execution_count": 75,
   "id": "56ba335b-c7cb-4edd-91a8-ede9a3984e23",
   "metadata": {},
   "outputs": [
    {
     "data": {
      "text/plain": [
       "0.8282608695652174"
      ]
     },
     "execution_count": 75,
     "metadata": {},
     "output_type": "execute_result"
    }
   ],
   "source": [
    "model.score(x_train_dense,ytrain)"
   ]
  },
  {
   "cell_type": "raw",
   "id": "72aa879d-a6cf-4491-885b-324cb138392e",
   "metadata": {},
   "source": [
    "PERFORMANCE ANALYSIS"
   ]
  },
  {
   "cell_type": "code",
   "execution_count": 76,
   "id": "5ad17093-19b7-4a90-8d31-fdd612796fb9",
   "metadata": {},
   "outputs": [
    {
     "data": {
      "text/plain": [
       "array([1, 0, 1, ..., 1, 1, 0])"
      ]
     },
     "execution_count": 76,
     "metadata": {},
     "output_type": "execute_result"
    }
   ],
   "source": [
    "pred = model.predict(x_test_dense)\n",
    "pred"
   ]
  },
  {
   "cell_type": "code",
   "execution_count": 77,
   "id": "542c0046-1310-4b2d-a94a-76b5dc9e2db2",
   "metadata": {},
   "outputs": [
    {
     "data": {
      "text/plain": [
       "array([[1217,  421],\n",
       "       [ 324, 1390]], dtype=int64)"
      ]
     },
     "execution_count": 77,
     "metadata": {},
     "output_type": "execute_result"
    }
   ],
   "source": [
    "confusion_matrix(ytest,pred)"
   ]
  },
  {
   "cell_type": "code",
   "execution_count": 78,
   "id": "09c59b67-976e-451c-b01a-1d06a46d66f7",
   "metadata": {},
   "outputs": [
    {
     "name": "stdout",
     "output_type": "stream",
     "text": [
      "              precision    recall  f1-score   support\n",
      "\n",
      "           0       0.79      0.74      0.77      1638\n",
      "           1       0.77      0.81      0.79      1714\n",
      "\n",
      "    accuracy                           0.78      3352\n",
      "   macro avg       0.78      0.78      0.78      3352\n",
      "weighted avg       0.78      0.78      0.78      3352\n",
      "\n"
     ]
    }
   ],
   "source": [
    "from sklearn.metrics import classification_report\n",
    "print(classification_report(ytest,pred))"
   ]
  },
  {
   "cell_type": "markdown",
   "id": "9f91a9c4-1cd3-4f65-80db-6119a781f2c8",
   "metadata": {},
   "source": [
    "# This is for bernouliNB"
   ]
  },
  {
   "cell_type": "code",
   "execution_count": 79,
   "id": "029802c4-72d5-4310-b764-e63cd3bb0940",
   "metadata": {},
   "outputs": [
    {
     "data": {
      "text/html": [
       "<style>#sk-container-id-2 {color: black;}#sk-container-id-2 pre{padding: 0;}#sk-container-id-2 div.sk-toggleable {background-color: white;}#sk-container-id-2 label.sk-toggleable__label {cursor: pointer;display: block;width: 100%;margin-bottom: 0;padding: 0.3em;box-sizing: border-box;text-align: center;}#sk-container-id-2 label.sk-toggleable__label-arrow:before {content: \"▸\";float: left;margin-right: 0.25em;color: #696969;}#sk-container-id-2 label.sk-toggleable__label-arrow:hover:before {color: black;}#sk-container-id-2 div.sk-estimator:hover label.sk-toggleable__label-arrow:before {color: black;}#sk-container-id-2 div.sk-toggleable__content {max-height: 0;max-width: 0;overflow: hidden;text-align: left;background-color: #f0f8ff;}#sk-container-id-2 div.sk-toggleable__content pre {margin: 0.2em;color: black;border-radius: 0.25em;background-color: #f0f8ff;}#sk-container-id-2 input.sk-toggleable__control:checked~div.sk-toggleable__content {max-height: 200px;max-width: 100%;overflow: auto;}#sk-container-id-2 input.sk-toggleable__control:checked~label.sk-toggleable__label-arrow:before {content: \"▾\";}#sk-container-id-2 div.sk-estimator input.sk-toggleable__control:checked~label.sk-toggleable__label {background-color: #d4ebff;}#sk-container-id-2 div.sk-label input.sk-toggleable__control:checked~label.sk-toggleable__label {background-color: #d4ebff;}#sk-container-id-2 input.sk-hidden--visually {border: 0;clip: rect(1px 1px 1px 1px);clip: rect(1px, 1px, 1px, 1px);height: 1px;margin: -1px;overflow: hidden;padding: 0;position: absolute;width: 1px;}#sk-container-id-2 div.sk-estimator {font-family: monospace;background-color: #f0f8ff;border: 1px dotted black;border-radius: 0.25em;box-sizing: border-box;margin-bottom: 0.5em;}#sk-container-id-2 div.sk-estimator:hover {background-color: #d4ebff;}#sk-container-id-2 div.sk-parallel-item::after {content: \"\";width: 100%;border-bottom: 1px solid gray;flex-grow: 1;}#sk-container-id-2 div.sk-label:hover label.sk-toggleable__label {background-color: #d4ebff;}#sk-container-id-2 div.sk-serial::before {content: \"\";position: absolute;border-left: 1px solid gray;box-sizing: border-box;top: 0;bottom: 0;left: 50%;z-index: 0;}#sk-container-id-2 div.sk-serial {display: flex;flex-direction: column;align-items: center;background-color: white;padding-right: 0.2em;padding-left: 0.2em;position: relative;}#sk-container-id-2 div.sk-item {position: relative;z-index: 1;}#sk-container-id-2 div.sk-parallel {display: flex;align-items: stretch;justify-content: center;background-color: white;position: relative;}#sk-container-id-2 div.sk-item::before, #sk-container-id-2 div.sk-parallel-item::before {content: \"\";position: absolute;border-left: 1px solid gray;box-sizing: border-box;top: 0;bottom: 0;left: 50%;z-index: -1;}#sk-container-id-2 div.sk-parallel-item {display: flex;flex-direction: column;z-index: 1;position: relative;background-color: white;}#sk-container-id-2 div.sk-parallel-item:first-child::after {align-self: flex-end;width: 50%;}#sk-container-id-2 div.sk-parallel-item:last-child::after {align-self: flex-start;width: 50%;}#sk-container-id-2 div.sk-parallel-item:only-child::after {width: 0;}#sk-container-id-2 div.sk-dashed-wrapped {border: 1px dashed gray;margin: 0 0.4em 0.5em 0.4em;box-sizing: border-box;padding-bottom: 0.4em;background-color: white;}#sk-container-id-2 div.sk-label label {font-family: monospace;font-weight: bold;display: inline-block;line-height: 1.2em;}#sk-container-id-2 div.sk-label-container {text-align: center;}#sk-container-id-2 div.sk-container {/* jupyter's `normalize.less` sets `[hidden] { display: none; }` but bootstrap.min.css set `[hidden] { display: none !important; }` so we also need the `!important` here to be able to override the default hidden behavior on the sphinx rendered scikit-learn.org. See: https://github.com/scikit-learn/scikit-learn/issues/21755 */display: inline-block !important;position: relative;}#sk-container-id-2 div.sk-text-repr-fallback {display: none;}</style><div id=\"sk-container-id-2\" class=\"sk-top-container\"><div class=\"sk-text-repr-fallback\"><pre>BernoulliNB()</pre><b>In a Jupyter environment, please rerun this cell to show the HTML representation or trust the notebook. <br />On GitHub, the HTML representation is unable to render, please try loading this page with nbviewer.org.</b></div><div class=\"sk-container\" hidden><div class=\"sk-item\"><div class=\"sk-estimator sk-toggleable\"><input class=\"sk-toggleable__control sk-hidden--visually\" id=\"sk-estimator-id-2\" type=\"checkbox\" checked><label for=\"sk-estimator-id-2\" class=\"sk-toggleable__label sk-toggleable__label-arrow\">BernoulliNB</label><div class=\"sk-toggleable__content\"><pre>BernoulliNB()</pre></div></div></div></div></div>"
      ],
      "text/plain": [
       "BernoulliNB()"
      ]
     },
     "execution_count": 79,
     "metadata": {},
     "output_type": "execute_result"
    }
   ],
   "source": [
    "x_train_dense = x_train.toarray()\n",
    "model1 = BernoulliNB()\n",
    "model1.fit(x_train_dense,ytrain)"
   ]
  },
  {
   "cell_type": "code",
   "execution_count": 80,
   "id": "1c70b2f9-2c5b-4d96-91a9-5735d6227a30",
   "metadata": {},
   "outputs": [
    {
     "data": {
      "text/plain": [
       "array([[0, 0, 0, ..., 0, 0, 0],\n",
       "       [0, 0, 0, ..., 0, 0, 0],\n",
       "       [0, 0, 0, ..., 0, 0, 0],\n",
       "       ...,\n",
       "       [0, 0, 0, ..., 0, 0, 0],\n",
       "       [0, 0, 0, ..., 0, 0, 0],\n",
       "       [0, 0, 0, ..., 0, 0, 0]], dtype=int64)"
      ]
     },
     "execution_count": 80,
     "metadata": {},
     "output_type": "execute_result"
    }
   ],
   "source": [
    "x_test= cv.transform(xtest)\n",
    "x_test.toarray()"
   ]
  },
  {
   "cell_type": "code",
   "execution_count": 81,
   "id": "d7225ba4-6ca5-4b74-b5bd-47aa3ad6e572",
   "metadata": {},
   "outputs": [
    {
     "name": "stdout",
     "output_type": "stream",
     "text": [
      "Accuracy: 0.7526849642004774\n"
     ]
    }
   ],
   "source": [
    "x_test_dense = x_test.toarray()\n",
    "accuracy = model1.score(x_test_dense, ytest)\n",
    "print(\"Accuracy:\", accuracy)"
   ]
  },
  {
   "cell_type": "code",
   "execution_count": 82,
   "id": "b195ab9d-dd51-4e6e-a754-969d0ee0ce5c",
   "metadata": {},
   "outputs": [
    {
     "data": {
      "text/plain": [
       "0.7847826086956522"
      ]
     },
     "execution_count": 82,
     "metadata": {},
     "output_type": "execute_result"
    }
   ],
   "source": [
    "model1.score(x_train_dense,ytrain)"
   ]
  },
  {
   "cell_type": "raw",
   "id": "5079c3e4-8245-4837-bbc6-6b1b077dcc1d",
   "metadata": {},
   "source": [
    "# THIS IS FOR PERFORMANCE ANALYSIS"
   ]
  },
  {
   "cell_type": "code",
   "execution_count": 83,
   "id": "3edc7107-d73a-40f7-a6c1-a9bdf44676fc",
   "metadata": {},
   "outputs": [
    {
     "data": {
      "text/plain": [
       "array([1, 0, 1, ..., 0, 0, 0])"
      ]
     },
     "execution_count": 83,
     "metadata": {},
     "output_type": "execute_result"
    }
   ],
   "source": [
    "pred = model1.predict(x_test_dense)\n",
    "pred"
   ]
  },
  {
   "cell_type": "code",
   "execution_count": 84,
   "id": "12462d82-db23-4cbe-b3aa-fcabba1f774e",
   "metadata": {},
   "outputs": [
    {
     "data": {
      "text/plain": [
       "array([[1469,  169],\n",
       "       [ 660, 1054]], dtype=int64)"
      ]
     },
     "execution_count": 84,
     "metadata": {},
     "output_type": "execute_result"
    }
   ],
   "source": [
    "confusion_matrix(ytest,pred)"
   ]
  },
  {
   "cell_type": "code",
   "execution_count": 85,
   "id": "a4097b9e-e1b5-4f1a-bed1-0752d6d8dc1a",
   "metadata": {},
   "outputs": [
    {
     "name": "stdout",
     "output_type": "stream",
     "text": [
      "              precision    recall  f1-score   support\n",
      "\n",
      "           0       0.69      0.90      0.78      1638\n",
      "           1       0.86      0.61      0.72      1714\n",
      "\n",
      "    accuracy                           0.75      3352\n",
      "   macro avg       0.78      0.76      0.75      3352\n",
      "weighted avg       0.78      0.75      0.75      3352\n",
      "\n"
     ]
    }
   ],
   "source": [
    "from sklearn.metrics import classification_report\n",
    "print(classification_report(ytest,pred))"
   ]
  },
  {
   "cell_type": "markdown",
   "id": "64a2b165-1447-43cf-851f-5a08719f2252",
   "metadata": {},
   "source": [
    "# This is for Random forest classifier"
   ]
  },
  {
   "cell_type": "code",
   "execution_count": 86,
   "id": "e575e5f5-a814-45f9-b055-501e9fe95a29",
   "metadata": {},
   "outputs": [
    {
     "data": {
      "text/html": [
       "<style>#sk-container-id-3 {color: black;}#sk-container-id-3 pre{padding: 0;}#sk-container-id-3 div.sk-toggleable {background-color: white;}#sk-container-id-3 label.sk-toggleable__label {cursor: pointer;display: block;width: 100%;margin-bottom: 0;padding: 0.3em;box-sizing: border-box;text-align: center;}#sk-container-id-3 label.sk-toggleable__label-arrow:before {content: \"▸\";float: left;margin-right: 0.25em;color: #696969;}#sk-container-id-3 label.sk-toggleable__label-arrow:hover:before {color: black;}#sk-container-id-3 div.sk-estimator:hover label.sk-toggleable__label-arrow:before {color: black;}#sk-container-id-3 div.sk-toggleable__content {max-height: 0;max-width: 0;overflow: hidden;text-align: left;background-color: #f0f8ff;}#sk-container-id-3 div.sk-toggleable__content pre {margin: 0.2em;color: black;border-radius: 0.25em;background-color: #f0f8ff;}#sk-container-id-3 input.sk-toggleable__control:checked~div.sk-toggleable__content {max-height: 200px;max-width: 100%;overflow: auto;}#sk-container-id-3 input.sk-toggleable__control:checked~label.sk-toggleable__label-arrow:before {content: \"▾\";}#sk-container-id-3 div.sk-estimator input.sk-toggleable__control:checked~label.sk-toggleable__label {background-color: #d4ebff;}#sk-container-id-3 div.sk-label input.sk-toggleable__control:checked~label.sk-toggleable__label {background-color: #d4ebff;}#sk-container-id-3 input.sk-hidden--visually {border: 0;clip: rect(1px 1px 1px 1px);clip: rect(1px, 1px, 1px, 1px);height: 1px;margin: -1px;overflow: hidden;padding: 0;position: absolute;width: 1px;}#sk-container-id-3 div.sk-estimator {font-family: monospace;background-color: #f0f8ff;border: 1px dotted black;border-radius: 0.25em;box-sizing: border-box;margin-bottom: 0.5em;}#sk-container-id-3 div.sk-estimator:hover {background-color: #d4ebff;}#sk-container-id-3 div.sk-parallel-item::after {content: \"\";width: 100%;border-bottom: 1px solid gray;flex-grow: 1;}#sk-container-id-3 div.sk-label:hover label.sk-toggleable__label {background-color: #d4ebff;}#sk-container-id-3 div.sk-serial::before {content: \"\";position: absolute;border-left: 1px solid gray;box-sizing: border-box;top: 0;bottom: 0;left: 50%;z-index: 0;}#sk-container-id-3 div.sk-serial {display: flex;flex-direction: column;align-items: center;background-color: white;padding-right: 0.2em;padding-left: 0.2em;position: relative;}#sk-container-id-3 div.sk-item {position: relative;z-index: 1;}#sk-container-id-3 div.sk-parallel {display: flex;align-items: stretch;justify-content: center;background-color: white;position: relative;}#sk-container-id-3 div.sk-item::before, #sk-container-id-3 div.sk-parallel-item::before {content: \"\";position: absolute;border-left: 1px solid gray;box-sizing: border-box;top: 0;bottom: 0;left: 50%;z-index: -1;}#sk-container-id-3 div.sk-parallel-item {display: flex;flex-direction: column;z-index: 1;position: relative;background-color: white;}#sk-container-id-3 div.sk-parallel-item:first-child::after {align-self: flex-end;width: 50%;}#sk-container-id-3 div.sk-parallel-item:last-child::after {align-self: flex-start;width: 50%;}#sk-container-id-3 div.sk-parallel-item:only-child::after {width: 0;}#sk-container-id-3 div.sk-dashed-wrapped {border: 1px dashed gray;margin: 0 0.4em 0.5em 0.4em;box-sizing: border-box;padding-bottom: 0.4em;background-color: white;}#sk-container-id-3 div.sk-label label {font-family: monospace;font-weight: bold;display: inline-block;line-height: 1.2em;}#sk-container-id-3 div.sk-label-container {text-align: center;}#sk-container-id-3 div.sk-container {/* jupyter's `normalize.less` sets `[hidden] { display: none; }` but bootstrap.min.css set `[hidden] { display: none !important; }` so we also need the `!important` here to be able to override the default hidden behavior on the sphinx rendered scikit-learn.org. See: https://github.com/scikit-learn/scikit-learn/issues/21755 */display: inline-block !important;position: relative;}#sk-container-id-3 div.sk-text-repr-fallback {display: none;}</style><div id=\"sk-container-id-3\" class=\"sk-top-container\"><div class=\"sk-text-repr-fallback\"><pre>RandomForestClassifier(n_estimators=190, random_state=100)</pre><b>In a Jupyter environment, please rerun this cell to show the HTML representation or trust the notebook. <br />On GitHub, the HTML representation is unable to render, please try loading this page with nbviewer.org.</b></div><div class=\"sk-container\" hidden><div class=\"sk-item\"><div class=\"sk-estimator sk-toggleable\"><input class=\"sk-toggleable__control sk-hidden--visually\" id=\"sk-estimator-id-3\" type=\"checkbox\" checked><label for=\"sk-estimator-id-3\" class=\"sk-toggleable__label sk-toggleable__label-arrow\">RandomForestClassifier</label><div class=\"sk-toggleable__content\"><pre>RandomForestClassifier(n_estimators=190, random_state=100)</pre></div></div></div></div></div>"
      ],
      "text/plain": [
       "RandomForestClassifier(n_estimators=190, random_state=100)"
      ]
     },
     "execution_count": 86,
     "metadata": {},
     "output_type": "execute_result"
    }
   ],
   "source": [
    "from sklearn.ensemble import RandomForestClassifier\n",
    "rf_model = RandomForestClassifier(n_estimators=190, random_state=100)\n",
    "rf_model.fit(x_train, ytrain)"
   ]
  },
  {
   "cell_type": "code",
   "execution_count": 87,
   "id": "d4783e51-7eb5-4f5b-8c95-79dc022c315c",
   "metadata": {},
   "outputs": [
    {
     "data": {
      "text/plain": [
       "array([[0, 0, 0, ..., 0, 0, 0],\n",
       "       [0, 0, 0, ..., 0, 0, 0],\n",
       "       [0, 0, 0, ..., 0, 0, 0],\n",
       "       ...,\n",
       "       [0, 0, 0, ..., 0, 0, 0],\n",
       "       [0, 0, 0, ..., 0, 0, 0],\n",
       "       [0, 0, 0, ..., 0, 0, 0]], dtype=int64)"
      ]
     },
     "execution_count": 87,
     "metadata": {},
     "output_type": "execute_result"
    }
   ],
   "source": [
    "x_test= cv.transform(xtest)\n",
    "x_test.toarray()"
   ]
  },
  {
   "cell_type": "code",
   "execution_count": 88,
   "id": "44a7b0c0-f724-45b7-a813-06c5b395d659",
   "metadata": {},
   "outputs": [
    {
     "name": "stdout",
     "output_type": "stream",
     "text": [
      "Accuracy: 0.7819212410501193\n"
     ]
    }
   ],
   "source": [
    "accuracy = rf_model.score(x_test, ytest)\n",
    "print(\"Accuracy:\", accuracy)"
   ]
  },
  {
   "cell_type": "code",
   "execution_count": 89,
   "id": "6b07b699-4f97-4279-82ee-4a6376d0213d",
   "metadata": {},
   "outputs": [
    {
     "data": {
      "text/plain": [
       "0.9956521739130435"
      ]
     },
     "execution_count": 89,
     "metadata": {},
     "output_type": "execute_result"
    }
   ],
   "source": [
    "rf_model.score(x_train,ytrain)"
   ]
  },
  {
   "cell_type": "raw",
   "id": "4cc0f74e-9968-48a3-a6c4-e670938fa226",
   "metadata": {},
   "source": [
    "# performance analysis"
   ]
  },
  {
   "cell_type": "code",
   "execution_count": 90,
   "id": "86cab61a-341d-4159-b42b-0cd85fdd34e2",
   "metadata": {},
   "outputs": [
    {
     "data": {
      "text/plain": [
       "array([1, 0, 1, ..., 0, 0, 0])"
      ]
     },
     "execution_count": 90,
     "metadata": {},
     "output_type": "execute_result"
    }
   ],
   "source": [
    "pred = rf_model.predict(x_test)\n",
    "pred"
   ]
  },
  {
   "cell_type": "code",
   "execution_count": 91,
   "id": "58f20d34-e3f8-45df-96ae-11c2d92f231c",
   "metadata": {},
   "outputs": [
    {
     "data": {
      "text/plain": [
       "array([[1311,  327],\n",
       "       [ 404, 1310]], dtype=int64)"
      ]
     },
     "execution_count": 91,
     "metadata": {},
     "output_type": "execute_result"
    }
   ],
   "source": [
    "confusion_matrix(ytest,pred)"
   ]
  },
  {
   "cell_type": "code",
   "execution_count": 92,
   "id": "12adc4f8-0ebb-4112-a05d-d6606c89d3c7",
   "metadata": {},
   "outputs": [
    {
     "name": "stdout",
     "output_type": "stream",
     "text": [
      "              precision    recall  f1-score   support\n",
      "\n",
      "           0       0.76      0.80      0.78      1638\n",
      "           1       0.80      0.76      0.78      1714\n",
      "\n",
      "    accuracy                           0.78      3352\n",
      "   macro avg       0.78      0.78      0.78      3352\n",
      "weighted avg       0.78      0.78      0.78      3352\n",
      "\n"
     ]
    }
   ],
   "source": [
    "from sklearn.metrics import classification_report\n",
    "print(classification_report(ytest,pred))"
   ]
  },
  {
   "cell_type": "markdown",
   "id": "eb229fb1-e1a4-4626-9809-6ba4b2e307a4",
   "metadata": {},
   "source": [
    "# logistic regression"
   ]
  },
  {
   "cell_type": "code",
   "execution_count": 93,
   "id": "2fcc96ac-d16a-4f10-96eb-e74c4e64bb82",
   "metadata": {},
   "outputs": [
    {
     "data": {
      "text/html": [
       "<style>#sk-container-id-4 {color: black;}#sk-container-id-4 pre{padding: 0;}#sk-container-id-4 div.sk-toggleable {background-color: white;}#sk-container-id-4 label.sk-toggleable__label {cursor: pointer;display: block;width: 100%;margin-bottom: 0;padding: 0.3em;box-sizing: border-box;text-align: center;}#sk-container-id-4 label.sk-toggleable__label-arrow:before {content: \"▸\";float: left;margin-right: 0.25em;color: #696969;}#sk-container-id-4 label.sk-toggleable__label-arrow:hover:before {color: black;}#sk-container-id-4 div.sk-estimator:hover label.sk-toggleable__label-arrow:before {color: black;}#sk-container-id-4 div.sk-toggleable__content {max-height: 0;max-width: 0;overflow: hidden;text-align: left;background-color: #f0f8ff;}#sk-container-id-4 div.sk-toggleable__content pre {margin: 0.2em;color: black;border-radius: 0.25em;background-color: #f0f8ff;}#sk-container-id-4 input.sk-toggleable__control:checked~div.sk-toggleable__content {max-height: 200px;max-width: 100%;overflow: auto;}#sk-container-id-4 input.sk-toggleable__control:checked~label.sk-toggleable__label-arrow:before {content: \"▾\";}#sk-container-id-4 div.sk-estimator input.sk-toggleable__control:checked~label.sk-toggleable__label {background-color: #d4ebff;}#sk-container-id-4 div.sk-label input.sk-toggleable__control:checked~label.sk-toggleable__label {background-color: #d4ebff;}#sk-container-id-4 input.sk-hidden--visually {border: 0;clip: rect(1px 1px 1px 1px);clip: rect(1px, 1px, 1px, 1px);height: 1px;margin: -1px;overflow: hidden;padding: 0;position: absolute;width: 1px;}#sk-container-id-4 div.sk-estimator {font-family: monospace;background-color: #f0f8ff;border: 1px dotted black;border-radius: 0.25em;box-sizing: border-box;margin-bottom: 0.5em;}#sk-container-id-4 div.sk-estimator:hover {background-color: #d4ebff;}#sk-container-id-4 div.sk-parallel-item::after {content: \"\";width: 100%;border-bottom: 1px solid gray;flex-grow: 1;}#sk-container-id-4 div.sk-label:hover label.sk-toggleable__label {background-color: #d4ebff;}#sk-container-id-4 div.sk-serial::before {content: \"\";position: absolute;border-left: 1px solid gray;box-sizing: border-box;top: 0;bottom: 0;left: 50%;z-index: 0;}#sk-container-id-4 div.sk-serial {display: flex;flex-direction: column;align-items: center;background-color: white;padding-right: 0.2em;padding-left: 0.2em;position: relative;}#sk-container-id-4 div.sk-item {position: relative;z-index: 1;}#sk-container-id-4 div.sk-parallel {display: flex;align-items: stretch;justify-content: center;background-color: white;position: relative;}#sk-container-id-4 div.sk-item::before, #sk-container-id-4 div.sk-parallel-item::before {content: \"\";position: absolute;border-left: 1px solid gray;box-sizing: border-box;top: 0;bottom: 0;left: 50%;z-index: -1;}#sk-container-id-4 div.sk-parallel-item {display: flex;flex-direction: column;z-index: 1;position: relative;background-color: white;}#sk-container-id-4 div.sk-parallel-item:first-child::after {align-self: flex-end;width: 50%;}#sk-container-id-4 div.sk-parallel-item:last-child::after {align-self: flex-start;width: 50%;}#sk-container-id-4 div.sk-parallel-item:only-child::after {width: 0;}#sk-container-id-4 div.sk-dashed-wrapped {border: 1px dashed gray;margin: 0 0.4em 0.5em 0.4em;box-sizing: border-box;padding-bottom: 0.4em;background-color: white;}#sk-container-id-4 div.sk-label label {font-family: monospace;font-weight: bold;display: inline-block;line-height: 1.2em;}#sk-container-id-4 div.sk-label-container {text-align: center;}#sk-container-id-4 div.sk-container {/* jupyter's `normalize.less` sets `[hidden] { display: none; }` but bootstrap.min.css set `[hidden] { display: none !important; }` so we also need the `!important` here to be able to override the default hidden behavior on the sphinx rendered scikit-learn.org. See: https://github.com/scikit-learn/scikit-learn/issues/21755 */display: inline-block !important;position: relative;}#sk-container-id-4 div.sk-text-repr-fallback {display: none;}</style><div id=\"sk-container-id-4\" class=\"sk-top-container\"><div class=\"sk-text-repr-fallback\"><pre>LogisticRegression(random_state=1)</pre><b>In a Jupyter environment, please rerun this cell to show the HTML representation or trust the notebook. <br />On GitHub, the HTML representation is unable to render, please try loading this page with nbviewer.org.</b></div><div class=\"sk-container\" hidden><div class=\"sk-item\"><div class=\"sk-estimator sk-toggleable\"><input class=\"sk-toggleable__control sk-hidden--visually\" id=\"sk-estimator-id-4\" type=\"checkbox\" checked><label for=\"sk-estimator-id-4\" class=\"sk-toggleable__label sk-toggleable__label-arrow\">LogisticRegression</label><div class=\"sk-toggleable__content\"><pre>LogisticRegression(random_state=1)</pre></div></div></div></div></div>"
      ],
      "text/plain": [
       "LogisticRegression(random_state=1)"
      ]
     },
     "execution_count": 93,
     "metadata": {},
     "output_type": "execute_result"
    }
   ],
   "source": [
    "from sklearn.linear_model import LogisticRegression\n",
    "lr_model = LogisticRegression(random_state=1)\n",
    "lr_model.fit(x_train, ytrain)"
   ]
  },
  {
   "cell_type": "code",
   "execution_count": 94,
   "id": "5393ece6-a886-4234-8f51-dcadc250b39d",
   "metadata": {},
   "outputs": [
    {
     "data": {
      "text/plain": [
       "array([[0, 0, 0, ..., 0, 0, 0],\n",
       "       [0, 0, 0, ..., 0, 0, 0],\n",
       "       [0, 0, 0, ..., 0, 0, 0],\n",
       "       ...,\n",
       "       [0, 0, 0, ..., 0, 0, 0],\n",
       "       [0, 0, 0, ..., 0, 0, 0],\n",
       "       [0, 0, 0, ..., 0, 0, 0]], dtype=int64)"
      ]
     },
     "execution_count": 94,
     "metadata": {},
     "output_type": "execute_result"
    }
   ],
   "source": [
    "x_test= cv.transform(xtest)\n",
    "x_test.toarray()"
   ]
  },
  {
   "cell_type": "code",
   "execution_count": 95,
   "id": "caeae6df-ed77-4eb9-8267-1d49d87e6d82",
   "metadata": {},
   "outputs": [
    {
     "name": "stdout",
     "output_type": "stream",
     "text": [
      "Accuracy: 0.8081742243436754\n"
     ]
    }
   ],
   "source": [
    "accuracy = lr_model.score(x_test, ytest)\n",
    "print(\"Accuracy:\", accuracy)"
   ]
  },
  {
   "cell_type": "code",
   "execution_count": 96,
   "id": "877c97e9-b583-472e-b2c0-54f1232856cf",
   "metadata": {},
   "outputs": [
    {
     "data": {
      "text/plain": [
       "array([1, 0, 1, ..., 0, 0, 0])"
      ]
     },
     "execution_count": 96,
     "metadata": {},
     "output_type": "execute_result"
    }
   ],
   "source": [
    "pred = lr_model.predict(x_test)\n",
    "pred"
   ]
  },
  {
   "cell_type": "code",
   "execution_count": 97,
   "id": "bf241d12-fc62-486b-befb-546e3f8efd86",
   "metadata": {},
   "outputs": [
    {
     "data": {
      "text/plain": [
       "array([[1371,  267],\n",
       "       [ 376, 1338]], dtype=int64)"
      ]
     },
     "execution_count": 97,
     "metadata": {},
     "output_type": "execute_result"
    }
   ],
   "source": [
    "confusion_matrix(ytest,pred)"
   ]
  },
  {
   "cell_type": "code",
   "execution_count": 98,
   "id": "38828c3f-3fe2-43d7-b05a-7f194580ce38",
   "metadata": {},
   "outputs": [
    {
     "name": "stdout",
     "output_type": "stream",
     "text": [
      "              precision    recall  f1-score   support\n",
      "\n",
      "           0       0.78      0.84      0.81      1638\n",
      "           1       0.83      0.78      0.81      1714\n",
      "\n",
      "    accuracy                           0.81      3352\n",
      "   macro avg       0.81      0.81      0.81      3352\n",
      "weighted avg       0.81      0.81      0.81      3352\n",
      "\n"
     ]
    }
   ],
   "source": [
    "print(classification_report(ytest,pred))"
   ]
  },
  {
   "cell_type": "code",
   "execution_count": 99,
   "id": "10eda776-9e23-4526-97b9-4e4815db8de3",
   "metadata": {},
   "outputs": [],
   "source": [
    "# here 0 means spam 1 non spam"
   ]
  },
  {
   "cell_type": "code",
   "execution_count": 100,
   "id": "3b780532-2a5d-477b-b533-2d396758c7ef",
   "metadata": {},
   "outputs": [],
   "source": [
    "cleaned=[\"﻿ভাল খাদ্য ভাল সেবা বিশেষ করে কাবাব \"]"
   ]
  },
  {
   "cell_type": "code",
   "execution_count": 101,
   "id": "66af533f-4787-4f17-b793-e9687c903687",
   "metadata": {},
   "outputs": [],
   "source": [
    "cv_cleaned=cv.transform(cleaned)"
   ]
  },
  {
   "cell_type": "code",
   "execution_count": 102,
   "id": "776f8c25-9fd4-4555-a39a-1c3188317928",
   "metadata": {},
   "outputs": [],
   "source": [
    "cv_cleaned_dense = cv_cleaned.toarray()"
   ]
  },
  {
   "cell_type": "code",
   "execution_count": 103,
   "id": "64359842-2c78-4a9f-9b68-fcae8d0e78d7",
   "metadata": {},
   "outputs": [],
   "source": [
    "cv_cleaned_dense = cv_cleaned.toarray()"
   ]
  },
  {
   "cell_type": "code",
   "execution_count": 104,
   "id": "f3c01c71-8291-44f4-b73c-19ddf56243a2",
   "metadata": {},
   "outputs": [
    {
     "data": {
      "text/plain": [
       "array([0])"
      ]
     },
     "execution_count": 104,
     "metadata": {},
     "output_type": "execute_result"
    }
   ],
   "source": [
    "lr_model.predict(cv_cleaned_dense)"
   ]
  },
  {
   "cell_type": "markdown",
   "id": "36733afa-f899-43be-9143-330aae64d76f",
   "metadata": {},
   "source": [
    "# This is for support vector machine"
   ]
  },
  {
   "cell_type": "code",
   "execution_count": 105,
   "id": "49826059-9cf6-471d-9539-0e3e0a21ee6f",
   "metadata": {},
   "outputs": [],
   "source": [
    "from sklearn.svm import SVC\n",
    "kernel_options = ['linear', 'rbf', 'poly', 'sigmoid']\n",
    "svm_models = {}\n",
    "# Loop through the kernel options and fit separate models for each\n",
    "for kernel in kernel_options:\n",
    "    svm_model = SVC(kernel=kernel)\n",
    "    svm_model.fit(x_train, ytrain)\n",
    "    svm_models[kernel] = svm_model\n",
    "    \n",
    "svm_model1 = svm_models['linear']"
   ]
  },
  {
   "cell_type": "code",
   "execution_count": 106,
   "id": "3b6c1680-76fc-4489-b27b-da337d14a613",
   "metadata": {},
   "outputs": [
    {
     "data": {
      "text/plain": [
       "array([[0, 0, 0, ..., 0, 0, 0],\n",
       "       [0, 0, 0, ..., 0, 0, 0],\n",
       "       [0, 0, 0, ..., 0, 0, 0],\n",
       "       ...,\n",
       "       [0, 0, 0, ..., 0, 0, 0],\n",
       "       [0, 0, 0, ..., 0, 0, 0],\n",
       "       [0, 0, 0, ..., 0, 0, 0]], dtype=int64)"
      ]
     },
     "execution_count": 106,
     "metadata": {},
     "output_type": "execute_result"
    }
   ],
   "source": [
    "x_test= cv.transform(xtest)\n",
    "x_test.toarray()"
   ]
  },
  {
   "cell_type": "code",
   "execution_count": 107,
   "id": "1-rZiyG_iuvU",
   "metadata": {
    "colab": {
     "base_uri": "https://localhost:8080/"
    },
    "id": "1-rZiyG_iuvU",
    "outputId": "1f79e6b1-257d-42ec-a535-3220608fcc73"
   },
   "outputs": [
    {
     "name": "stdout",
     "output_type": "stream",
     "text": [
      "Accuracy: 0.7998210023866349\n"
     ]
    }
   ],
   "source": [
    "accuracy = svm_model1.score(x_test, ytest)\n",
    "print(\"Accuracy:\", accuracy)"
   ]
  },
  {
   "cell_type": "code",
   "execution_count": 108,
   "id": "ac25f3ea-6fa6-40cd-863f-698ac18c590c",
   "metadata": {},
   "outputs": [
    {
     "data": {
      "text/plain": [
       "0.9074168797953964"
      ]
     },
     "execution_count": 108,
     "metadata": {},
     "output_type": "execute_result"
    }
   ],
   "source": [
    "svm_model1.score(x_train,ytrain)"
   ]
  },
  {
   "cell_type": "raw",
   "id": "8a67e451-ce4e-45b9-a9ce-7d8c78a24b0e",
   "metadata": {},
   "source": [
    "# HERE 0 MEANS SPAM AND 1 NON SPAM"
   ]
  },
  {
   "cell_type": "code",
   "execution_count": 109,
   "id": "_LUDX13jiu0S",
   "metadata": {
    "id": "_LUDX13jiu0S"
   },
   "outputs": [],
   "source": [
    "cleaned=[\"পুজোর সময়ে আজান বন্ধ করতে হলে মুসলিম রাষ্ট্র থেকে হিন্দুদের বিতারিত করতে হবে\"]"
   ]
  },
  {
   "cell_type": "code",
   "execution_count": 110,
   "id": "XctiwkXblpFQ",
   "metadata": {
    "id": "XctiwkXblpFQ"
   },
   "outputs": [],
   "source": [
    "cv_cleaned=cv.transform(cleaned)"
   ]
  },
  {
   "cell_type": "code",
   "execution_count": 111,
   "id": "93499f60-ceb5-414a-891f-874c6cca8a83",
   "metadata": {},
   "outputs": [],
   "source": [
    "cv_cleaned_dense = cv_cleaned.toarray()"
   ]
  },
  {
   "cell_type": "code",
   "execution_count": 112,
   "id": "f993ae21-7d1c-49c0-8734-00f9ab1f50b0",
   "metadata": {},
   "outputs": [
    {
     "data": {
      "text/plain": [
       "array([1])"
      ]
     },
     "execution_count": 112,
     "metadata": {},
     "output_type": "execute_result"
    }
   ],
   "source": [
    "svm_model1.predict(cv_cleaned_dense)"
   ]
  },
  {
   "cell_type": "raw",
   "id": "7e62ec95-f18c-4f35-872d-ca844c81c1ae",
   "metadata": {},
   "source": [
    "# MODEL PERFORMANCE ANALYSIS DONE HERE"
   ]
  },
  {
   "cell_type": "code",
   "execution_count": 113,
   "id": "4970a52b-2422-47d5-9def-287315932bc0",
   "metadata": {},
   "outputs": [
    {
     "data": {
      "text/plain": [
       "array([1, 0, 1, ..., 0, 0, 0])"
      ]
     },
     "execution_count": 113,
     "metadata": {},
     "output_type": "execute_result"
    }
   ],
   "source": [
    "pred = svm_model1.predict(x_test)\n",
    "pred"
   ]
  },
  {
   "cell_type": "code",
   "execution_count": 114,
   "id": "940c0dad-78cb-4e7e-9a9a-dd3b9d9fad43",
   "metadata": {},
   "outputs": [],
   "source": [
    "from sklearn.metrics import accuracy_score"
   ]
  },
  {
   "cell_type": "code",
   "execution_count": 115,
   "id": "3cdb865a-0eb7-43c1-b931-6a1edf726da8",
   "metadata": {},
   "outputs": [
    {
     "data": {
      "text/plain": [
       "0.7998210023866349"
      ]
     },
     "execution_count": 115,
     "metadata": {},
     "output_type": "execute_result"
    }
   ],
   "source": [
    "accuracy_score(ytest,pred)"
   ]
  },
  {
   "cell_type": "code",
   "execution_count": 116,
   "id": "7267b1d1-c92f-49b4-a18e-8d084438f4c6",
   "metadata": {},
   "outputs": [
    {
     "data": {
      "text/plain": [
       "array([[1383,  255],\n",
       "       [ 416, 1298]], dtype=int64)"
      ]
     },
     "execution_count": 116,
     "metadata": {},
     "output_type": "execute_result"
    }
   ],
   "source": [
    "confusion_matrix(ytest,pred)"
   ]
  },
  {
   "cell_type": "code",
   "execution_count": 117,
   "id": "319df9c4-1363-4304-9ca5-b5f8c6c4ff18",
   "metadata": {},
   "outputs": [
    {
     "name": "stdout",
     "output_type": "stream",
     "text": [
      "              precision    recall  f1-score   support\n",
      "\n",
      "           0       0.77      0.84      0.80      1638\n",
      "           1       0.84      0.76      0.79      1714\n",
      "\n",
      "    accuracy                           0.80      3352\n",
      "   macro avg       0.80      0.80      0.80      3352\n",
      "weighted avg       0.80      0.80      0.80      3352\n",
      "\n"
     ]
    }
   ],
   "source": [
    "from sklearn.metrics import classification_report\n",
    "print(classification_report(ytest,pred))"
   ]
  },
  {
   "cell_type": "markdown",
   "id": "9916da91-184b-4dca-a0a6-8b1247450731",
   "metadata": {},
   "source": [
    "# Cross validation for svm"
   ]
  },
  {
   "cell_type": "code",
   "execution_count": 118,
   "id": "be79f796-21ae-4f03-a24a-38050416f081",
   "metadata": {},
   "outputs": [],
   "source": [
    "from sklearn.model_selection import cross_val_score"
   ]
  },
  {
   "cell_type": "code",
   "execution_count": 119,
   "id": "f2735c53-5cc3-4431-b094-49bff66b11a3",
   "metadata": {},
   "outputs": [],
   "source": [
    "x = df.text.values\n",
    "y = df.target.values"
   ]
  },
  {
   "cell_type": "code",
   "execution_count": 120,
   "id": "bbf30ac5-4430-4e02-802d-2729fa3b2d32",
   "metadata": {},
   "outputs": [],
   "source": [
    "cv = CountVectorizer()\n",
    "x_train=cv.fit_transform(x)"
   ]
  },
  {
   "cell_type": "code",
   "execution_count": 121,
   "id": "bb0d0fa2-1be8-47bb-ab29-62b41efedafa",
   "metadata": {},
   "outputs": [],
   "source": [
    "cvscore = cross_val_score(svm_model1,x_train,y,cv=5)"
   ]
  },
  {
   "cell_type": "code",
   "execution_count": 122,
   "id": "8f5e7a18-a739-4ec6-9799-e3a59e9c8ac9",
   "metadata": {},
   "outputs": [
    {
     "data": {
      "text/plain": [
       "array([0.81297539, 0.80402685, 0.81602507, 0.80572963, 0.79006267])"
      ]
     },
     "execution_count": 122,
     "metadata": {},
     "output_type": "execute_result"
    }
   ],
   "source": [
    "cvscore"
   ]
  },
  {
   "cell_type": "code",
   "execution_count": 123,
   "id": "60b167b7-7f14-4465-98e2-48444895994f",
   "metadata": {},
   "outputs": [
    {
     "data": {
      "text/plain": [
       "0.8057639210172663"
      ]
     },
     "execution_count": 123,
     "metadata": {},
     "output_type": "execute_result"
    }
   ],
   "source": [
    "cvscore.mean()"
   ]
  },
  {
   "cell_type": "markdown",
   "id": "2bd41388-b9b8-4853-a361-e7bbbdcede81",
   "metadata": {},
   "source": [
    "# Cross validation for logistic regression"
   ]
  },
  {
   "cell_type": "code",
   "execution_count": 124,
   "id": "30c22f94-68e0-4206-bb42-4df9eb66614f",
   "metadata": {},
   "outputs": [],
   "source": [
    "from sklearn.model_selection import cross_val_score"
   ]
  },
  {
   "cell_type": "code",
   "execution_count": 125,
   "id": "e311f193-17a8-4fb7-bcac-7c28cacf9fb9",
   "metadata": {},
   "outputs": [],
   "source": [
    "x = df.text.values\n",
    "y = df.target.values"
   ]
  },
  {
   "cell_type": "code",
   "execution_count": 126,
   "id": "5d26cf0b-2f2f-4871-9ba9-b8520d86e29b",
   "metadata": {},
   "outputs": [],
   "source": [
    "cv = CountVectorizer()\n",
    "x_train=cv.fit_transform(x)"
   ]
  },
  {
   "cell_type": "code",
   "execution_count": 127,
   "id": "6d00c8e8-4f4a-4038-843b-80dde9601fb5",
   "metadata": {},
   "outputs": [],
   "source": [
    "cvscore = cross_val_score(lr_model,x_train,y,cv=5)"
   ]
  },
  {
   "cell_type": "code",
   "execution_count": 128,
   "id": "bedb6fbb-deca-438e-9173-25432b52509f",
   "metadata": {},
   "outputs": [
    {
     "data": {
      "text/plain": [
       "array([0.82237136, 0.80760626, 0.82184423, 0.81154879, 0.80707252])"
      ]
     },
     "execution_count": 128,
     "metadata": {},
     "output_type": "execute_result"
    }
   ],
   "source": [
    "cvscore"
   ]
  },
  {
   "cell_type": "code",
   "execution_count": 129,
   "id": "44fa1afd-0463-4149-83d6-059a37575c12",
   "metadata": {},
   "outputs": [
    {
     "data": {
      "text/plain": [
       "0.814088632262432"
      ]
     },
     "execution_count": 129,
     "metadata": {},
     "output_type": "execute_result"
    }
   ],
   "source": [
    "cvscore.mean()"
   ]
  },
  {
   "cell_type": "code",
   "execution_count": null,
   "id": "9bd0b4b8-9091-4300-b5ba-b859b0b35470",
   "metadata": {},
   "outputs": [],
   "source": []
  },
  {
   "cell_type": "code",
   "execution_count": null,
   "id": "cfc67b02-7b81-4054-87db-e165d7be3671",
   "metadata": {},
   "outputs": [],
   "source": []
  }
 ],
 "metadata": {
  "colab": {
   "provenance": []
  },
  "kernelspec": {
   "display_name": "Python 3 (ipykernel)",
   "language": "python",
   "name": "python3"
  },
  "language_info": {
   "codemirror_mode": {
    "name": "ipython",
    "version": 3
   },
   "file_extension": ".py",
   "mimetype": "text/x-python",
   "name": "python",
   "nbconvert_exporter": "python",
   "pygments_lexer": "ipython3",
   "version": "3.11.4"
  }
 },
 "nbformat": 4,
 "nbformat_minor": 5
}
