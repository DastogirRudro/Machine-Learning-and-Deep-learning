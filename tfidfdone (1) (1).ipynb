{
 "cells": [
  {
   "cell_type": "code",
   "execution_count": 1,
   "id": "202a5a2d-648b-46ff-a052-3151061d03ad",
   "metadata": {
    "id": "202a5a2d-648b-46ff-a052-3151061d03ad"
   },
   "outputs": [],
   "source": [
    "import pandas as pd\n",
    "import numpy as np\n",
    "from sklearn.preprocessing import LabelEncoder\n",
    "import matplotlib.pyplot as plt\n",
    "import nltk\n",
    "import re\n",
    "import seaborn as sns\n",
    "from sklearn.model_selection import train_test_split\n",
    "from sklearn.feature_extraction.text import CountVectorizer\n",
    "from sklearn.naive_bayes import MultinomialNB,BernoulliNB\n",
    "from sklearn.metrics import accuracy_score, confusion_matrix, precision_score\n",
    "from sklearn.svm import SVC\n",
    "from sklearn.linear_model import LogisticRegression\n",
    "from sklearn.ensemble import RandomForestClassifier\n",
    "from sklearn.model_selection import cross_val_score"
   ]
  },
  {
   "cell_type": "markdown",
   "id": "8c251f82-7f04-4afe-8c02-f925dffdd555",
   "metadata": {},
   "source": [
    "# Load dataset and changes the dataset"
   ]
  },
  {
   "cell_type": "code",
   "execution_count": 2,
   "id": "72672b6b-6021-4d4c-b286-511dfdd62280",
   "metadata": {
    "id": "72672b6b-6021-4d4c-b286-511dfdd62280"
   },
   "outputs": [],
   "source": [
    "df = pd.read_csv('thesisbangladataset.csv')"
   ]
  },
  {
   "cell_type": "code",
   "execution_count": 145,
   "id": "352b4573-548a-43dd-92df-d0d2352ddbd9",
   "metadata": {
    "colab": {
     "base_uri": "https://localhost:8080/",
     "height": 112
    },
    "id": "352b4573-548a-43dd-92df-d0d2352ddbd9",
    "outputId": "a25d8f63-fa0d-4bdd-c763-80c73a1b9809"
   },
   "outputs": [
    {
     "data": {
      "text/html": [
       "<div>\n",
       "<style scoped>\n",
       "    .dataframe tbody tr th:only-of-type {\n",
       "        vertical-align: middle;\n",
       "    }\n",
       "\n",
       "    .dataframe tbody tr th {\n",
       "        vertical-align: top;\n",
       "    }\n",
       "\n",
       "    .dataframe thead th {\n",
       "        text-align: right;\n",
       "    }\n",
       "</style>\n",
       "<table border=\"1\" class=\"dataframe\">\n",
       "  <thead>\n",
       "    <tr style=\"text-align: right;\">\n",
       "      <th></th>\n",
       "      <th>text</th>\n",
       "      <th>target</th>\n",
       "      <th>Label</th>\n",
       "      <th>num_words</th>\n",
       "      <th>num_sentences</th>\n",
       "      <th>num_characters</th>\n",
       "      <th>transformed_text</th>\n",
       "    </tr>\n",
       "  </thead>\n",
       "  <tbody>\n",
       "    <tr>\n",
       "      <th>0</th>\n",
       "      <td>এলাকায় আসিস খুন ফেলে রাখবো তকে আমারে ত চিনিস ত...</td>\n",
       "      <td>0</td>\n",
       "      <td>1</td>\n",
       "      <td>12</td>\n",
       "      <td>1</td>\n",
       "      <td>58</td>\n",
       "      <td>ত</td>\n",
       "    </tr>\n",
       "    <tr>\n",
       "      <th>1</th>\n",
       "      <td>কুরআন কিতাব টাই ভুল অন্য ধর্ম ঝাড়া আল্লাহ কাল্...</td>\n",
       "      <td>0</td>\n",
       "      <td>1</td>\n",
       "      <td>19</td>\n",
       "      <td>1</td>\n",
       "      <td>110</td>\n",
       "      <td></td>\n",
       "    </tr>\n",
       "    <tr>\n",
       "      <th>2</th>\n",
       "      <td>বাংলাদেশি খেলোয়ারদের খারাপ আচরনের আইসিসি আদালত...</td>\n",
       "      <td>1</td>\n",
       "      <td>0</td>\n",
       "      <td>11</td>\n",
       "      <td>1</td>\n",
       "      <td>80</td>\n",
       "      <td>কর</td>\n",
       "    </tr>\n",
       "    <tr>\n",
       "      <th>3</th>\n",
       "      <td>তুই ভুলে যাইস আগের কথা সামনে পাইলে ছিড়া ফেলমু</td>\n",
       "      <td>0</td>\n",
       "      <td>1</td>\n",
       "      <td>9</td>\n",
       "      <td>1</td>\n",
       "      <td>45</td>\n",
       "      <td></td>\n",
       "    </tr>\n",
       "    <tr>\n",
       "      <th>4</th>\n",
       "      <td>কেনো শুধু শুধু অন্যের ঘাড়ে পা রেখে উপরে উঠতে চ...</td>\n",
       "      <td>1</td>\n",
       "      <td>0</td>\n",
       "      <td>32</td>\n",
       "      <td>1</td>\n",
       "      <td>187</td>\n",
       "      <td>মই</td>\n",
       "    </tr>\n",
       "  </tbody>\n",
       "</table>\n",
       "</div>"
      ],
      "text/plain": [
       "                                                text  target  Label  \\\n",
       "0  এলাকায় আসিস খুন ফেলে রাখবো তকে আমারে ত চিনিস ত...       0      1   \n",
       "1  কুরআন কিতাব টাই ভুল অন্য ধর্ম ঝাড়া আল্লাহ কাল্...       0      1   \n",
       "2  বাংলাদেশি খেলোয়ারদের খারাপ আচরনের আইসিসি আদালত...       1      0   \n",
       "3      তুই ভুলে যাইস আগের কথা সামনে পাইলে ছিড়া ফেলমু       0      1   \n",
       "4  কেনো শুধু শুধু অন্যের ঘাড়ে পা রেখে উপরে উঠতে চ...       1      0   \n",
       "\n",
       "   num_words  num_sentences  num_characters transformed_text  \n",
       "0         12              1              58                ত  \n",
       "1         19              1             110                   \n",
       "2         11              1              80               কর  \n",
       "3          9              1              45                   \n",
       "4         32              1             187               মই  "
      ]
     },
     "execution_count": 145,
     "metadata": {},
     "output_type": "execute_result"
    }
   ],
   "source": [
    "df.head()"
   ]
  },
  {
   "cell_type": "code",
   "execution_count": 4,
   "id": "d65a1904-71d9-4274-8b9d-b4b4f59e5fe8",
   "metadata": {
    "colab": {
     "base_uri": "https://localhost:8080/"
    },
    "id": "d65a1904-71d9-4274-8b9d-b4b4f59e5fe8",
    "outputId": "650e967f-1303-4f4d-bcb7-3cf51d47adf9"
   },
   "outputs": [
    {
     "data": {
      "text/plain": [
       "(11326, 4)"
      ]
     },
     "execution_count": 4,
     "metadata": {},
     "output_type": "execute_result"
    }
   ],
   "source": [
    "df.shape"
   ]
  },
  {
   "cell_type": "code",
   "execution_count": 5,
   "id": "3a1e9577-6512-4c5b-b2a4-d069f0d418f9",
   "metadata": {
    "colab": {
     "base_uri": "https://localhost:8080/"
    },
    "id": "3a1e9577-6512-4c5b-b2a4-d069f0d418f9",
    "outputId": "05508886-c7d2-45c8-88d1-fcc4e5c0944c"
   },
   "outputs": [
    {
     "name": "stdout",
     "output_type": "stream",
     "text": [
      "<class 'pandas.core.frame.DataFrame'>\n",
      "RangeIndex: 11326 entries, 0 to 11325\n",
      "Data columns (total 4 columns):\n",
      " #   Column      Non-Null Count  Dtype \n",
      "---  ------      --------------  ----- \n",
      " 0   Unnamed: 0  11326 non-null  int64 \n",
      " 1   cleaned     11326 non-null  object\n",
      " 2   Class       11326 non-null  object\n",
      " 3   Label       11326 non-null  int64 \n",
      "dtypes: int64(2), object(2)\n",
      "memory usage: 354.1+ KB\n"
     ]
    }
   ],
   "source": [
    "df.info()"
   ]
  },
  {
   "cell_type": "code",
   "execution_count": 6,
   "id": "d60403c7-361a-4b00-9ceb-789015c81265",
   "metadata": {
    "colab": {
     "base_uri": "https://localhost:8080/",
     "height": 81
    },
    "id": "d60403c7-361a-4b00-9ceb-789015c81265",
    "outputId": "5104bb59-c0a7-4a9f-fa72-2534ab5632be"
   },
   "outputs": [
    {
     "data": {
      "text/html": [
       "<div>\n",
       "<style scoped>\n",
       "    .dataframe tbody tr th:only-of-type {\n",
       "        vertical-align: middle;\n",
       "    }\n",
       "\n",
       "    .dataframe tbody tr th {\n",
       "        vertical-align: top;\n",
       "    }\n",
       "\n",
       "    .dataframe thead th {\n",
       "        text-align: right;\n",
       "    }\n",
       "</style>\n",
       "<table border=\"1\" class=\"dataframe\">\n",
       "  <thead>\n",
       "    <tr style=\"text-align: right;\">\n",
       "      <th></th>\n",
       "      <th>Unnamed: 0</th>\n",
       "      <th>cleaned</th>\n",
       "      <th>Class</th>\n",
       "      <th>Label</th>\n",
       "    </tr>\n",
       "  </thead>\n",
       "  <tbody>\n",
       "    <tr>\n",
       "      <th>8832</th>\n",
       "      <td>8832</td>\n",
       "      <td>জুতা লীগ সরকার ক্ষমতায় মানে ইলুমিনাত এজেন্ট</td>\n",
       "      <td>AG</td>\n",
       "      <td>1</td>\n",
       "    </tr>\n",
       "  </tbody>\n",
       "</table>\n",
       "</div>"
      ],
      "text/plain": [
       "      Unnamed: 0                                       cleaned Class  Label\n",
       "8832        8832  জুতা লীগ সরকার ক্ষমতায় মানে ইলুমিনাত এজেন্ট    AG      1"
      ]
     },
     "execution_count": 6,
     "metadata": {},
     "output_type": "execute_result"
    }
   ],
   "source": [
    "df.sample()"
   ]
  },
  {
   "cell_type": "code",
   "execution_count": 7,
   "id": "70b364bc-3124-4930-a4d0-42a6bf76977d",
   "metadata": {
    "id": "70b364bc-3124-4930-a4d0-42a6bf76977d"
   },
   "outputs": [],
   "source": [
    "df.rename(columns={'cleaned':'text','Class':'target'},inplace=True)"
   ]
  },
  {
   "cell_type": "code",
   "execution_count": 8,
   "id": "9ff3ecfb-e0ce-4a7e-80e7-c6abfe6bac91",
   "metadata": {
    "colab": {
     "base_uri": "https://localhost:8080/",
     "height": 81
    },
    "id": "9ff3ecfb-e0ce-4a7e-80e7-c6abfe6bac91",
    "outputId": "bf88165c-4fd8-4cb7-f3ee-eddef8f0782f"
   },
   "outputs": [
    {
     "data": {
      "text/html": [
       "<div>\n",
       "<style scoped>\n",
       "    .dataframe tbody tr th:only-of-type {\n",
       "        vertical-align: middle;\n",
       "    }\n",
       "\n",
       "    .dataframe tbody tr th {\n",
       "        vertical-align: top;\n",
       "    }\n",
       "\n",
       "    .dataframe thead th {\n",
       "        text-align: right;\n",
       "    }\n",
       "</style>\n",
       "<table border=\"1\" class=\"dataframe\">\n",
       "  <thead>\n",
       "    <tr style=\"text-align: right;\">\n",
       "      <th></th>\n",
       "      <th>Unnamed: 0</th>\n",
       "      <th>text</th>\n",
       "      <th>target</th>\n",
       "      <th>Label</th>\n",
       "    </tr>\n",
       "  </thead>\n",
       "  <tbody>\n",
       "    <tr>\n",
       "      <th>10112</th>\n",
       "      <td>10112</td>\n",
       "      <td>ইসলাম ধর্মে নারীর কোনো মর্যাদা ও সম্মান নেই ইস...</td>\n",
       "      <td>AG</td>\n",
       "      <td>1</td>\n",
       "    </tr>\n",
       "  </tbody>\n",
       "</table>\n",
       "</div>"
      ],
      "text/plain": [
       "       Unnamed: 0                                               text target  \\\n",
       "10112       10112  ইসলাম ধর্মে নারীর কোনো মর্যাদা ও সম্মান নেই ইস...     AG   \n",
       "\n",
       "       Label  \n",
       "10112      1  "
      ]
     },
     "execution_count": 8,
     "metadata": {},
     "output_type": "execute_result"
    }
   ],
   "source": [
    "df.sample()"
   ]
  },
  {
   "cell_type": "markdown",
   "id": "838c9a5c-303b-4057-94b0-7946ccdc562c",
   "metadata": {
    "id": "7ce1464a-21fd-4a05-a956-d866142cb71a"
   },
   "source": []
  },
  {
   "cell_type": "code",
   "execution_count": 9,
   "id": "b0938973-5aff-4a4e-8c9c-e890acb0428d",
   "metadata": {
    "colab": {
     "base_uri": "https://localhost:8080/"
    },
    "id": "b0938973-5aff-4a4e-8c9c-e890acb0428d",
    "outputId": "2cc6f285-df4d-4632-ce50-db8a23feb734"
   },
   "outputs": [
    {
     "data": {
      "text/plain": [
       "array(['AG', 'NoAG'], dtype=object)"
      ]
     },
     "execution_count": 9,
     "metadata": {},
     "output_type": "execute_result"
    }
   ],
   "source": [
    "df[\"target\"].unique()"
   ]
  },
  {
   "cell_type": "code",
   "execution_count": 10,
   "id": "f2cc075b-e29b-4a0f-83e5-67bed3bc6244",
   "metadata": {
    "colab": {
     "base_uri": "https://localhost:8080/"
    },
    "id": "f2cc075b-e29b-4a0f-83e5-67bed3bc6244",
    "outputId": "16ab4115-e68b-4b7a-e6b0-948127017619"
   },
   "outputs": [
    {
     "data": {
      "text/plain": [
       "target\n",
       "NoAG    5845\n",
       "AG      5481\n",
       "Name: count, dtype: int64"
      ]
     },
     "execution_count": 10,
     "metadata": {},
     "output_type": "execute_result"
    }
   ],
   "source": [
    "df[\"target\"].value_counts()"
   ]
  },
  {
   "cell_type": "markdown",
   "id": "61cef865-342a-4d8b-88c8-384ef70dfdde",
   "metadata": {},
   "source": [
    "# Here we use label encode"
   ]
  },
  {
   "cell_type": "code",
   "execution_count": 11,
   "id": "e81dc78a-7949-486f-85f7-93f85b8d77d5",
   "metadata": {
    "id": "e81dc78a-7949-486f-85f7-93f85b8d77d5"
   },
   "outputs": [],
   "source": [
    "from sklearn.preprocessing import LabelEncoder"
   ]
  },
  {
   "cell_type": "code",
   "execution_count": 12,
   "id": "ebd8c7eb-8f5b-4a03-adc4-e5bd36577174",
   "metadata": {
    "id": "ebd8c7eb-8f5b-4a03-adc4-e5bd36577174"
   },
   "outputs": [],
   "source": [
    "label_encoder=LabelEncoder()"
   ]
  },
  {
   "cell_type": "code",
   "execution_count": 13,
   "id": "8dbf6147-248b-4b15-ad25-fc904335cdd9",
   "metadata": {
    "colab": {
     "base_uri": "https://localhost:8080/"
    },
    "id": "8dbf6147-248b-4b15-ad25-fc904335cdd9",
    "outputId": "113dabda-0e0a-4de2-fde6-21999fdd7153"
   },
   "outputs": [
    {
     "name": "stdout",
     "output_type": "stream",
     "text": [
      "LabelEncoder()\n"
     ]
    }
   ],
   "source": [
    "print (label_encoder)"
   ]
  },
  {
   "cell_type": "code",
   "execution_count": 14,
   "id": "8132d4fe-fccd-414d-b1d0-f70c6594a0db",
   "metadata": {
    "id": "8132d4fe-fccd-414d-b1d0-f70c6594a0db"
   },
   "outputs": [],
   "source": [
    "df[\"target\"] = label_encoder.fit_transform(df[\"target\"])"
   ]
  },
  {
   "cell_type": "code",
   "execution_count": 15,
   "id": "455d1258-a007-4188-a01c-ebb93c935e8a",
   "metadata": {
    "colab": {
     "base_uri": "https://localhost:8080/",
     "height": 206
    },
    "id": "455d1258-a007-4188-a01c-ebb93c935e8a",
    "outputId": "b0b0b87c-b9ae-4938-c347-598911082fa3"
   },
   "outputs": [
    {
     "data": {
      "text/html": [
       "<div>\n",
       "<style scoped>\n",
       "    .dataframe tbody tr th:only-of-type {\n",
       "        vertical-align: middle;\n",
       "    }\n",
       "\n",
       "    .dataframe tbody tr th {\n",
       "        vertical-align: top;\n",
       "    }\n",
       "\n",
       "    .dataframe thead th {\n",
       "        text-align: right;\n",
       "    }\n",
       "</style>\n",
       "<table border=\"1\" class=\"dataframe\">\n",
       "  <thead>\n",
       "    <tr style=\"text-align: right;\">\n",
       "      <th></th>\n",
       "      <th>Unnamed: 0</th>\n",
       "      <th>text</th>\n",
       "      <th>target</th>\n",
       "      <th>Label</th>\n",
       "    </tr>\n",
       "  </thead>\n",
       "  <tbody>\n",
       "    <tr>\n",
       "      <th>0</th>\n",
       "      <td>0</td>\n",
       "      <td>এলাকায় আসিস খুন করে ফেলে রাখবো তকে আমারে ত চিন...</td>\n",
       "      <td>0</td>\n",
       "      <td>1</td>\n",
       "    </tr>\n",
       "    <tr>\n",
       "      <th>1</th>\n",
       "      <td>1</td>\n",
       "      <td>কুরআন কিতাব টাই তো ভুল এবং অন্য ধর্ম থেকে ঝাড়া...</td>\n",
       "      <td>0</td>\n",
       "      <td>1</td>\n",
       "    </tr>\n",
       "    <tr>\n",
       "      <th>2</th>\n",
       "      <td>2</td>\n",
       "      <td>বাংলাদেশি খেলোয়ারদের সাথে খারাপ আচরনের জন্য আই...</td>\n",
       "      <td>1</td>\n",
       "      <td>0</td>\n",
       "    </tr>\n",
       "    <tr>\n",
       "      <th>3</th>\n",
       "      <td>3</td>\n",
       "      <td>তুই ভুলে যাইস না আগের কথা সামনে পাইলে কিন্তু ছ...</td>\n",
       "      <td>0</td>\n",
       "      <td>1</td>\n",
       "    </tr>\n",
       "    <tr>\n",
       "      <th>4</th>\n",
       "      <td>4</td>\n",
       "      <td>কেনো শুধু শুধু অন্যের ঘাড়ে পা রেখে উপরে উঠতে চ...</td>\n",
       "      <td>1</td>\n",
       "      <td>0</td>\n",
       "    </tr>\n",
       "  </tbody>\n",
       "</table>\n",
       "</div>"
      ],
      "text/plain": [
       "   Unnamed: 0                                               text  target  \\\n",
       "0           0  এলাকায় আসিস খুন করে ফেলে রাখবো তকে আমারে ত চিন...       0   \n",
       "1           1  কুরআন কিতাব টাই তো ভুল এবং অন্য ধর্ম থেকে ঝাড়া...       0   \n",
       "2           2  বাংলাদেশি খেলোয়ারদের সাথে খারাপ আচরনের জন্য আই...       1   \n",
       "3           3  তুই ভুলে যাইস না আগের কথা সামনে পাইলে কিন্তু ছ...       0   \n",
       "4           4  কেনো শুধু শুধু অন্যের ঘাড়ে পা রেখে উপরে উঠতে চ...       1   \n",
       "\n",
       "   Label  \n",
       "0      1  \n",
       "1      1  \n",
       "2      0  \n",
       "3      1  \n",
       "4      0  "
      ]
     },
     "execution_count": 15,
     "metadata": {},
     "output_type": "execute_result"
    }
   ],
   "source": [
    "df.head()"
   ]
  },
  {
   "cell_type": "markdown",
   "id": "c3301b48-ba78-42c3-aaf4-748c37cd1463",
   "metadata": {},
   "source": [
    "# Removing unnecessary column"
   ]
  },
  {
   "cell_type": "code",
   "execution_count": 16,
   "id": "af02add4-31fa-4218-9fc8-056c1b9ce059",
   "metadata": {},
   "outputs": [],
   "source": [
    "df.drop('Unnamed: 0', axis=1, inplace=True)"
   ]
  },
  {
   "cell_type": "code",
   "execution_count": 17,
   "id": "6faf9055-db1c-4d5b-9626-86b2075e50c3",
   "metadata": {},
   "outputs": [
    {
     "data": {
      "text/html": [
       "<div>\n",
       "<style scoped>\n",
       "    .dataframe tbody tr th:only-of-type {\n",
       "        vertical-align: middle;\n",
       "    }\n",
       "\n",
       "    .dataframe tbody tr th {\n",
       "        vertical-align: top;\n",
       "    }\n",
       "\n",
       "    .dataframe thead th {\n",
       "        text-align: right;\n",
       "    }\n",
       "</style>\n",
       "<table border=\"1\" class=\"dataframe\">\n",
       "  <thead>\n",
       "    <tr style=\"text-align: right;\">\n",
       "      <th></th>\n",
       "      <th>text</th>\n",
       "      <th>target</th>\n",
       "      <th>Label</th>\n",
       "    </tr>\n",
       "  </thead>\n",
       "  <tbody>\n",
       "    <tr>\n",
       "      <th>0</th>\n",
       "      <td>এলাকায় আসিস খুন করে ফেলে রাখবো তকে আমারে ত চিন...</td>\n",
       "      <td>0</td>\n",
       "      <td>1</td>\n",
       "    </tr>\n",
       "    <tr>\n",
       "      <th>1</th>\n",
       "      <td>কুরআন কিতাব টাই তো ভুল এবং অন্য ধর্ম থেকে ঝাড়া...</td>\n",
       "      <td>0</td>\n",
       "      <td>1</td>\n",
       "    </tr>\n",
       "    <tr>\n",
       "      <th>2</th>\n",
       "      <td>বাংলাদেশি খেলোয়ারদের সাথে খারাপ আচরনের জন্য আই...</td>\n",
       "      <td>1</td>\n",
       "      <td>0</td>\n",
       "    </tr>\n",
       "    <tr>\n",
       "      <th>3</th>\n",
       "      <td>তুই ভুলে যাইস না আগের কথা সামনে পাইলে কিন্তু ছ...</td>\n",
       "      <td>0</td>\n",
       "      <td>1</td>\n",
       "    </tr>\n",
       "    <tr>\n",
       "      <th>4</th>\n",
       "      <td>কেনো শুধু শুধু অন্যের ঘাড়ে পা রেখে উপরে উঠতে চ...</td>\n",
       "      <td>1</td>\n",
       "      <td>0</td>\n",
       "    </tr>\n",
       "  </tbody>\n",
       "</table>\n",
       "</div>"
      ],
      "text/plain": [
       "                                                text  target  Label\n",
       "0  এলাকায় আসিস খুন করে ফেলে রাখবো তকে আমারে ত চিন...       0      1\n",
       "1  কুরআন কিতাব টাই তো ভুল এবং অন্য ধর্ম থেকে ঝাড়া...       0      1\n",
       "2  বাংলাদেশি খেলোয়ারদের সাথে খারাপ আচরনের জন্য আই...       1      0\n",
       "3  তুই ভুলে যাইস না আগের কথা সামনে পাইলে কিন্তু ছ...       0      1\n",
       "4  কেনো শুধু শুধু অন্যের ঘাড়ে পা রেখে উপরে উঠতে চ...       1      0"
      ]
     },
     "execution_count": 17,
     "metadata": {},
     "output_type": "execute_result"
    }
   ],
   "source": [
    "df.head()"
   ]
  },
  {
   "cell_type": "markdown",
   "id": "da06d5ee-6375-4869-ae36-937f617c560f",
   "metadata": {},
   "source": [
    "# Chacked duplicate and missing value"
   ]
  },
  {
   "cell_type": "code",
   "execution_count": 18,
   "id": "6f9707a5-60c3-497f-b818-5e2cda09bfb4",
   "metadata": {},
   "outputs": [
    {
     "data": {
      "text/plain": [
       "(11326, 3)"
      ]
     },
     "execution_count": 18,
     "metadata": {},
     "output_type": "execute_result"
    }
   ],
   "source": [
    "df.shape"
   ]
  },
  {
   "cell_type": "code",
   "execution_count": 19,
   "id": "c91825c8-40ee-4536-b1ce-0c59d26b0dcc",
   "metadata": {
    "colab": {
     "base_uri": "https://localhost:8080/"
    },
    "id": "546fa124-b73e-4fa2-bbc0-7e2ec8625f92",
    "outputId": "046f19b0-3a86-4c0b-e50a-357ca629bd70"
   },
   "outputs": [
    {
     "data": {
      "text/plain": [
       "text      0\n",
       "target    0\n",
       "Label     0\n",
       "dtype: int64"
      ]
     },
     "execution_count": 19,
     "metadata": {},
     "output_type": "execute_result"
    }
   ],
   "source": [
    "# missing value\n",
    "df.isnull().sum()"
   ]
  },
  {
   "cell_type": "code",
   "execution_count": 20,
   "id": "d431f955-5208-4a75-83fb-441e10afe819",
   "metadata": {
    "colab": {
     "base_uri": "https://localhost:8080/"
    },
    "id": "d431f955-5208-4a75-83fb-441e10afe819",
    "outputId": "17735862-f5b4-48c9-be21-8dbbdc7f7c15"
   },
   "outputs": [
    {
     "data": {
      "text/plain": [
       "154"
      ]
     },
     "execution_count": 20,
     "metadata": {},
     "output_type": "execute_result"
    }
   ],
   "source": [
    "# check for duplicate value\n",
    "df.duplicated().sum()"
   ]
  },
  {
   "cell_type": "code",
   "execution_count": 21,
   "id": "f13b7665-c7c8-466c-b8fd-e219b3f35689",
   "metadata": {},
   "outputs": [
    {
     "data": {
      "text/plain": [
       "0"
      ]
     },
     "execution_count": 21,
     "metadata": {},
     "output_type": "execute_result"
    }
   ],
   "source": [
    "df= df.drop_duplicates(keep='first')\n",
    "df.duplicated().sum()"
   ]
  },
  {
   "cell_type": "code",
   "execution_count": 22,
   "id": "4f9a5e14-37ee-4467-bc77-56ef6b5b726a",
   "metadata": {},
   "outputs": [
    {
     "data": {
      "text/plain": [
       "(11172, 3)"
      ]
     },
     "execution_count": 22,
     "metadata": {},
     "output_type": "execute_result"
    }
   ],
   "source": [
    "df.shape"
   ]
  },
  {
   "cell_type": "markdown",
   "id": "30d1b297-8f9d-4aab-8f43-a78f3d7201ff",
   "metadata": {},
   "source": [
    "# Removing stop word"
   ]
  },
  {
   "cell_type": "code",
   "execution_count": 23,
   "id": "b9abb496-6df0-45db-b894-159f2e9f2629",
   "metadata": {},
   "outputs": [],
   "source": [
    "custom_bengali_stopwords = [\n",
    "    \"আমি\",\"কি\",\"সে\",\"জন্য\",\"এবং\",\"এক\",\"একটা\",\"এ\",\"ও\",\"যে\",\"এর\",\"মনে\",\"সব\",\"নাই\",\"আমরা\",\"কেন\",\"করা\",\"সাথে\",\"তো\",\"না\",\"করে\",\"আমার\",\"একটি\",\n",
    "    \"যদি\",\"দিয়ে\",\"আর\",\"নিয়ে\",\"ছিল\",\"হবে\",\"থেকে\",\"তার\",\"কিন্তু\",\"করা\",\"এটা\",\"এই\"]  # Add more as needed\n",
    "\n",
    "# Define a function to remove stop words from a given text using custom stop words\n",
    "def remove_stopwords(text):\n",
    "  \n",
    "    words = text.split()    \n",
    "    words = [word for word in words if word not in custom_bengali_stopwords]\n",
    "    return ' '.join(words)\n",
    "# Apply the modified remove_stopwords function to the 'text' column\n",
    "df['text'] = df['text'].apply(remove_stopwords)"
   ]
  },
  {
   "cell_type": "code",
   "execution_count": 24,
   "id": "5c00b971-54e7-413d-9d1c-40d03a0d87e7",
   "metadata": {},
   "outputs": [
    {
     "data": {
      "text/html": [
       "<div>\n",
       "<style scoped>\n",
       "    .dataframe tbody tr th:only-of-type {\n",
       "        vertical-align: middle;\n",
       "    }\n",
       "\n",
       "    .dataframe tbody tr th {\n",
       "        vertical-align: top;\n",
       "    }\n",
       "\n",
       "    .dataframe thead th {\n",
       "        text-align: right;\n",
       "    }\n",
       "</style>\n",
       "<table border=\"1\" class=\"dataframe\">\n",
       "  <thead>\n",
       "    <tr style=\"text-align: right;\">\n",
       "      <th></th>\n",
       "      <th>text</th>\n",
       "      <th>target</th>\n",
       "      <th>Label</th>\n",
       "    </tr>\n",
       "  </thead>\n",
       "  <tbody>\n",
       "    <tr>\n",
       "      <th>0</th>\n",
       "      <td>এলাকায় আসিস খুন ফেলে রাখবো তকে আমারে ত চিনিস ত...</td>\n",
       "      <td>0</td>\n",
       "      <td>1</td>\n",
       "    </tr>\n",
       "    <tr>\n",
       "      <th>1</th>\n",
       "      <td>কুরআন কিতাব টাই ভুল অন্য ধর্ম ঝাড়া আল্লাহ কাল্...</td>\n",
       "      <td>0</td>\n",
       "      <td>1</td>\n",
       "    </tr>\n",
       "    <tr>\n",
       "      <th>2</th>\n",
       "      <td>বাংলাদেশি খেলোয়ারদের খারাপ আচরনের আইসিসি আদালত...</td>\n",
       "      <td>1</td>\n",
       "      <td>0</td>\n",
       "    </tr>\n",
       "    <tr>\n",
       "      <th>3</th>\n",
       "      <td>তুই ভুলে যাইস আগের কথা সামনে পাইলে ছিড়া ফেলমু</td>\n",
       "      <td>0</td>\n",
       "      <td>1</td>\n",
       "    </tr>\n",
       "    <tr>\n",
       "      <th>4</th>\n",
       "      <td>কেনো শুধু শুধু অন্যের ঘাড়ে পা রেখে উপরে উঠতে চ...</td>\n",
       "      <td>1</td>\n",
       "      <td>0</td>\n",
       "    </tr>\n",
       "  </tbody>\n",
       "</table>\n",
       "</div>"
      ],
      "text/plain": [
       "                                                text  target  Label\n",
       "0  এলাকায় আসিস খুন ফেলে রাখবো তকে আমারে ত চিনিস ত...       0      1\n",
       "1  কুরআন কিতাব টাই ভুল অন্য ধর্ম ঝাড়া আল্লাহ কাল্...       0      1\n",
       "2  বাংলাদেশি খেলোয়ারদের খারাপ আচরনের আইসিসি আদালত...       1      0\n",
       "3      তুই ভুলে যাইস আগের কথা সামনে পাইলে ছিড়া ফেলমু       0      1\n",
       "4  কেনো শুধু শুধু অন্যের ঘাড়ে পা রেখে উপরে উঠতে চ...       1      0"
      ]
     },
     "execution_count": 24,
     "metadata": {},
     "output_type": "execute_result"
    }
   ],
   "source": [
    "df.head(5)"
   ]
  },
  {
   "cell_type": "code",
   "execution_count": null,
   "id": "0d90c32a-8694-4614-abc6-6305b612c0e4",
   "metadata": {},
   "outputs": [],
   "source": []
  },
  {
   "cell_type": "code",
   "execution_count": 25,
   "id": "82842092-cf63-49df-9ffc-14622fa81fd8",
   "metadata": {},
   "outputs": [],
   "source": [
    "#NUM OF WORDS\n",
    "df['num_words']=df['text'].apply(lambda x:len(nltk.word_tokenize(x)))"
   ]
  },
  {
   "cell_type": "code",
   "execution_count": 26,
   "id": "f62bb25d-25d0-4064-82cc-c3b11bfd2ed5",
   "metadata": {},
   "outputs": [],
   "source": [
    "df['num_sentences']= df['text'].apply(lambda x:len(nltk.sent_tokenize(x)))"
   ]
  },
  {
   "cell_type": "code",
   "execution_count": 27,
   "id": "dccad331-8360-4642-b3a4-534ddf3dd769",
   "metadata": {},
   "outputs": [],
   "source": [
    "df['num_characters'] = df['text'].apply(len)"
   ]
  },
  {
   "cell_type": "code",
   "execution_count": 28,
   "id": "348b4677-da38-46d8-8d00-b7816d28381e",
   "metadata": {},
   "outputs": [
    {
     "data": {
      "text/html": [
       "<div>\n",
       "<style scoped>\n",
       "    .dataframe tbody tr th:only-of-type {\n",
       "        vertical-align: middle;\n",
       "    }\n",
       "\n",
       "    .dataframe tbody tr th {\n",
       "        vertical-align: top;\n",
       "    }\n",
       "\n",
       "    .dataframe thead th {\n",
       "        text-align: right;\n",
       "    }\n",
       "</style>\n",
       "<table border=\"1\" class=\"dataframe\">\n",
       "  <thead>\n",
       "    <tr style=\"text-align: right;\">\n",
       "      <th></th>\n",
       "      <th>num_characters</th>\n",
       "      <th>num_words</th>\n",
       "      <th>num_sentences</th>\n",
       "    </tr>\n",
       "  </thead>\n",
       "  <tbody>\n",
       "    <tr>\n",
       "      <th>count</th>\n",
       "      <td>11172.000000</td>\n",
       "      <td>11172.000000</td>\n",
       "      <td>11172.0</td>\n",
       "    </tr>\n",
       "    <tr>\n",
       "      <th>mean</th>\n",
       "      <td>107.858575</td>\n",
       "      <td>17.807107</td>\n",
       "      <td>1.0</td>\n",
       "    </tr>\n",
       "    <tr>\n",
       "      <th>std</th>\n",
       "      <td>135.471050</td>\n",
       "      <td>21.627194</td>\n",
       "      <td>0.0</td>\n",
       "    </tr>\n",
       "    <tr>\n",
       "      <th>min</th>\n",
       "      <td>6.000000</td>\n",
       "      <td>1.000000</td>\n",
       "      <td>1.0</td>\n",
       "    </tr>\n",
       "    <tr>\n",
       "      <th>25%</th>\n",
       "      <td>48.000000</td>\n",
       "      <td>8.000000</td>\n",
       "      <td>1.0</td>\n",
       "    </tr>\n",
       "    <tr>\n",
       "      <th>50%</th>\n",
       "      <td>78.000000</td>\n",
       "      <td>13.000000</td>\n",
       "      <td>1.0</td>\n",
       "    </tr>\n",
       "    <tr>\n",
       "      <th>75%</th>\n",
       "      <td>124.000000</td>\n",
       "      <td>21.000000</td>\n",
       "      <td>1.0</td>\n",
       "    </tr>\n",
       "    <tr>\n",
       "      <th>max</th>\n",
       "      <td>3000.000000</td>\n",
       "      <td>478.000000</td>\n",
       "      <td>1.0</td>\n",
       "    </tr>\n",
       "  </tbody>\n",
       "</table>\n",
       "</div>"
      ],
      "text/plain": [
       "       num_characters     num_words  num_sentences\n",
       "count    11172.000000  11172.000000        11172.0\n",
       "mean       107.858575     17.807107            1.0\n",
       "std        135.471050     21.627194            0.0\n",
       "min          6.000000      1.000000            1.0\n",
       "25%         48.000000      8.000000            1.0\n",
       "50%         78.000000     13.000000            1.0\n",
       "75%        124.000000     21.000000            1.0\n",
       "max       3000.000000    478.000000            1.0"
      ]
     },
     "execution_count": 28,
     "metadata": {},
     "output_type": "execute_result"
    }
   ],
   "source": [
    "df[['num_characters','num_words','num_sentences']].describe()"
   ]
  },
  {
   "cell_type": "code",
   "execution_count": 29,
   "id": "649799a3-65b8-4e99-9a6e-33a0ea346b30",
   "metadata": {},
   "outputs": [
    {
     "data": {
      "text/html": [
       "<div>\n",
       "<style scoped>\n",
       "    .dataframe tbody tr th:only-of-type {\n",
       "        vertical-align: middle;\n",
       "    }\n",
       "\n",
       "    .dataframe tbody tr th {\n",
       "        vertical-align: top;\n",
       "    }\n",
       "\n",
       "    .dataframe thead th {\n",
       "        text-align: right;\n",
       "    }\n",
       "</style>\n",
       "<table border=\"1\" class=\"dataframe\">\n",
       "  <thead>\n",
       "    <tr style=\"text-align: right;\">\n",
       "      <th></th>\n",
       "      <th>text</th>\n",
       "      <th>target</th>\n",
       "      <th>Label</th>\n",
       "      <th>num_words</th>\n",
       "      <th>num_sentences</th>\n",
       "      <th>num_characters</th>\n",
       "    </tr>\n",
       "  </thead>\n",
       "  <tbody>\n",
       "    <tr>\n",
       "      <th>0</th>\n",
       "      <td>এলাকায় আসিস খুন ফেলে রাখবো তকে আমারে ত চিনিস ত...</td>\n",
       "      <td>0</td>\n",
       "      <td>1</td>\n",
       "      <td>12</td>\n",
       "      <td>1</td>\n",
       "      <td>58</td>\n",
       "    </tr>\n",
       "    <tr>\n",
       "      <th>1</th>\n",
       "      <td>কুরআন কিতাব টাই ভুল অন্য ধর্ম ঝাড়া আল্লাহ কাল্...</td>\n",
       "      <td>0</td>\n",
       "      <td>1</td>\n",
       "      <td>19</td>\n",
       "      <td>1</td>\n",
       "      <td>110</td>\n",
       "    </tr>\n",
       "    <tr>\n",
       "      <th>2</th>\n",
       "      <td>বাংলাদেশি খেলোয়ারদের খারাপ আচরনের আইসিসি আদালত...</td>\n",
       "      <td>1</td>\n",
       "      <td>0</td>\n",
       "      <td>11</td>\n",
       "      <td>1</td>\n",
       "      <td>80</td>\n",
       "    </tr>\n",
       "    <tr>\n",
       "      <th>3</th>\n",
       "      <td>তুই ভুলে যাইস আগের কথা সামনে পাইলে ছিড়া ফেলমু</td>\n",
       "      <td>0</td>\n",
       "      <td>1</td>\n",
       "      <td>9</td>\n",
       "      <td>1</td>\n",
       "      <td>45</td>\n",
       "    </tr>\n",
       "    <tr>\n",
       "      <th>4</th>\n",
       "      <td>কেনো শুধু শুধু অন্যের ঘাড়ে পা রেখে উপরে উঠতে চ...</td>\n",
       "      <td>1</td>\n",
       "      <td>0</td>\n",
       "      <td>32</td>\n",
       "      <td>1</td>\n",
       "      <td>187</td>\n",
       "    </tr>\n",
       "  </tbody>\n",
       "</table>\n",
       "</div>"
      ],
      "text/plain": [
       "                                                text  target  Label  \\\n",
       "0  এলাকায় আসিস খুন ফেলে রাখবো তকে আমারে ত চিনিস ত...       0      1   \n",
       "1  কুরআন কিতাব টাই ভুল অন্য ধর্ম ঝাড়া আল্লাহ কাল্...       0      1   \n",
       "2  বাংলাদেশি খেলোয়ারদের খারাপ আচরনের আইসিসি আদালত...       1      0   \n",
       "3      তুই ভুলে যাইস আগের কথা সামনে পাইলে ছিড়া ফেলমু       0      1   \n",
       "4  কেনো শুধু শুধু অন্যের ঘাড়ে পা রেখে উপরে উঠতে চ...       1      0   \n",
       "\n",
       "   num_words  num_sentences  num_characters  \n",
       "0         12              1              58  \n",
       "1         19              1             110  \n",
       "2         11              1              80  \n",
       "3          9              1              45  \n",
       "4         32              1             187  "
      ]
     },
     "execution_count": 29,
     "metadata": {},
     "output_type": "execute_result"
    }
   ],
   "source": [
    "df.head(5)"
   ]
  },
  {
   "cell_type": "markdown",
   "id": "d977021a-8ca6-45a7-9bb9-47b6b65f59a4",
   "metadata": {},
   "source": [
    "# corpus"
   ]
  },
  {
   "cell_type": "code",
   "execution_count": 30,
   "id": "56042b80-626d-4895-984a-782c6dac126f",
   "metadata": {},
   "outputs": [],
   "source": [
    "spam_corpus=[]\n",
    "for msg in df[df['target']==0]['text'].tolist():\n",
    "    for word in msg.split():\n",
    "        spam_corpus.append(word)"
   ]
  },
  {
   "cell_type": "code",
   "execution_count": 31,
   "id": "51eb4bb9-656f-4cef-bfe4-7196d8b88263",
   "metadata": {},
   "outputs": [
    {
     "data": {
      "text/plain": [
       "68394"
      ]
     },
     "execution_count": 31,
     "metadata": {},
     "output_type": "execute_result"
    }
   ],
   "source": [
    "len(spam_corpus)"
   ]
  },
  {
   "cell_type": "code",
   "execution_count": 32,
   "id": "c014448c-8395-4aa0-8aa6-6e17c7591151",
   "metadata": {},
   "outputs": [
    {
     "data": {
      "text/plain": [
       "[('ধর্ম', 514),\n",
       " ('তোর', 507),\n",
       " ('কে', 406),\n",
       " ('ইসলাম', 359),\n",
       " ('হিন্দু', 356),\n",
       " ('তুই', 347),\n",
       " ('কোন', 294),\n",
       " ('আছে', 291),\n",
       " ('কথা', 282),\n",
       " ('তোদের', 282)]"
      ]
     },
     "execution_count": 32,
     "metadata": {},
     "output_type": "execute_result"
    }
   ],
   "source": [
    "from collections import Counter\n",
    "Counter(spam_corpus).most_common(10)"
   ]
  },
  {
   "cell_type": "code",
   "execution_count": 33,
   "id": "3e663031-b795-4dc4-8037-61f41a672bb5",
   "metadata": {},
   "outputs": [],
   "source": [
    "ham_corpus=[]\n",
    "for msg in df[df['target']==1]['text'].tolist():\n",
    "    for word in msg.split():\n",
    "        ham_corpus.append(word)"
   ]
  },
  {
   "cell_type": "code",
   "execution_count": 34,
   "id": "aca785b2-d9d6-4eb3-a60a-52a3be8e7932",
   "metadata": {},
   "outputs": [
    {
     "data": {
      "text/plain": [
       "130192"
      ]
     },
     "execution_count": 34,
     "metadata": {},
     "output_type": "execute_result"
    }
   ],
   "source": [
    "len(ham_corpus)"
   ]
  },
  {
   "cell_type": "code",
   "execution_count": 35,
   "id": "b8916329-5663-4199-b56d-37d422d8f6d5",
   "metadata": {},
   "outputs": [
    {
     "data": {
      "text/plain": [
       "[('করতে', 654),\n",
       " ('তারা', 603),\n",
       " ('কিছু', 579),\n",
       " ('আছে', 548),\n",
       " ('আমাদের', 547),\n",
       " ('হয়', 515),\n",
       " ('ভাল', 493),\n",
       " ('অনেক', 486),\n",
       " ('তাদের', 474),\n",
       " ('হয়', 438)]"
      ]
     },
     "execution_count": 35,
     "metadata": {},
     "output_type": "execute_result"
    }
   ],
   "source": [
    "from collections import Counter\n",
    "Counter(ham_corpus).most_common(10)"
   ]
  },
  {
   "cell_type": "code",
   "execution_count": 36,
   "id": "7f1a0a1b-bbce-4db2-80ae-1a3361ba8172",
   "metadata": {},
   "outputs": [
    {
     "data": {
      "text/html": [
       "<div>\n",
       "<style scoped>\n",
       "    .dataframe tbody tr th:only-of-type {\n",
       "        vertical-align: middle;\n",
       "    }\n",
       "\n",
       "    .dataframe tbody tr th {\n",
       "        vertical-align: top;\n",
       "    }\n",
       "\n",
       "    .dataframe thead th {\n",
       "        text-align: right;\n",
       "    }\n",
       "</style>\n",
       "<table border=\"1\" class=\"dataframe\">\n",
       "  <thead>\n",
       "    <tr style=\"text-align: right;\">\n",
       "      <th></th>\n",
       "      <th>text</th>\n",
       "      <th>target</th>\n",
       "      <th>Label</th>\n",
       "      <th>num_words</th>\n",
       "      <th>num_sentences</th>\n",
       "      <th>num_characters</th>\n",
       "    </tr>\n",
       "  </thead>\n",
       "  <tbody>\n",
       "    <tr>\n",
       "      <th>0</th>\n",
       "      <td>এলাকায় আসিস খুন ফেলে রাখবো তকে আমারে ত চিনিস ত...</td>\n",
       "      <td>0</td>\n",
       "      <td>1</td>\n",
       "      <td>12</td>\n",
       "      <td>1</td>\n",
       "      <td>58</td>\n",
       "    </tr>\n",
       "    <tr>\n",
       "      <th>1</th>\n",
       "      <td>কুরআন কিতাব টাই ভুল অন্য ধর্ম ঝাড়া আল্লাহ কাল্...</td>\n",
       "      <td>0</td>\n",
       "      <td>1</td>\n",
       "      <td>19</td>\n",
       "      <td>1</td>\n",
       "      <td>110</td>\n",
       "    </tr>\n",
       "    <tr>\n",
       "      <th>2</th>\n",
       "      <td>বাংলাদেশি খেলোয়ারদের খারাপ আচরনের আইসিসি আদালত...</td>\n",
       "      <td>1</td>\n",
       "      <td>0</td>\n",
       "      <td>11</td>\n",
       "      <td>1</td>\n",
       "      <td>80</td>\n",
       "    </tr>\n",
       "    <tr>\n",
       "      <th>3</th>\n",
       "      <td>তুই ভুলে যাইস আগের কথা সামনে পাইলে ছিড়া ফেলমু</td>\n",
       "      <td>0</td>\n",
       "      <td>1</td>\n",
       "      <td>9</td>\n",
       "      <td>1</td>\n",
       "      <td>45</td>\n",
       "    </tr>\n",
       "    <tr>\n",
       "      <th>4</th>\n",
       "      <td>কেনো শুধু শুধু অন্যের ঘাড়ে পা রেখে উপরে উঠতে চ...</td>\n",
       "      <td>1</td>\n",
       "      <td>0</td>\n",
       "      <td>32</td>\n",
       "      <td>1</td>\n",
       "      <td>187</td>\n",
       "    </tr>\n",
       "  </tbody>\n",
       "</table>\n",
       "</div>"
      ],
      "text/plain": [
       "                                                text  target  Label  \\\n",
       "0  এলাকায় আসিস খুন ফেলে রাখবো তকে আমারে ত চিনিস ত...       0      1   \n",
       "1  কুরআন কিতাব টাই ভুল অন্য ধর্ম ঝাড়া আল্লাহ কাল্...       0      1   \n",
       "2  বাংলাদেশি খেলোয়ারদের খারাপ আচরনের আইসিসি আদালত...       1      0   \n",
       "3      তুই ভুলে যাইস আগের কথা সামনে পাইলে ছিড়া ফেলমু       0      1   \n",
       "4  কেনো শুধু শুধু অন্যের ঘাড়ে পা রেখে উপরে উঠতে চ...       1      0   \n",
       "\n",
       "   num_words  num_sentences  num_characters  \n",
       "0         12              1              58  \n",
       "1         19              1             110  \n",
       "2         11              1              80  \n",
       "3          9              1              45  \n",
       "4         32              1             187  "
      ]
     },
     "execution_count": 36,
     "metadata": {},
     "output_type": "execute_result"
    }
   ],
   "source": [
    "df.head(5)"
   ]
  },
  {
   "cell_type": "markdown",
   "id": "b4456a25-aae1-4b5c-a4af-ab26122cf484",
   "metadata": {},
   "source": [
    "# remove digits"
   ]
  },
  {
   "cell_type": "code",
   "execution_count": 37,
   "id": "f3731151-41e7-4bd6-9e26-d8206ce2d1b7",
   "metadata": {},
   "outputs": [],
   "source": [
    "import re"
   ]
  },
  {
   "cell_type": "code",
   "execution_count": 38,
   "id": "b8f83ad6-3052-4c80-b864-02e653c24ac2",
   "metadata": {},
   "outputs": [
    {
     "name": "stdout",
     "output_type": "stream",
     "text": [
      "Total Bangla digits in the dataset:  2629\n"
     ]
    }
   ],
   "source": [
    "bangla_digits_pattern = '[০১২৩৪৫৬৭৮৯]'\n",
    "total_digit_count = 0\n",
    "for index, row in df.iterrows():\n",
    "    text = row['text']\n",
    "    digit_count = len(re.findall(bangla_digits_pattern, text))\n",
    "    total_digit_count += digit_count\n",
    "print(\"Total Bangla digits in the dataset: \", total_digit_count)"
   ]
  },
  {
   "cell_type": "code",
   "execution_count": 39,
   "id": "6124399e-8d61-4310-ae71-dfacf8199194",
   "metadata": {},
   "outputs": [],
   "source": [
    "bangla_digits_pattern = '[০১২৩৪৫৬৭৮৯]'\n",
    "for index, row in df.iterrows():\n",
    "    text = row['text']\n",
    "    text_without_bangla_digits = re.sub(bangla_digits_pattern, '', text)\n",
    "    df.at[index, 'text'] = text_without_bangla_digits"
   ]
  },
  {
   "cell_type": "code",
   "execution_count": 40,
   "id": "49ee7a25-91a9-4194-ae3e-be656d0bc06e",
   "metadata": {},
   "outputs": [
    {
     "name": "stdout",
     "output_type": "stream",
     "text": [
      "Total Bangla digits in the dataset:  0\n"
     ]
    }
   ],
   "source": [
    "bangla_digits_pattern_after = '[০১২৩৪৫৬৭৮৯]'\n",
    "total_digit_count_after = 0\n",
    "for index, row in df.iterrows():\n",
    "    text = row['text']\n",
    "    digit_count = len(re.findall(bangla_digits_pattern_after, text))\n",
    "    total_digit_count_after += digit_count\n",
    "print(\"Total Bangla digits in the dataset: \", total_digit_count_after)"
   ]
  },
  {
   "cell_type": "code",
   "execution_count": null,
   "id": "9bccba7d-434d-4848-9b0a-1801b3b5c4d0",
   "metadata": {},
   "outputs": [],
   "source": []
  },
  {
   "cell_type": "markdown",
   "id": "06106ba4-0c14-4863-965d-b1a9fd50ef0f",
   "metadata": {
    "colab": {
     "base_uri": "https://localhost:8080/"
    },
    "id": "2dc997ab-51cc-48c0-a403-37b6171cbdf9",
    "outputId": "96885579-a898-49db-cc2a-08bfa627e8f6"
   },
   "source": [
    "# EDA"
   ]
  },
  {
   "cell_type": "code",
   "execution_count": 41,
   "id": "1e8d6a8c-cc1b-4467-bc60-9201bef48657",
   "metadata": {
    "colab": {
     "base_uri": "https://localhost:8080/"
    },
    "id": "1e8d6a8c-cc1b-4467-bc60-9201bef48657",
    "outputId": "f9a89e64-7867-4eea-ae76-e5831d9f42e1"
   },
   "outputs": [
    {
     "data": {
      "text/plain": [
       "target\n",
       "1    5705\n",
       "0    5467\n",
       "Name: count, dtype: int64"
      ]
     },
     "execution_count": 41,
     "metadata": {},
     "output_type": "execute_result"
    }
   ],
   "source": [
    "df['target'].value_counts()"
   ]
  },
  {
   "cell_type": "code",
   "execution_count": 42,
   "id": "b12181ca-b5bb-4a0f-b0b7-c2e8997bd40a",
   "metadata": {
    "id": "b12181ca-b5bb-4a0f-b0b7-c2e8997bd40a"
   },
   "outputs": [],
   "source": [
    "import matplotlib.pyplot as plt"
   ]
  },
  {
   "cell_type": "code",
   "execution_count": 43,
   "id": "59643ab3-8e9f-4f96-9925-cc574d067719",
   "metadata": {},
   "outputs": [
    {
     "data": {
      "text/html": [
       "<div>\n",
       "<style scoped>\n",
       "    .dataframe tbody tr th:only-of-type {\n",
       "        vertical-align: middle;\n",
       "    }\n",
       "\n",
       "    .dataframe tbody tr th {\n",
       "        vertical-align: top;\n",
       "    }\n",
       "\n",
       "    .dataframe thead th {\n",
       "        text-align: right;\n",
       "    }\n",
       "</style>\n",
       "<table border=\"1\" class=\"dataframe\">\n",
       "  <thead>\n",
       "    <tr style=\"text-align: right;\">\n",
       "      <th></th>\n",
       "      <th>text</th>\n",
       "      <th>target</th>\n",
       "      <th>Label</th>\n",
       "      <th>num_words</th>\n",
       "      <th>num_sentences</th>\n",
       "      <th>num_characters</th>\n",
       "    </tr>\n",
       "  </thead>\n",
       "  <tbody>\n",
       "    <tr>\n",
       "      <th>0</th>\n",
       "      <td>এলাকায় আসিস খুন ফেলে রাখবো তকে আমারে ত চিনিস ত...</td>\n",
       "      <td>0</td>\n",
       "      <td>1</td>\n",
       "      <td>12</td>\n",
       "      <td>1</td>\n",
       "      <td>58</td>\n",
       "    </tr>\n",
       "    <tr>\n",
       "      <th>1</th>\n",
       "      <td>কুরআন কিতাব টাই ভুল অন্য ধর্ম ঝাড়া আল্লাহ কাল্...</td>\n",
       "      <td>0</td>\n",
       "      <td>1</td>\n",
       "      <td>19</td>\n",
       "      <td>1</td>\n",
       "      <td>110</td>\n",
       "    </tr>\n",
       "    <tr>\n",
       "      <th>2</th>\n",
       "      <td>বাংলাদেশি খেলোয়ারদের খারাপ আচরনের আইসিসি আদালত...</td>\n",
       "      <td>1</td>\n",
       "      <td>0</td>\n",
       "      <td>11</td>\n",
       "      <td>1</td>\n",
       "      <td>80</td>\n",
       "    </tr>\n",
       "    <tr>\n",
       "      <th>3</th>\n",
       "      <td>তুই ভুলে যাইস আগের কথা সামনে পাইলে ছিড়া ফেলমু</td>\n",
       "      <td>0</td>\n",
       "      <td>1</td>\n",
       "      <td>9</td>\n",
       "      <td>1</td>\n",
       "      <td>45</td>\n",
       "    </tr>\n",
       "    <tr>\n",
       "      <th>4</th>\n",
       "      <td>কেনো শুধু শুধু অন্যের ঘাড়ে পা রেখে উপরে উঠতে চ...</td>\n",
       "      <td>1</td>\n",
       "      <td>0</td>\n",
       "      <td>32</td>\n",
       "      <td>1</td>\n",
       "      <td>187</td>\n",
       "    </tr>\n",
       "  </tbody>\n",
       "</table>\n",
       "</div>"
      ],
      "text/plain": [
       "                                                text  target  Label  \\\n",
       "0  এলাকায় আসিস খুন ফেলে রাখবো তকে আমারে ত চিনিস ত...       0      1   \n",
       "1  কুরআন কিতাব টাই ভুল অন্য ধর্ম ঝাড়া আল্লাহ কাল্...       0      1   \n",
       "2  বাংলাদেশি খেলোয়ারদের খারাপ আচরনের আইসিসি আদালত...       1      0   \n",
       "3      তুই ভুলে যাইস আগের কথা সামনে পাইলে ছিড়া ফেলমু       0      1   \n",
       "4  কেনো শুধু শুধু অন্যের ঘাড়ে পা রেখে উপরে উঠতে চ...       1      0   \n",
       "\n",
       "   num_words  num_sentences  num_characters  \n",
       "0         12              1              58  \n",
       "1         19              1             110  \n",
       "2         11              1              80  \n",
       "3          9              1              45  \n",
       "4         32              1             187  "
      ]
     },
     "execution_count": 43,
     "metadata": {},
     "output_type": "execute_result"
    }
   ],
   "source": [
    "df.head()"
   ]
  },
  {
   "cell_type": "code",
   "execution_count": 144,
   "id": "fb68e776-fb6f-4db8-8df3-3732f6b8b765",
   "metadata": {
    "colab": {
     "base_uri": "https://localhost:8080/",
     "height": 510
    },
    "id": "fb68e776-fb6f-4db8-8df3-3732f6b8b765",
    "outputId": "66db0a95-333b-4cce-d04e-ad6f024cbe0c"
   },
   "outputs": [
    {
     "data": {
      "image/png": "[encoded data removed]",
      "text/plain": [
       "<Figure size 640x480 with 1 Axes>"
      ]
     },
     "metadata": {},
     "output_type": "display_data"
    }
   ],
   "source": [
    "plt.pie(df['target'].value_counts(), labels=['ham','spam'],autopct=\"%0.3f\")\n",
    "plt.show()"
   ]
  },
  {
   "cell_type": "code",
   "execution_count": 45,
   "id": "1f23d455-1bb5-46de-aeef-7d82fb577982",
   "metadata": {
    "id": "1f23d455-1bb5-46de-aeef-7d82fb577982"
   },
   "outputs": [],
   "source": [
    "import nltk"
   ]
  },
  {
   "cell_type": "code",
   "execution_count": 46,
   "id": "1b523983-be3b-4ab2-af5e-cbf86c7de94a",
   "metadata": {},
   "outputs": [
    {
     "data": {
      "text/plain": [
       "0         58\n",
       "1        110\n",
       "2         80\n",
       "3         45\n",
       "4        187\n",
       "        ... \n",
       "11321    102\n",
       "11322    226\n",
       "11323     83\n",
       "11324    163\n",
       "11325     24\n",
       "Name: text, Length: 11172, dtype: int64"
      ]
     },
     "execution_count": 46,
     "metadata": {},
     "output_type": "execute_result"
    }
   ],
   "source": [
    "df['text'].apply(len)"
   ]
  },
  {
   "cell_type": "code",
   "execution_count": 47,
   "id": "d8028a3a-0dec-41bc-bfee-4299d7007f82",
   "metadata": {},
   "outputs": [],
   "source": [
    "df['num_characters'] = df['text'].apply(len)"
   ]
  },
  {
   "cell_type": "code",
   "execution_count": 48,
   "id": "564bcbbe-2cda-4c7d-9d09-3054b24c5056",
   "metadata": {},
   "outputs": [
    {
     "data": {
      "text/html": [
       "<div>\n",
       "<style scoped>\n",
       "    .dataframe tbody tr th:only-of-type {\n",
       "        vertical-align: middle;\n",
       "    }\n",
       "\n",
       "    .dataframe tbody tr th {\n",
       "        vertical-align: top;\n",
       "    }\n",
       "\n",
       "    .dataframe thead th {\n",
       "        text-align: right;\n",
       "    }\n",
       "</style>\n",
       "<table border=\"1\" class=\"dataframe\">\n",
       "  <thead>\n",
       "    <tr style=\"text-align: right;\">\n",
       "      <th></th>\n",
       "      <th>text</th>\n",
       "      <th>target</th>\n",
       "      <th>Label</th>\n",
       "      <th>num_words</th>\n",
       "      <th>num_sentences</th>\n",
       "      <th>num_characters</th>\n",
       "    </tr>\n",
       "  </thead>\n",
       "  <tbody>\n",
       "    <tr>\n",
       "      <th>0</th>\n",
       "      <td>এলাকায় আসিস খুন ফেলে রাখবো তকে আমারে ত চিনিস ত...</td>\n",
       "      <td>0</td>\n",
       "      <td>1</td>\n",
       "      <td>12</td>\n",
       "      <td>1</td>\n",
       "      <td>58</td>\n",
       "    </tr>\n",
       "    <tr>\n",
       "      <th>1</th>\n",
       "      <td>কুরআন কিতাব টাই ভুল অন্য ধর্ম ঝাড়া আল্লাহ কাল্...</td>\n",
       "      <td>0</td>\n",
       "      <td>1</td>\n",
       "      <td>19</td>\n",
       "      <td>1</td>\n",
       "      <td>110</td>\n",
       "    </tr>\n",
       "    <tr>\n",
       "      <th>2</th>\n",
       "      <td>বাংলাদেশি খেলোয়ারদের খারাপ আচরনের আইসিসি আদালত...</td>\n",
       "      <td>1</td>\n",
       "      <td>0</td>\n",
       "      <td>11</td>\n",
       "      <td>1</td>\n",
       "      <td>80</td>\n",
       "    </tr>\n",
       "    <tr>\n",
       "      <th>3</th>\n",
       "      <td>তুই ভুলে যাইস আগের কথা সামনে পাইলে ছিড়া ফেলমু</td>\n",
       "      <td>0</td>\n",
       "      <td>1</td>\n",
       "      <td>9</td>\n",
       "      <td>1</td>\n",
       "      <td>45</td>\n",
       "    </tr>\n",
       "    <tr>\n",
       "      <th>4</th>\n",
       "      <td>কেনো শুধু শুধু অন্যের ঘাড়ে পা রেখে উপরে উঠতে চ...</td>\n",
       "      <td>1</td>\n",
       "      <td>0</td>\n",
       "      <td>32</td>\n",
       "      <td>1</td>\n",
       "      <td>187</td>\n",
       "    </tr>\n",
       "  </tbody>\n",
       "</table>\n",
       "</div>"
      ],
      "text/plain": [
       "                                                text  target  Label  \\\n",
       "0  এলাকায় আসিস খুন ফেলে রাখবো তকে আমারে ত চিনিস ত...       0      1   \n",
       "1  কুরআন কিতাব টাই ভুল অন্য ধর্ম ঝাড়া আল্লাহ কাল্...       0      1   \n",
       "2  বাংলাদেশি খেলোয়ারদের খারাপ আচরনের আইসিসি আদালত...       1      0   \n",
       "3      তুই ভুলে যাইস আগের কথা সামনে পাইলে ছিড়া ফেলমু       0      1   \n",
       "4  কেনো শুধু শুধু অন্যের ঘাড়ে পা রেখে উপরে উঠতে চ...       1      0   \n",
       "\n",
       "   num_words  num_sentences  num_characters  \n",
       "0         12              1              58  \n",
       "1         19              1             110  \n",
       "2         11              1              80  \n",
       "3          9              1              45  \n",
       "4         32              1             187  "
      ]
     },
     "execution_count": 48,
     "metadata": {},
     "output_type": "execute_result"
    }
   ],
   "source": [
    "df.head()"
   ]
  },
  {
   "cell_type": "code",
   "execution_count": 49,
   "id": "df4a4c40-4e0e-45fd-978b-7d7fdf6287b8",
   "metadata": {},
   "outputs": [],
   "source": [
    "# 0 spam and 1 ham"
   ]
  },
  {
   "cell_type": "code",
   "execution_count": 50,
   "id": "a0c5eb09-f46d-4f5b-bf4b-6d2164fd50e4",
   "metadata": {},
   "outputs": [],
   "source": [
    "#NUM OF WORDS\n",
    "df['num_words']=df['text'].apply(lambda x:len(nltk.word_tokenize(x)))"
   ]
  },
  {
   "cell_type": "code",
   "execution_count": 51,
   "id": "332be93c-61b1-4097-8ca9-a1ea1ff9283e",
   "metadata": {},
   "outputs": [],
   "source": [
    "df['num_sentences']= df['text'].apply(lambda x:len(nltk.sent_tokenize(x)))"
   ]
  },
  {
   "cell_type": "code",
   "execution_count": 52,
   "id": "82b9a0c8-6f2e-42b2-ab49-d23dc3420e67",
   "metadata": {},
   "outputs": [
    {
     "data": {
      "text/html": [
       "<div>\n",
       "<style scoped>\n",
       "    .dataframe tbody tr th:only-of-type {\n",
       "        vertical-align: middle;\n",
       "    }\n",
       "\n",
       "    .dataframe tbody tr th {\n",
       "        vertical-align: top;\n",
       "    }\n",
       "\n",
       "    .dataframe thead th {\n",
       "        text-align: right;\n",
       "    }\n",
       "</style>\n",
       "<table border=\"1\" class=\"dataframe\">\n",
       "  <thead>\n",
       "    <tr style=\"text-align: right;\">\n",
       "      <th></th>\n",
       "      <th>num_characters</th>\n",
       "      <th>num_words</th>\n",
       "      <th>num_sentences</th>\n",
       "    </tr>\n",
       "  </thead>\n",
       "  <tbody>\n",
       "    <tr>\n",
       "      <th>count</th>\n",
       "      <td>11172.000000</td>\n",
       "      <td>11172.000000</td>\n",
       "      <td>11172.0</td>\n",
       "    </tr>\n",
       "    <tr>\n",
       "      <th>mean</th>\n",
       "      <td>107.623255</td>\n",
       "      <td>17.719388</td>\n",
       "      <td>1.0</td>\n",
       "    </tr>\n",
       "    <tr>\n",
       "      <th>std</th>\n",
       "      <td>135.352398</td>\n",
       "      <td>21.586215</td>\n",
       "      <td>0.0</td>\n",
       "    </tr>\n",
       "    <tr>\n",
       "      <th>min</th>\n",
       "      <td>6.000000</td>\n",
       "      <td>1.000000</td>\n",
       "      <td>1.0</td>\n",
       "    </tr>\n",
       "    <tr>\n",
       "      <th>25%</th>\n",
       "      <td>48.000000</td>\n",
       "      <td>8.000000</td>\n",
       "      <td>1.0</td>\n",
       "    </tr>\n",
       "    <tr>\n",
       "      <th>50%</th>\n",
       "      <td>78.000000</td>\n",
       "      <td>13.000000</td>\n",
       "      <td>1.0</td>\n",
       "    </tr>\n",
       "    <tr>\n",
       "      <th>75%</th>\n",
       "      <td>123.000000</td>\n",
       "      <td>20.000000</td>\n",
       "      <td>1.0</td>\n",
       "    </tr>\n",
       "    <tr>\n",
       "      <th>max</th>\n",
       "      <td>3000.000000</td>\n",
       "      <td>478.000000</td>\n",
       "      <td>1.0</td>\n",
       "    </tr>\n",
       "  </tbody>\n",
       "</table>\n",
       "</div>"
      ],
      "text/plain": [
       "       num_characters     num_words  num_sentences\n",
       "count    11172.000000  11172.000000        11172.0\n",
       "mean       107.623255     17.719388            1.0\n",
       "std        135.352398     21.586215            0.0\n",
       "min          6.000000      1.000000            1.0\n",
       "25%         48.000000      8.000000            1.0\n",
       "50%         78.000000     13.000000            1.0\n",
       "75%        123.000000     20.000000            1.0\n",
       "max       3000.000000    478.000000            1.0"
      ]
     },
     "execution_count": 52,
     "metadata": {},
     "output_type": "execute_result"
    }
   ],
   "source": [
    "df[['num_characters','num_words','num_sentences']].describe()"
   ]
  },
  {
   "cell_type": "code",
   "execution_count": 53,
   "id": "6682f795-16f2-42c3-afef-31f542c4e916",
   "metadata": {},
   "outputs": [],
   "source": [
    "import seaborn as sns"
   ]
  },
  {
   "cell_type": "code",
   "execution_count": 54,
   "id": "946d93a5-8b20-47d5-ba61-55dc4549e9cd",
   "metadata": {},
   "outputs": [
    {
     "data": {
      "text/html": [
       "<div>\n",
       "<style scoped>\n",
       "    .dataframe tbody tr th:only-of-type {\n",
       "        vertical-align: middle;\n",
       "    }\n",
       "\n",
       "    .dataframe tbody tr th {\n",
       "        vertical-align: top;\n",
       "    }\n",
       "\n",
       "    .dataframe thead th {\n",
       "        text-align: right;\n",
       "    }\n",
       "</style>\n",
       "<table border=\"1\" class=\"dataframe\">\n",
       "  <thead>\n",
       "    <tr style=\"text-align: right;\">\n",
       "      <th></th>\n",
       "      <th>num_characters</th>\n",
       "      <th>num_words</th>\n",
       "      <th>num_sentences</th>\n",
       "    </tr>\n",
       "  </thead>\n",
       "  <tbody>\n",
       "    <tr>\n",
       "      <th>count</th>\n",
       "      <td>5705.000000</td>\n",
       "      <td>5705.000000</td>\n",
       "      <td>5705.0</td>\n",
       "    </tr>\n",
       "    <tr>\n",
       "      <th>mean</th>\n",
       "      <td>140.151271</td>\n",
       "      <td>22.744084</td>\n",
       "      <td>1.0</td>\n",
       "    </tr>\n",
       "    <tr>\n",
       "      <th>std</th>\n",
       "      <td>175.530595</td>\n",
       "      <td>27.975503</td>\n",
       "      <td>0.0</td>\n",
       "    </tr>\n",
       "    <tr>\n",
       "      <th>min</th>\n",
       "      <td>6.000000</td>\n",
       "      <td>1.000000</td>\n",
       "      <td>1.0</td>\n",
       "    </tr>\n",
       "    <tr>\n",
       "      <th>25%</th>\n",
       "      <td>68.000000</td>\n",
       "      <td>11.000000</td>\n",
       "      <td>1.0</td>\n",
       "    </tr>\n",
       "    <tr>\n",
       "      <th>50%</th>\n",
       "      <td>101.000000</td>\n",
       "      <td>17.000000</td>\n",
       "      <td>1.0</td>\n",
       "    </tr>\n",
       "    <tr>\n",
       "      <th>75%</th>\n",
       "      <td>150.000000</td>\n",
       "      <td>24.000000</td>\n",
       "      <td>1.0</td>\n",
       "    </tr>\n",
       "    <tr>\n",
       "      <th>max</th>\n",
       "      <td>3000.000000</td>\n",
       "      <td>478.000000</td>\n",
       "      <td>1.0</td>\n",
       "    </tr>\n",
       "  </tbody>\n",
       "</table>\n",
       "</div>"
      ],
      "text/plain": [
       "       num_characters    num_words  num_sentences\n",
       "count     5705.000000  5705.000000         5705.0\n",
       "mean       140.151271    22.744084            1.0\n",
       "std        175.530595    27.975503            0.0\n",
       "min          6.000000     1.000000            1.0\n",
       "25%         68.000000    11.000000            1.0\n",
       "50%        101.000000    17.000000            1.0\n",
       "75%        150.000000    24.000000            1.0\n",
       "max       3000.000000   478.000000            1.0"
      ]
     },
     "execution_count": 54,
     "metadata": {},
     "output_type": "execute_result"
    }
   ],
   "source": [
    "df[df['target']==1][['num_characters','num_words','num_sentences']].describe()"
   ]
  },
  {
   "cell_type": "code",
   "execution_count": 55,
   "id": "b970bad3-9561-4251-9a37-b82d2479c9db",
   "metadata": {},
   "outputs": [
    {
     "data": {
      "text/html": [
       "<div>\n",
       "<style scoped>\n",
       "    .dataframe tbody tr th:only-of-type {\n",
       "        vertical-align: middle;\n",
       "    }\n",
       "\n",
       "    .dataframe tbody tr th {\n",
       "        vertical-align: top;\n",
       "    }\n",
       "\n",
       "    .dataframe thead th {\n",
       "        text-align: right;\n",
       "    }\n",
       "</style>\n",
       "<table border=\"1\" class=\"dataframe\">\n",
       "  <thead>\n",
       "    <tr style=\"text-align: right;\">\n",
       "      <th></th>\n",
       "      <th>num_characters</th>\n",
       "      <th>num_words</th>\n",
       "      <th>num_sentences</th>\n",
       "    </tr>\n",
       "  </thead>\n",
       "  <tbody>\n",
       "    <tr>\n",
       "      <th>count</th>\n",
       "      <td>5467.000000</td>\n",
       "      <td>5467.000000</td>\n",
       "      <td>5467.0</td>\n",
       "    </tr>\n",
       "    <tr>\n",
       "      <th>mean</th>\n",
       "      <td>73.679166</td>\n",
       "      <td>12.475947</td>\n",
       "      <td>1.0</td>\n",
       "    </tr>\n",
       "    <tr>\n",
       "      <th>std</th>\n",
       "      <td>55.066213</td>\n",
       "      <td>9.041430</td>\n",
       "      <td>0.0</td>\n",
       "    </tr>\n",
       "    <tr>\n",
       "      <th>min</th>\n",
       "      <td>8.000000</td>\n",
       "      <td>1.000000</td>\n",
       "      <td>1.0</td>\n",
       "    </tr>\n",
       "    <tr>\n",
       "      <th>25%</th>\n",
       "      <td>38.000000</td>\n",
       "      <td>7.000000</td>\n",
       "      <td>1.0</td>\n",
       "    </tr>\n",
       "    <tr>\n",
       "      <th>50%</th>\n",
       "      <td>57.000000</td>\n",
       "      <td>10.000000</td>\n",
       "      <td>1.0</td>\n",
       "    </tr>\n",
       "    <tr>\n",
       "      <th>75%</th>\n",
       "      <td>92.000000</td>\n",
       "      <td>15.000000</td>\n",
       "      <td>1.0</td>\n",
       "    </tr>\n",
       "    <tr>\n",
       "      <th>max</th>\n",
       "      <td>739.000000</td>\n",
       "      <td>122.000000</td>\n",
       "      <td>1.0</td>\n",
       "    </tr>\n",
       "  </tbody>\n",
       "</table>\n",
       "</div>"
      ],
      "text/plain": [
       "       num_characters    num_words  num_sentences\n",
       "count     5467.000000  5467.000000         5467.0\n",
       "mean        73.679166    12.475947            1.0\n",
       "std         55.066213     9.041430            0.0\n",
       "min          8.000000     1.000000            1.0\n",
       "25%         38.000000     7.000000            1.0\n",
       "50%         57.000000    10.000000            1.0\n",
       "75%         92.000000    15.000000            1.0\n",
       "max        739.000000   122.000000            1.0"
      ]
     },
     "execution_count": 55,
     "metadata": {},
     "output_type": "execute_result"
    }
   ],
   "source": [
    "df[df['target']==0][['num_characters','num_words','num_sentences']].describe()"
   ]
  },
  {
   "cell_type": "code",
   "execution_count": 56,
   "id": "92c24b44-53d6-43bd-aba1-ec21dd9eaee6",
   "metadata": {},
   "outputs": [
    {
     "data": {
      "text/plain": [
       "<Axes: xlabel='num_characters', ylabel='Count'>"
      ]
     },
     "execution_count": 56,
     "metadata": {},
     "output_type": "execute_result"
    },
    {
     "data": {
      "image/png": "[encoded data removed]",
      "text/plain": [
       "<Figure size 640x480 with 1 Axes>"
      ]
     },
     "metadata": {},
     "output_type": "display_data"
    }
   ],
   "source": [
    "sns.histplot(df[df['target']==0]['num_characters'],color='red')\n",
    "sns.histplot(df[df['target']==1]['num_characters'],color='yellow')"
   ]
  },
  {
   "cell_type": "code",
   "execution_count": 57,
   "id": "d303874d-72f4-48b5-9d4c-4ce0ab0ba3c0",
   "metadata": {},
   "outputs": [
    {
     "data": {
      "text/plain": [
       "<Axes: xlabel='num_words', ylabel='Count'>"
      ]
     },
     "execution_count": 57,
     "metadata": {},
     "output_type": "execute_result"
    },
    {
     "data": {
      "image/png": "[encoded data removed]",
      "text/plain": [
       "<Figure size 640x480 with 1 Axes>"
      ]
     },
     "metadata": {},
     "output_type": "display_data"
    }
   ],
   "source": [
    "sns.histplot(df[df['target']==0]['num_words'],color='red')\n",
    "sns.histplot(df[df['target']==1]['num_words'],color='yellow')"
   ]
  },
  {
   "cell_type": "code",
   "execution_count": 58,
   "id": "199f2b89-0dc3-41ea-ab47-7af841d54485",
   "metadata": {},
   "outputs": [
    {
     "data": {
      "text/plain": [
       "<Axes: >"
      ]
     },
     "execution_count": 58,
     "metadata": {},
     "output_type": "execute_result"
    },
    {
     "data": {
      "image/png": "[encoded data removed]",
      "text/plain": [
       "<Figure size 640x480 with 2 Axes>"
      ]
     },
     "metadata": {},
     "output_type": "display_data"
    }
   ],
   "source": [
    "# we you have a DataFrame df and you want to include only numeric columns\n",
    "numeric_df = df.select_dtypes(include=[np.number])\n",
    "sns.heatmap(numeric_df.corr(), annot=True)"
   ]
  },
  {
   "cell_type": "code",
   "execution_count": 59,
   "id": "8c18e72e-3614-4537-a4be-c50eac7637e2",
   "metadata": {},
   "outputs": [
    {
     "data": {
      "text/html": [
       "<div>\n",
       "<style scoped>\n",
       "    .dataframe tbody tr th:only-of-type {\n",
       "        vertical-align: middle;\n",
       "    }\n",
       "\n",
       "    .dataframe tbody tr th {\n",
       "        vertical-align: top;\n",
       "    }\n",
       "\n",
       "    .dataframe thead th {\n",
       "        text-align: right;\n",
       "    }\n",
       "</style>\n",
       "<table border=\"1\" class=\"dataframe\">\n",
       "  <thead>\n",
       "    <tr style=\"text-align: right;\">\n",
       "      <th></th>\n",
       "      <th>text</th>\n",
       "      <th>target</th>\n",
       "      <th>Label</th>\n",
       "      <th>num_words</th>\n",
       "      <th>num_sentences</th>\n",
       "      <th>num_characters</th>\n",
       "    </tr>\n",
       "  </thead>\n",
       "  <tbody>\n",
       "    <tr>\n",
       "      <th>0</th>\n",
       "      <td>এলাকায় আসিস খুন ফেলে রাখবো তকে আমারে ত চিনিস ত...</td>\n",
       "      <td>0</td>\n",
       "      <td>1</td>\n",
       "      <td>12</td>\n",
       "      <td>1</td>\n",
       "      <td>58</td>\n",
       "    </tr>\n",
       "    <tr>\n",
       "      <th>1</th>\n",
       "      <td>কুরআন কিতাব টাই ভুল অন্য ধর্ম ঝাড়া আল্লাহ কাল্...</td>\n",
       "      <td>0</td>\n",
       "      <td>1</td>\n",
       "      <td>19</td>\n",
       "      <td>1</td>\n",
       "      <td>110</td>\n",
       "    </tr>\n",
       "    <tr>\n",
       "      <th>2</th>\n",
       "      <td>বাংলাদেশি খেলোয়ারদের খারাপ আচরনের আইসিসি আদালত...</td>\n",
       "      <td>1</td>\n",
       "      <td>0</td>\n",
       "      <td>11</td>\n",
       "      <td>1</td>\n",
       "      <td>80</td>\n",
       "    </tr>\n",
       "    <tr>\n",
       "      <th>3</th>\n",
       "      <td>তুই ভুলে যাইস আগের কথা সামনে পাইলে ছিড়া ফেলমু</td>\n",
       "      <td>0</td>\n",
       "      <td>1</td>\n",
       "      <td>9</td>\n",
       "      <td>1</td>\n",
       "      <td>45</td>\n",
       "    </tr>\n",
       "    <tr>\n",
       "      <th>4</th>\n",
       "      <td>কেনো শুধু শুধু অন্যের ঘাড়ে পা রেখে উপরে উঠতে চ...</td>\n",
       "      <td>1</td>\n",
       "      <td>0</td>\n",
       "      <td>32</td>\n",
       "      <td>1</td>\n",
       "      <td>187</td>\n",
       "    </tr>\n",
       "  </tbody>\n",
       "</table>\n",
       "</div>"
      ],
      "text/plain": [
       "                                                text  target  Label  \\\n",
       "0  এলাকায় আসিস খুন ফেলে রাখবো তকে আমারে ত চিনিস ত...       0      1   \n",
       "1  কুরআন কিতাব টাই ভুল অন্য ধর্ম ঝাড়া আল্লাহ কাল্...       0      1   \n",
       "2  বাংলাদেশি খেলোয়ারদের খারাপ আচরনের আইসিসি আদালত...       1      0   \n",
       "3      তুই ভুলে যাইস আগের কথা সামনে পাইলে ছিড়া ফেলমু       0      1   \n",
       "4  কেনো শুধু শুধু অন্যের ঘাড়ে পা রেখে উপরে উঠতে চ...       1      0   \n",
       "\n",
       "   num_words  num_sentences  num_characters  \n",
       "0         12              1              58  \n",
       "1         19              1             110  \n",
       "2         11              1              80  \n",
       "3          9              1              45  \n",
       "4         32              1             187  "
      ]
     },
     "execution_count": 59,
     "metadata": {},
     "output_type": "execute_result"
    }
   ],
   "source": [
    "df.head()"
   ]
  },
  {
   "cell_type": "markdown",
   "id": "00b1a5d3-c57e-4a99-a47b-0527a0c77268",
   "metadata": {},
   "source": [
    "# wordcloud"
   ]
  },
  {
   "cell_type": "code",
   "execution_count": 60,
   "id": "bf059f32-64df-4149-95a0-27765ea4f8eb",
   "metadata": {},
   "outputs": [
    {
     "name": "stderr",
     "output_type": "stream",
     "text": [
      "[nltk_data] Downloading package stopwords to\n",
      "[nltk_data]     your/actual/nltk_data_directory...\n",
      "[nltk_data]   Unzipping corpora\\stopwords.zip.\n"
     ]
    }
   ],
   "source": [
    "import string\n",
    "import nltk\n",
    "from nltk.corpus import stopwords\n",
    "import string\n",
    "# Replace 'your/actual/nltk_data_directory' with the path you want to use\n",
    "nltk.data.path.append('your/actual/nltk_data_directory')\n",
    "# Download Bengali stopwords data\n",
    "nltk.download('stopwords', download_dir='your/actual/nltk_data_directory')\n",
    "\n",
    "def transform_text(text):\n",
    "    text = nltk.word_tokenize(text)\n",
    "    \n",
    "    y = []\n",
    "    for i in text:\n",
    "        if i.isalnum():\n",
    "            y.append(i)\n",
    "    \n",
    "    text = y[:]\n",
    "    y.clear()\n",
    "    \n",
    "    # Specify language as 'bengali'\n",
    "    for i in text:\n",
    "        if i not in stopwords.words('bengali') and i not in string.punctuation:\n",
    "            y.append(i)\n",
    "            \n",
    "    return \" \".join(y)"
   ]
  },
  {
   "cell_type": "code",
   "execution_count": 61,
   "id": "98620ae3-ef23-429a-8954-3d2ea0ecec0a",
   "metadata": {},
   "outputs": [],
   "source": [
    "df['transformed_text'] = df['text'].apply(transform_text)"
   ]
  },
  {
   "cell_type": "code",
   "execution_count": 62,
   "id": "49e2eed8-a5cf-4d94-93e1-62ba367b5a58",
   "metadata": {},
   "outputs": [],
   "source": [
    "from wordcloud import WordCloud\n",
    "wc = WordCloud(font_path='kalpurush.ttf',width=500,height=500,min_font_size=10,background_color='white')"
   ]
  },
  {
   "cell_type": "code",
   "execution_count": 63,
   "id": "d9d460c7-22ee-461e-b05b-504164b52347",
   "metadata": {},
   "outputs": [],
   "source": [
    "spam_wc = wc.generate(df[df['target'] == 1]['transformed_text'].str.cat(sep=\" \"))"
   ]
  },
  {
   "cell_type": "code",
   "execution_count": 64,
   "id": "8b8f937a-adb2-4916-9713-94f939bdf1e1",
   "metadata": {},
   "outputs": [
    {
     "data": {
      "text/plain": [
       "<matplotlib.image.AxesImage at 0x1f0df04d350>"
      ]
     },
     "execution_count": 64,
     "metadata": {},
     "output_type": "execute_result"
    },
    {
     "data": {
      "image/png": "[encoded data removed]",
      "text/plain": [
       "<Figure size 1500x600 with 1 Axes>"
      ]
     },
     "metadata": {},
     "output_type": "display_data"
    }
   ],
   "source": [
    "plt.figure(figsize=(15,6))\n",
    "plt.imshow(spam_wc)"
   ]
  },
  {
   "cell_type": "code",
   "execution_count": 65,
   "id": "359a38e5-14d3-4228-8280-d3d2a89e66c3",
   "metadata": {},
   "outputs": [],
   "source": [
    "spam_wc = wc.generate(df[df['target'] == 0]['transformed_text'].str.cat(sep=\" \"))"
   ]
  },
  {
   "cell_type": "code",
   "execution_count": 66,
   "id": "a3e0e61c-482a-4cad-97c2-069faa6b5916",
   "metadata": {},
   "outputs": [
    {
     "data": {
      "text/plain": [
       "<matplotlib.image.AxesImage at 0x1f0e027bd90>"
      ]
     },
     "execution_count": 66,
     "metadata": {},
     "output_type": "execute_result"
    },
    {
     "data": {
      "image/png": "[encoded data removed]",
      "text/plain": [
       "<Figure size 1500x600 with 1 Axes>"
      ]
     },
     "metadata": {},
     "output_type": "display_data"
    }
   ],
   "source": [
    "plt.figure(figsize=(15,6))\n",
    "plt.imshow(spam_wc)"
   ]
  },
  {
   "cell_type": "code",
   "execution_count": 67,
   "id": "e08fb522-f5a8-4a83-8de6-b68ac649f261",
   "metadata": {},
   "outputs": [
    {
     "data": {
      "text/html": [
       "<div>\n",
       "<style scoped>\n",
       "    .dataframe tbody tr th:only-of-type {\n",
       "        vertical-align: middle;\n",
       "    }\n",
       "\n",
       "    .dataframe tbody tr th {\n",
       "        vertical-align: top;\n",
       "    }\n",
       "\n",
       "    .dataframe thead th {\n",
       "        text-align: right;\n",
       "    }\n",
       "</style>\n",
       "<table border=\"1\" class=\"dataframe\">\n",
       "  <thead>\n",
       "    <tr style=\"text-align: right;\">\n",
       "      <th></th>\n",
       "      <th>text</th>\n",
       "      <th>target</th>\n",
       "      <th>Label</th>\n",
       "      <th>num_words</th>\n",
       "      <th>num_sentences</th>\n",
       "      <th>num_characters</th>\n",
       "      <th>transformed_text</th>\n",
       "    </tr>\n",
       "  </thead>\n",
       "  <tbody>\n",
       "    <tr>\n",
       "      <th>0</th>\n",
       "      <td>এলাকায় আসিস খুন ফেলে রাখবো তকে আমারে ত চিনিস ত...</td>\n",
       "      <td>0</td>\n",
       "      <td>1</td>\n",
       "      <td>12</td>\n",
       "      <td>1</td>\n",
       "      <td>58</td>\n",
       "      <td>ত</td>\n",
       "    </tr>\n",
       "    <tr>\n",
       "      <th>1</th>\n",
       "      <td>কুরআন কিতাব টাই ভুল অন্য ধর্ম ঝাড়া আল্লাহ কাল্...</td>\n",
       "      <td>0</td>\n",
       "      <td>1</td>\n",
       "      <td>19</td>\n",
       "      <td>1</td>\n",
       "      <td>110</td>\n",
       "      <td></td>\n",
       "    </tr>\n",
       "    <tr>\n",
       "      <th>2</th>\n",
       "      <td>বাংলাদেশি খেলোয়ারদের খারাপ আচরনের আইসিসি আদালত...</td>\n",
       "      <td>1</td>\n",
       "      <td>0</td>\n",
       "      <td>11</td>\n",
       "      <td>1</td>\n",
       "      <td>80</td>\n",
       "      <td>কর</td>\n",
       "    </tr>\n",
       "    <tr>\n",
       "      <th>3</th>\n",
       "      <td>তুই ভুলে যাইস আগের কথা সামনে পাইলে ছিড়া ফেলমু</td>\n",
       "      <td>0</td>\n",
       "      <td>1</td>\n",
       "      <td>9</td>\n",
       "      <td>1</td>\n",
       "      <td>45</td>\n",
       "      <td></td>\n",
       "    </tr>\n",
       "    <tr>\n",
       "      <th>4</th>\n",
       "      <td>কেনো শুধু শুধু অন্যের ঘাড়ে পা রেখে উপরে উঠতে চ...</td>\n",
       "      <td>1</td>\n",
       "      <td>0</td>\n",
       "      <td>32</td>\n",
       "      <td>1</td>\n",
       "      <td>187</td>\n",
       "      <td>মই</td>\n",
       "    </tr>\n",
       "  </tbody>\n",
       "</table>\n",
       "</div>"
      ],
      "text/plain": [
       "                                                text  target  Label  \\\n",
       "0  এলাকায় আসিস খুন ফেলে রাখবো তকে আমারে ত চিনিস ত...       0      1   \n",
       "1  কুরআন কিতাব টাই ভুল অন্য ধর্ম ঝাড়া আল্লাহ কাল্...       0      1   \n",
       "2  বাংলাদেশি খেলোয়ারদের খারাপ আচরনের আইসিসি আদালত...       1      0   \n",
       "3      তুই ভুলে যাইস আগের কথা সামনে পাইলে ছিড়া ফেলমু       0      1   \n",
       "4  কেনো শুধু শুধু অন্যের ঘাড়ে পা রেখে উপরে উঠতে চ...       1      0   \n",
       "\n",
       "   num_words  num_sentences  num_characters transformed_text  \n",
       "0         12              1              58                ত  \n",
       "1         19              1             110                   \n",
       "2         11              1              80               কর  \n",
       "3          9              1              45                   \n",
       "4         32              1             187               মই  "
      ]
     },
     "execution_count": 67,
     "metadata": {},
     "output_type": "execute_result"
    }
   ],
   "source": [
    "df.head()"
   ]
  },
  {
   "cell_type": "markdown",
   "id": "83c191e8-6bd4-4dc7-a3e1-48c3f596efce",
   "metadata": {},
   "source": []
  },
  {
   "cell_type": "markdown",
   "id": "62c8cc0c-1f06-4c52-bd2c-292d74aba269",
   "metadata": {},
   "source": [
    "# Model and algorithms are build"
   ]
  },
  {
   "cell_type": "code",
   "execution_count": 68,
   "id": "8aJ-kkPag9TK",
   "metadata": {
    "id": "8aJ-kkPag9TK"
   },
   "outputs": [],
   "source": [
    "x = df.text.values\n",
    "y = df.target.values"
   ]
  },
  {
   "cell_type": "code",
   "execution_count": 69,
   "id": "EqCWZbVbh--K",
   "metadata": {
    "id": "EqCWZbVbh--K"
   },
   "outputs": [],
   "source": [
    "from sklearn.model_selection import train_test_split"
   ]
  },
  {
   "cell_type": "code",
   "execution_count": 70,
   "id": "1tcK_kZBh_Gd",
   "metadata": {
    "id": "1tcK_kZBh_Gd"
   },
   "outputs": [],
   "source": [
    "xtrain,xtest,ytrain,ytest=train_test_split(x,y,test_size=0.3,random_state=42)"
   ]
  },
  {
   "cell_type": "code",
   "execution_count": 71,
   "id": "ybefqSCKh_Lz",
   "metadata": {
    "id": "ybefqSCKh_Lz"
   },
   "outputs": [],
   "source": [
    "from sklearn.feature_extraction.text import TfidfVectorizer"
   ]
  },
  {
   "cell_type": "code",
   "execution_count": 72,
   "id": "MRSq9XQWh_TO",
   "metadata": {
    "id": "MRSq9XQWh_TO"
   },
   "outputs": [],
   "source": [
    "cv = TfidfVectorizer()\n",
    "x_train=cv.fit_transform(xtrain)"
   ]
  },
  {
   "cell_type": "code",
   "execution_count": 73,
   "id": "W22_Dnl-iujG",
   "metadata": {
    "colab": {
     "base_uri": "https://localhost:8080/"
    },
    "id": "W22_Dnl-iujG",
    "outputId": "e0e274e3-e6a1-4b11-a0be-165801b2c3fb"
   },
   "outputs": [
    {
     "data": {
      "text/plain": [
       "array([[0., 0., 0., ..., 0., 0., 0.],\n",
       "       [0., 0., 0., ..., 0., 0., 0.],\n",
       "       [0., 0., 0., ..., 0., 0., 0.],\n",
       "       ...,\n",
       "       [0., 0., 0., ..., 0., 0., 0.],\n",
       "       [0., 0., 0., ..., 0., 0., 0.],\n",
       "       [0., 0., 0., ..., 0., 0., 0.]])"
      ]
     },
     "execution_count": 73,
     "metadata": {},
     "output_type": "execute_result"
    }
   ],
   "source": [
    "x_train.toarray()"
   ]
  },
  {
   "cell_type": "code",
   "execution_count": 74,
   "id": "f556Sjf8iumH",
   "metadata": {
    "id": "f556Sjf8iumH"
   },
   "outputs": [],
   "source": [
    "from sklearn.naive_bayes import MultinomialNB,GaussianNB,BernoulliNB\n",
    "from sklearn.metrics import accuracy_score, confusion_matrix, precision_score"
   ]
  },
  {
   "cell_type": "markdown",
   "id": "20a421c9-b7c1-496c-8445-1c230cce2628",
   "metadata": {},
   "source": [
    "# This is for multinomialNB"
   ]
  },
  {
   "cell_type": "code",
   "execution_count": 75,
   "id": "Wqqaq3vKiuog",
   "metadata": {
    "colab": {
     "base_uri": "https://localhost:8080/",
     "height": 74
    },
    "id": "Wqqaq3vKiuog",
    "outputId": "aaba5c62-5938-4fa7-8ada-891f9fb58673"
   },
   "outputs": [
    {
     "data": {
      "text/html": [
       "<style>#sk-container-id-1 {color: black;}#sk-container-id-1 pre{padding: 0;}#sk-container-id-1 div.sk-toggleable {background-color: white;}#sk-container-id-1 label.sk-toggleable__label {cursor: pointer;display: block;width: 100%;margin-bottom: 0;padding: 0.3em;box-sizing: border-box;text-align: center;}#sk-container-id-1 label.sk-toggleable__label-arrow:before {content: \"▸\";float: left;margin-right: 0.25em;color: #696969;}#sk-container-id-1 label.sk-toggleable__label-arrow:hover:before {color: black;}#sk-container-id-1 div.sk-estimator:hover label.sk-toggleable__label-arrow:before {color: black;}#sk-container-id-1 div.sk-toggleable__content {max-height: 0;max-width: 0;overflow: hidden;text-align: left;background-color: #f0f8ff;}#sk-container-id-1 div.sk-toggleable__content pre {margin: 0.2em;color: black;border-radius: 0.25em;background-color: #f0f8ff;}#sk-container-id-1 input.sk-toggleable__control:checked~div.sk-toggleable__content {max-height: 200px;max-width: 100%;overflow: auto;}#sk-container-id-1 input.sk-toggleable__control:checked~label.sk-toggleable__label-arrow:before {content: \"▾\";}#sk-container-id-1 div.sk-estimator input.sk-toggleable__control:checked~label.sk-toggleable__label {background-color: #d4ebff;}#sk-container-id-1 div.sk-label input.sk-toggleable__control:checked~label.sk-toggleable__label {background-color: #d4ebff;}#sk-container-id-1 input.sk-hidden--visually {border: 0;clip: rect(1px 1px 1px 1px);clip: rect(1px, 1px, 1px, 1px);height: 1px;margin: -1px;overflow: hidden;padding: 0;position: absolute;width: 1px;}#sk-container-id-1 div.sk-estimator {font-family: monospace;background-color: #f0f8ff;border: 1px dotted black;border-radius: 0.25em;box-sizing: border-box;margin-bottom: 0.5em;}#sk-container-id-1 div.sk-estimator:hover {background-color: #d4ebff;}#sk-container-id-1 div.sk-parallel-item::after {content: \"\";width: 100%;border-bottom: 1px solid gray;flex-grow: 1;}#sk-container-id-1 div.sk-label:hover label.sk-toggleable__label {background-color: #d4ebff;}#sk-container-id-1 div.sk-serial::before {content: \"\";position: absolute;border-left: 1px solid gray;box-sizing: border-box;top: 0;bottom: 0;left: 50%;z-index: 0;}#sk-container-id-1 div.sk-serial {display: flex;flex-direction: column;align-items: center;background-color: white;padding-right: 0.2em;padding-left: 0.2em;position: relative;}#sk-container-id-1 div.sk-item {position: relative;z-index: 1;}#sk-container-id-1 div.sk-parallel {display: flex;align-items: stretch;justify-content: center;background-color: white;position: relative;}#sk-container-id-1 div.sk-item::before, #sk-container-id-1 div.sk-parallel-item::before {content: \"\";position: absolute;border-left: 1px solid gray;box-sizing: border-box;top: 0;bottom: 0;left: 50%;z-index: -1;}#sk-container-id-1 div.sk-parallel-item {display: flex;flex-direction: column;z-index: 1;position: relative;background-color: white;}#sk-container-id-1 div.sk-parallel-item:first-child::after {align-self: flex-end;width: 50%;}#sk-container-id-1 div.sk-parallel-item:last-child::after {align-self: flex-start;width: 50%;}#sk-container-id-1 div.sk-parallel-item:only-child::after {width: 0;}#sk-container-id-1 div.sk-dashed-wrapped {border: 1px dashed gray;margin: 0 0.4em 0.5em 0.4em;box-sizing: border-box;padding-bottom: 0.4em;background-color: white;}#sk-container-id-1 div.sk-label label {font-family: monospace;font-weight: bold;display: inline-block;line-height: 1.2em;}#sk-container-id-1 div.sk-label-container {text-align: center;}#sk-container-id-1 div.sk-container {/* jupyter's `normalize.less` sets `[hidden] { display: none; }` but bootstrap.min.css set `[hidden] { display: none !important; }` so we also need the `!important` here to be able to override the default hidden behavior on the sphinx rendered scikit-learn.org. See: https://github.com/scikit-learn/scikit-learn/issues/21755 */display: inline-block !important;position: relative;}#sk-container-id-1 div.sk-text-repr-fallback {display: none;}</style><div id=\"sk-container-id-1\" class=\"sk-top-container\"><div class=\"sk-text-repr-fallback\"><pre>MultinomialNB()</pre><b>In a Jupyter environment, please rerun this cell to show the HTML representation or trust the notebook. <br />On GitHub, the HTML representation is unable to render, please try loading this page with nbviewer.org.</b></div><div class=\"sk-container\" hidden><div class=\"sk-item\"><div class=\"sk-estimator sk-toggleable\"><input class=\"sk-toggleable__control sk-hidden--visually\" id=\"sk-estimator-id-1\" type=\"checkbox\" checked><label for=\"sk-estimator-id-1\" class=\"sk-toggleable__label sk-toggleable__label-arrow\">MultinomialNB</label><div class=\"sk-toggleable__content\"><pre>MultinomialNB()</pre></div></div></div></div></div>"
      ],
      "text/plain": [
       "MultinomialNB()"
      ]
     },
     "execution_count": 75,
     "metadata": {},
     "output_type": "execute_result"
    }
   ],
   "source": [
    "x_train_dense = x_train.toarray()\n",
    "model = MultinomialNB()\n",
    "model.fit(x_train_dense,ytrain)"
   ]
  },
  {
   "cell_type": "code",
   "execution_count": 76,
   "id": "da52426d-f4cd-47d1-94ae-522b4711d919",
   "metadata": {},
   "outputs": [],
   "source": [
    "x_test= cv.transform(xtest)"
   ]
  },
  {
   "cell_type": "code",
   "execution_count": 77,
   "id": "34b14f0c-43ce-4ad5-b2d9-8014b516af5f",
   "metadata": {},
   "outputs": [
    {
     "data": {
      "text/plain": [
       "array([[0., 0., 0., ..., 0., 0., 0.],\n",
       "       [0., 0., 0., ..., 0., 0., 0.],\n",
       "       [0., 0., 0., ..., 0., 0., 0.],\n",
       "       ...,\n",
       "       [0., 0., 0., ..., 0., 0., 0.],\n",
       "       [0., 0., 0., ..., 0., 0., 0.],\n",
       "       [0., 0., 0., ..., 0., 0., 0.]])"
      ]
     },
     "execution_count": 77,
     "metadata": {},
     "output_type": "execute_result"
    }
   ],
   "source": [
    "x_test.toarray()"
   ]
  },
  {
   "cell_type": "code",
   "execution_count": 78,
   "id": "bc037114-ff72-4898-9ee8-16adedf10ae8",
   "metadata": {},
   "outputs": [
    {
     "name": "stdout",
     "output_type": "stream",
     "text": [
      "Accuracy: 0.788782816229117\n"
     ]
    }
   ],
   "source": [
    "x_test_dense = x_test.toarray()\n",
    "accuracy = model.score(x_test_dense, ytest)\n",
    "print(\"Accuracy:\", accuracy)"
   ]
  },
  {
   "cell_type": "code",
   "execution_count": 79,
   "id": "56ba335b-c7cb-4edd-91a8-ede9a3984e23",
   "metadata": {},
   "outputs": [
    {
     "data": {
      "text/plain": [
       "0.8445012787723786"
      ]
     },
     "execution_count": 79,
     "metadata": {},
     "output_type": "execute_result"
    }
   ],
   "source": [
    "model.score(x_train_dense,ytrain)"
   ]
  },
  {
   "cell_type": "raw",
   "id": "72aa879d-a6cf-4491-885b-324cb138392e",
   "metadata": {},
   "source": [
    "PERFORMANCE ANALYSIS"
   ]
  },
  {
   "cell_type": "code",
   "execution_count": 80,
   "id": "5ad17093-19b7-4a90-8d31-fdd612796fb9",
   "metadata": {},
   "outputs": [
    {
     "data": {
      "text/plain": [
       "array([1, 0, 1, ..., 1, 1, 0])"
      ]
     },
     "execution_count": 80,
     "metadata": {},
     "output_type": "execute_result"
    }
   ],
   "source": [
    "pred = model.predict(x_test_dense)\n",
    "pred"
   ]
  },
  {
   "cell_type": "code",
   "execution_count": 81,
   "id": "542c0046-1310-4b2d-a94a-76b5dc9e2db2",
   "metadata": {},
   "outputs": [
    {
     "data": {
      "text/plain": [
       "array([[1171,  467],\n",
       "       [ 241, 1473]], dtype=int64)"
      ]
     },
     "execution_count": 81,
     "metadata": {},
     "output_type": "execute_result"
    }
   ],
   "source": [
    "confusion_matrix(ytest,pred)"
   ]
  },
  {
   "cell_type": "code",
   "execution_count": 82,
   "id": "09c59b67-976e-451c-b01a-1d06a46d66f7",
   "metadata": {},
   "outputs": [
    {
     "name": "stdout",
     "output_type": "stream",
     "text": [
      "              precision    recall  f1-score   support\n",
      "\n",
      "           0       0.83      0.71      0.77      1638\n",
      "           1       0.76      0.86      0.81      1714\n",
      "\n",
      "    accuracy                           0.79      3352\n",
      "   macro avg       0.79      0.79      0.79      3352\n",
      "weighted avg       0.79      0.79      0.79      3352\n",
      "\n"
     ]
    }
   ],
   "source": [
    "from sklearn.metrics import classification_report\n",
    "print(classification_report(ytest,pred))"
   ]
  },
  {
   "cell_type": "markdown",
   "id": "9f91a9c4-1cd3-4f65-80db-6119a781f2c8",
   "metadata": {},
   "source": [
    "# This is for bernouliNB"
   ]
  },
  {
   "cell_type": "code",
   "execution_count": 83,
   "id": "029802c4-72d5-4310-b764-e63cd3bb0940",
   "metadata": {},
   "outputs": [
    {
     "data": {
      "text/html": [
       "<style>#sk-container-id-2 {color: black;}#sk-container-id-2 pre{padding: 0;}#sk-container-id-2 div.sk-toggleable {background-color: white;}#sk-container-id-2 label.sk-toggleable__label {cursor: pointer;display: block;width: 100%;margin-bottom: 0;padding: 0.3em;box-sizing: border-box;text-align: center;}#sk-container-id-2 label.sk-toggleable__label-arrow:before {content: \"▸\";float: left;margin-right: 0.25em;color: #696969;}#sk-container-id-2 label.sk-toggleable__label-arrow:hover:before {color: black;}#sk-container-id-2 div.sk-estimator:hover label.sk-toggleable__label-arrow:before {color: black;}#sk-container-id-2 div.sk-toggleable__content {max-height: 0;max-width: 0;overflow: hidden;text-align: left;background-color: #f0f8ff;}#sk-container-id-2 div.sk-toggleable__content pre {margin: 0.2em;color: black;border-radius: 0.25em;background-color: #f0f8ff;}#sk-container-id-2 input.sk-toggleable__control:checked~div.sk-toggleable__content {max-height: 200px;max-width: 100%;overflow: auto;}#sk-container-id-2 input.sk-toggleable__control:checked~label.sk-toggleable__label-arrow:before {content: \"▾\";}#sk-container-id-2 div.sk-estimator input.sk-toggleable__control:checked~label.sk-toggleable__label {background-color: #d4ebff;}#sk-container-id-2 div.sk-label input.sk-toggleable__control:checked~label.sk-toggleable__label {background-color: #d4ebff;}#sk-container-id-2 input.sk-hidden--visually {border: 0;clip: rect(1px 1px 1px 1px);clip: rect(1px, 1px, 1px, 1px);height: 1px;margin: -1px;overflow: hidden;padding: 0;position: absolute;width: 1px;}#sk-container-id-2 div.sk-estimator {font-family: monospace;background-color: #f0f8ff;border: 1px dotted black;border-radius: 0.25em;box-sizing: border-box;margin-bottom: 0.5em;}#sk-container-id-2 div.sk-estimator:hover {background-color: #d4ebff;}#sk-container-id-2 div.sk-parallel-item::after {content: \"\";width: 100%;border-bottom: 1px solid gray;flex-grow: 1;}#sk-container-id-2 div.sk-label:hover label.sk-toggleable__label {background-color: #d4ebff;}#sk-container-id-2 div.sk-serial::before {content: \"\";position: absolute;border-left: 1px solid gray;box-sizing: border-box;top: 0;bottom: 0;left: 50%;z-index: 0;}#sk-container-id-2 div.sk-serial {display: flex;flex-direction: column;align-items: center;background-color: white;padding-right: 0.2em;padding-left: 0.2em;position: relative;}#sk-container-id-2 div.sk-item {position: relative;z-index: 1;}#sk-container-id-2 div.sk-parallel {display: flex;align-items: stretch;justify-content: center;background-color: white;position: relative;}#sk-container-id-2 div.sk-item::before, #sk-container-id-2 div.sk-parallel-item::before {content: \"\";position: absolute;border-left: 1px solid gray;box-sizing: border-box;top: 0;bottom: 0;left: 50%;z-index: -1;}#sk-container-id-2 div.sk-parallel-item {display: flex;flex-direction: column;z-index: 1;position: relative;background-color: white;}#sk-container-id-2 div.sk-parallel-item:first-child::after {align-self: flex-end;width: 50%;}#sk-container-id-2 div.sk-parallel-item:last-child::after {align-self: flex-start;width: 50%;}#sk-container-id-2 div.sk-parallel-item:only-child::after {width: 0;}#sk-container-id-2 div.sk-dashed-wrapped {border: 1px dashed gray;margin: 0 0.4em 0.5em 0.4em;box-sizing: border-box;padding-bottom: 0.4em;background-color: white;}#sk-container-id-2 div.sk-label label {font-family: monospace;font-weight: bold;display: inline-block;line-height: 1.2em;}#sk-container-id-2 div.sk-label-container {text-align: center;}#sk-container-id-2 div.sk-container {/* jupyter's `normalize.less` sets `[hidden] { display: none; }` but bootstrap.min.css set `[hidden] { display: none !important; }` so we also need the `!important` here to be able to override the default hidden behavior on the sphinx rendered scikit-learn.org. See: https://github.com/scikit-learn/scikit-learn/issues/21755 */display: inline-block !important;position: relative;}#sk-container-id-2 div.sk-text-repr-fallback {display: none;}</style><div id=\"sk-container-id-2\" class=\"sk-top-container\"><div class=\"sk-text-repr-fallback\"><pre>BernoulliNB()</pre><b>In a Jupyter environment, please rerun this cell to show the HTML representation or trust the notebook. <br />On GitHub, the HTML representation is unable to render, please try loading this page with nbviewer.org.</b></div><div class=\"sk-container\" hidden><div class=\"sk-item\"><div class=\"sk-estimator sk-toggleable\"><input class=\"sk-toggleable__control sk-hidden--visually\" id=\"sk-estimator-id-2\" type=\"checkbox\" checked><label for=\"sk-estimator-id-2\" class=\"sk-toggleable__label sk-toggleable__label-arrow\">BernoulliNB</label><div class=\"sk-toggleable__content\"><pre>BernoulliNB()</pre></div></div></div></div></div>"
      ],
      "text/plain": [
       "BernoulliNB()"
      ]
     },
     "execution_count": 83,
     "metadata": {},
     "output_type": "execute_result"
    }
   ],
   "source": [
    "x_train_dense = x_train.toarray()\n",
    "model1 = BernoulliNB()\n",
    "model1.fit(x_train_dense,ytrain)"
   ]
  },
  {
   "cell_type": "code",
   "execution_count": 84,
   "id": "1c70b2f9-2c5b-4d96-91a9-5735d6227a30",
   "metadata": {},
   "outputs": [
    {
     "data": {
      "text/plain": [
       "array([[0., 0., 0., ..., 0., 0., 0.],\n",
       "       [0., 0., 0., ..., 0., 0., 0.],\n",
       "       [0., 0., 0., ..., 0., 0., 0.],\n",
       "       ...,\n",
       "       [0., 0., 0., ..., 0., 0., 0.],\n",
       "       [0., 0., 0., ..., 0., 0., 0.],\n",
       "       [0., 0., 0., ..., 0., 0., 0.]])"
      ]
     },
     "execution_count": 84,
     "metadata": {},
     "output_type": "execute_result"
    }
   ],
   "source": [
    "x_test= cv.transform(xtest)\n",
    "x_test.toarray()"
   ]
  },
  {
   "cell_type": "code",
   "execution_count": 85,
   "id": "d7225ba4-6ca5-4b74-b5bd-47aa3ad6e572",
   "metadata": {},
   "outputs": [
    {
     "name": "stdout",
     "output_type": "stream",
     "text": [
      "Accuracy: 0.7526849642004774\n"
     ]
    }
   ],
   "source": [
    "x_test_dense = x_test.toarray()\n",
    "accuracy = model1.score(x_test_dense, ytest)\n",
    "print(\"Accuracy:\", accuracy)"
   ]
  },
  {
   "cell_type": "code",
   "execution_count": 86,
   "id": "b195ab9d-dd51-4e6e-a754-969d0ee0ce5c",
   "metadata": {},
   "outputs": [
    {
     "data": {
      "text/plain": [
       "0.7847826086956522"
      ]
     },
     "execution_count": 86,
     "metadata": {},
     "output_type": "execute_result"
    }
   ],
   "source": [
    "model1.score(x_train_dense,ytrain)"
   ]
  },
  {
   "cell_type": "raw",
   "id": "5079c3e4-8245-4837-bbc6-6b1b077dcc1d",
   "metadata": {},
   "source": [
    "# THIS IS FOR PERFORMANCE ANALYSIS"
   ]
  },
  {
   "cell_type": "code",
   "execution_count": 87,
   "id": "3edc7107-d73a-40f7-a6c1-a9bdf44676fc",
   "metadata": {},
   "outputs": [
    {
     "data": {
      "text/plain": [
       "array([1, 0, 1, ..., 0, 0, 0])"
      ]
     },
     "execution_count": 87,
     "metadata": {},
     "output_type": "execute_result"
    }
   ],
   "source": [
    "pred = model1.predict(x_test_dense)\n",
    "pred"
   ]
  },
  {
   "cell_type": "code",
   "execution_count": 88,
   "id": "12462d82-db23-4cbe-b3aa-fcabba1f774e",
   "metadata": {},
   "outputs": [
    {
     "data": {
      "text/plain": [
       "array([[1469,  169],\n",
       "       [ 660, 1054]], dtype=int64)"
      ]
     },
     "execution_count": 88,
     "metadata": {},
     "output_type": "execute_result"
    }
   ],
   "source": [
    "confusion_matrix(ytest,pred)"
   ]
  },
  {
   "cell_type": "code",
   "execution_count": 89,
   "id": "a4097b9e-e1b5-4f1a-bed1-0752d6d8dc1a",
   "metadata": {},
   "outputs": [
    {
     "name": "stdout",
     "output_type": "stream",
     "text": [
      "              precision    recall  f1-score   support\n",
      "\n",
      "           0       0.69      0.90      0.78      1638\n",
      "           1       0.86      0.61      0.72      1714\n",
      "\n",
      "    accuracy                           0.75      3352\n",
      "   macro avg       0.78      0.76      0.75      3352\n",
      "weighted avg       0.78      0.75      0.75      3352\n",
      "\n"
     ]
    }
   ],
   "source": [
    "from sklearn.metrics import classification_report\n",
    "print(classification_report(ytest,pred))"
   ]
  },
  {
   "cell_type": "markdown",
   "id": "64a2b165-1447-43cf-851f-5a08719f2252",
   "metadata": {},
   "source": [
    "# This is for Random forest classifier"
   ]
  },
  {
   "cell_type": "code",
   "execution_count": 90,
   "id": "e575e5f5-a814-45f9-b055-501e9fe95a29",
   "metadata": {},
   "outputs": [
    {
     "data": {
      "text/html": [
       "<style>#sk-container-id-3 {color: black;}#sk-container-id-3 pre{padding: 0;}#sk-container-id-3 div.sk-toggleable {background-color: white;}#sk-container-id-3 label.sk-toggleable__label {cursor: pointer;display: block;width: 100%;margin-bottom: 0;padding: 0.3em;box-sizing: border-box;text-align: center;}#sk-container-id-3 label.sk-toggleable__label-arrow:before {content: \"▸\";float: left;margin-right: 0.25em;color: #696969;}#sk-container-id-3 label.sk-toggleable__label-arrow:hover:before {color: black;}#sk-container-id-3 div.sk-estimator:hover label.sk-toggleable__label-arrow:before {color: black;}#sk-container-id-3 div.sk-toggleable__content {max-height: 0;max-width: 0;overflow: hidden;text-align: left;background-color: #f0f8ff;}#sk-container-id-3 div.sk-toggleable__content pre {margin: 0.2em;color: black;border-radius: 0.25em;background-color: #f0f8ff;}#sk-container-id-3 input.sk-toggleable__control:checked~div.sk-toggleable__content {max-height: 200px;max-width: 100%;overflow: auto;}#sk-container-id-3 input.sk-toggleable__control:checked~label.sk-toggleable__label-arrow:before {content: \"▾\";}#sk-container-id-3 div.sk-estimator input.sk-toggleable__control:checked~label.sk-toggleable__label {background-color: #d4ebff;}#sk-container-id-3 div.sk-label input.sk-toggleable__control:checked~label.sk-toggleable__label {background-color: #d4ebff;}#sk-container-id-3 input.sk-hidden--visually {border: 0;clip: rect(1px 1px 1px 1px);clip: rect(1px, 1px, 1px, 1px);height: 1px;margin: -1px;overflow: hidden;padding: 0;position: absolute;width: 1px;}#sk-container-id-3 div.sk-estimator {font-family: monospace;background-color: #f0f8ff;border: 1px dotted black;border-radius: 0.25em;box-sizing: border-box;margin-bottom: 0.5em;}#sk-container-id-3 div.sk-estimator:hover {background-color: #d4ebff;}#sk-container-id-3 div.sk-parallel-item::after {content: \"\";width: 100%;border-bottom: 1px solid gray;flex-grow: 1;}#sk-container-id-3 div.sk-label:hover label.sk-toggleable__label {background-color: #d4ebff;}#sk-container-id-3 div.sk-serial::before {content: \"\";position: absolute;border-left: 1px solid gray;box-sizing: border-box;top: 0;bottom: 0;left: 50%;z-index: 0;}#sk-container-id-3 div.sk-serial {display: flex;flex-direction: column;align-items: center;background-color: white;padding-right: 0.2em;padding-left: 0.2em;position: relative;}#sk-container-id-3 div.sk-item {position: relative;z-index: 1;}#sk-container-id-3 div.sk-parallel {display: flex;align-items: stretch;justify-content: center;background-color: white;position: relative;}#sk-container-id-3 div.sk-item::before, #sk-container-id-3 div.sk-parallel-item::before {content: \"\";position: absolute;border-left: 1px solid gray;box-sizing: border-box;top: 0;bottom: 0;left: 50%;z-index: -1;}#sk-container-id-3 div.sk-parallel-item {display: flex;flex-direction: column;z-index: 1;position: relative;background-color: white;}#sk-container-id-3 div.sk-parallel-item:first-child::after {align-self: flex-end;width: 50%;}#sk-container-id-3 div.sk-parallel-item:last-child::after {align-self: flex-start;width: 50%;}#sk-container-id-3 div.sk-parallel-item:only-child::after {width: 0;}#sk-container-id-3 div.sk-dashed-wrapped {border: 1px dashed gray;margin: 0 0.4em 0.5em 0.4em;box-sizing: border-box;padding-bottom: 0.4em;background-color: white;}#sk-container-id-3 div.sk-label label {font-family: monospace;font-weight: bold;display: inline-block;line-height: 1.2em;}#sk-container-id-3 div.sk-label-container {text-align: center;}#sk-container-id-3 div.sk-container {/* jupyter's `normalize.less` sets `[hidden] { display: none; }` but bootstrap.min.css set `[hidden] { display: none !important; }` so we also need the `!important` here to be able to override the default hidden behavior on the sphinx rendered scikit-learn.org. See: https://github.com/scikit-learn/scikit-learn/issues/21755 */display: inline-block !important;position: relative;}#sk-container-id-3 div.sk-text-repr-fallback {display: none;}</style><div id=\"sk-container-id-3\" class=\"sk-top-container\"><div class=\"sk-text-repr-fallback\"><pre>RandomForestClassifier(n_estimators=190, random_state=1)</pre><b>In a Jupyter environment, please rerun this cell to show the HTML representation or trust the notebook. <br />On GitHub, the HTML representation is unable to render, please try loading this page with nbviewer.org.</b></div><div class=\"sk-container\" hidden><div class=\"sk-item\"><div class=\"sk-estimator sk-toggleable\"><input class=\"sk-toggleable__control sk-hidden--visually\" id=\"sk-estimator-id-3\" type=\"checkbox\" checked><label for=\"sk-estimator-id-3\" class=\"sk-toggleable__label sk-toggleable__label-arrow\">RandomForestClassifier</label><div class=\"sk-toggleable__content\"><pre>RandomForestClassifier(n_estimators=190, random_state=1)</pre></div></div></div></div></div>"
      ],
      "text/plain": [
       "RandomForestClassifier(n_estimators=190, random_state=1)"
      ]
     },
     "execution_count": 90,
     "metadata": {},
     "output_type": "execute_result"
    }
   ],
   "source": [
    "from sklearn.ensemble import RandomForestClassifier\n",
    "rf_model = RandomForestClassifier(n_estimators=190,random_state=1)\n",
    "rf_model.fit(x_train, ytrain)"
   ]
  },
  {
   "cell_type": "code",
   "execution_count": 91,
   "id": "d4783e51-7eb5-4f5b-8c95-79dc022c315c",
   "metadata": {},
   "outputs": [
    {
     "data": {
      "text/plain": [
       "array([[0., 0., 0., ..., 0., 0., 0.],\n",
       "       [0., 0., 0., ..., 0., 0., 0.],\n",
       "       [0., 0., 0., ..., 0., 0., 0.],\n",
       "       ...,\n",
       "       [0., 0., 0., ..., 0., 0., 0.],\n",
       "       [0., 0., 0., ..., 0., 0., 0.],\n",
       "       [0., 0., 0., ..., 0., 0., 0.]])"
      ]
     },
     "execution_count": 91,
     "metadata": {},
     "output_type": "execute_result"
    }
   ],
   "source": [
    "x_test= cv.transform(xtest)\n",
    "x_test.toarray()"
   ]
  },
  {
   "cell_type": "code",
   "execution_count": 92,
   "id": "44a7b0c0-f724-45b7-a813-06c5b395d659",
   "metadata": {},
   "outputs": [
    {
     "name": "stdout",
     "output_type": "stream",
     "text": [
      "Accuracy: 0.7869928400954654\n"
     ]
    }
   ],
   "source": [
    "accuracy = rf_model.score(x_test, ytest)\n",
    "print(\"Accuracy:\", accuracy)"
   ]
  },
  {
   "cell_type": "raw",
   "id": "4cc0f74e-9968-48a3-a6c4-e670938fa226",
   "metadata": {},
   "source": [
    "# performance analysis"
   ]
  },
  {
   "cell_type": "code",
   "execution_count": 93,
   "id": "86cab61a-341d-4159-b42b-0cd85fdd34e2",
   "metadata": {},
   "outputs": [
    {
     "data": {
      "text/plain": [
       "array([1, 1, 1, ..., 0, 0, 1])"
      ]
     },
     "execution_count": 93,
     "metadata": {},
     "output_type": "execute_result"
    }
   ],
   "source": [
    "pred = rf_model.predict(x_test)\n",
    "pred"
   ]
  },
  {
   "cell_type": "code",
   "execution_count": 94,
   "id": "58f20d34-e3f8-45df-96ae-11c2d92f231c",
   "metadata": {},
   "outputs": [
    {
     "data": {
      "text/plain": [
       "array([[1255,  383],\n",
       "       [ 331, 1383]], dtype=int64)"
      ]
     },
     "execution_count": 94,
     "metadata": {},
     "output_type": "execute_result"
    }
   ],
   "source": [
    "confusion_matrix(ytest,pred)"
   ]
  },
  {
   "cell_type": "code",
   "execution_count": 95,
   "id": "12adc4f8-0ebb-4112-a05d-d6606c89d3c7",
   "metadata": {},
   "outputs": [
    {
     "name": "stdout",
     "output_type": "stream",
     "text": [
      "              precision    recall  f1-score   support\n",
      "\n",
      "           0       0.79      0.77      0.78      1638\n",
      "           1       0.78      0.81      0.79      1714\n",
      "\n",
      "    accuracy                           0.79      3352\n",
      "   macro avg       0.79      0.79      0.79      3352\n",
      "weighted avg       0.79      0.79      0.79      3352\n",
      "\n"
     ]
    }
   ],
   "source": [
    "print(classification_report(ytest,pred))"
   ]
  },
  {
   "cell_type": "markdown",
   "id": "4c7af2b6-9ec7-4cb5-96f7-c30a1ec44a27",
   "metadata": {},
   "source": [
    "# This is for logistic regression"
   ]
  },
  {
   "cell_type": "code",
   "execution_count": 96,
   "id": "92cfde1b-aa7b-439d-b61e-7a308557af36",
   "metadata": {},
   "outputs": [
    {
     "data": {
      "text/html": [
       "<style>#sk-container-id-4 {color: black;}#sk-container-id-4 pre{padding: 0;}#sk-container-id-4 div.sk-toggleable {background-color: white;}#sk-container-id-4 label.sk-toggleable__label {cursor: pointer;display: block;width: 100%;margin-bottom: 0;padding: 0.3em;box-sizing: border-box;text-align: center;}#sk-container-id-4 label.sk-toggleable__label-arrow:before {content: \"▸\";float: left;margin-right: 0.25em;color: #696969;}#sk-container-id-4 label.sk-toggleable__label-arrow:hover:before {color: black;}#sk-container-id-4 div.sk-estimator:hover label.sk-toggleable__label-arrow:before {color: black;}#sk-container-id-4 div.sk-toggleable__content {max-height: 0;max-width: 0;overflow: hidden;text-align: left;background-color: #f0f8ff;}#sk-container-id-4 div.sk-toggleable__content pre {margin: 0.2em;color: black;border-radius: 0.25em;background-color: #f0f8ff;}#sk-container-id-4 input.sk-toggleable__control:checked~div.sk-toggleable__content {max-height: 200px;max-width: 100%;overflow: auto;}#sk-container-id-4 input.sk-toggleable__control:checked~label.sk-toggleable__label-arrow:before {content: \"▾\";}#sk-container-id-4 div.sk-estimator input.sk-toggleable__control:checked~label.sk-toggleable__label {background-color: #d4ebff;}#sk-container-id-4 div.sk-label input.sk-toggleable__control:checked~label.sk-toggleable__label {background-color: #d4ebff;}#sk-container-id-4 input.sk-hidden--visually {border: 0;clip: rect(1px 1px 1px 1px);clip: rect(1px, 1px, 1px, 1px);height: 1px;margin: -1px;overflow: hidden;padding: 0;position: absolute;width: 1px;}#sk-container-id-4 div.sk-estimator {font-family: monospace;background-color: #f0f8ff;border: 1px dotted black;border-radius: 0.25em;box-sizing: border-box;margin-bottom: 0.5em;}#sk-container-id-4 div.sk-estimator:hover {background-color: #d4ebff;}#sk-container-id-4 div.sk-parallel-item::after {content: \"\";width: 100%;border-bottom: 1px solid gray;flex-grow: 1;}#sk-container-id-4 div.sk-label:hover label.sk-toggleable__label {background-color: #d4ebff;}#sk-container-id-4 div.sk-serial::before {content: \"\";position: absolute;border-left: 1px solid gray;box-sizing: border-box;top: 0;bottom: 0;left: 50%;z-index: 0;}#sk-container-id-4 div.sk-serial {display: flex;flex-direction: column;align-items: center;background-color: white;padding-right: 0.2em;padding-left: 0.2em;position: relative;}#sk-container-id-4 div.sk-item {position: relative;z-index: 1;}#sk-container-id-4 div.sk-parallel {display: flex;align-items: stretch;justify-content: center;background-color: white;position: relative;}#sk-container-id-4 div.sk-item::before, #sk-container-id-4 div.sk-parallel-item::before {content: \"\";position: absolute;border-left: 1px solid gray;box-sizing: border-box;top: 0;bottom: 0;left: 50%;z-index: -1;}#sk-container-id-4 div.sk-parallel-item {display: flex;flex-direction: column;z-index: 1;position: relative;background-color: white;}#sk-container-id-4 div.sk-parallel-item:first-child::after {align-self: flex-end;width: 50%;}#sk-container-id-4 div.sk-parallel-item:last-child::after {align-self: flex-start;width: 50%;}#sk-container-id-4 div.sk-parallel-item:only-child::after {width: 0;}#sk-container-id-4 div.sk-dashed-wrapped {border: 1px dashed gray;margin: 0 0.4em 0.5em 0.4em;box-sizing: border-box;padding-bottom: 0.4em;background-color: white;}#sk-container-id-4 div.sk-label label {font-family: monospace;font-weight: bold;display: inline-block;line-height: 1.2em;}#sk-container-id-4 div.sk-label-container {text-align: center;}#sk-container-id-4 div.sk-container {/* jupyter's `normalize.less` sets `[hidden] { display: none; }` but bootstrap.min.css set `[hidden] { display: none !important; }` so we also need the `!important` here to be able to override the default hidden behavior on the sphinx rendered scikit-learn.org. See: https://github.com/scikit-learn/scikit-learn/issues/21755 */display: inline-block !important;position: relative;}#sk-container-id-4 div.sk-text-repr-fallback {display: none;}</style><div id=\"sk-container-id-4\" class=\"sk-top-container\"><div class=\"sk-text-repr-fallback\"><pre>LogisticRegression(random_state=42)</pre><b>In a Jupyter environment, please rerun this cell to show the HTML representation or trust the notebook. <br />On GitHub, the HTML representation is unable to render, please try loading this page with nbviewer.org.</b></div><div class=\"sk-container\" hidden><div class=\"sk-item\"><div class=\"sk-estimator sk-toggleable\"><input class=\"sk-toggleable__control sk-hidden--visually\" id=\"sk-estimator-id-4\" type=\"checkbox\" checked><label for=\"sk-estimator-id-4\" class=\"sk-toggleable__label sk-toggleable__label-arrow\">LogisticRegression</label><div class=\"sk-toggleable__content\"><pre>LogisticRegression(random_state=42)</pre></div></div></div></div></div>"
      ],
      "text/plain": [
       "LogisticRegression(random_state=42)"
      ]
     },
     "execution_count": 96,
     "metadata": {},
     "output_type": "execute_result"
    }
   ],
   "source": [
    "from sklearn.linear_model import LogisticRegression\n",
    "lr_model = LogisticRegression(random_state=42)\n",
    "lr_model.fit(x_train, ytrain)"
   ]
  },
  {
   "cell_type": "code",
   "execution_count": 97,
   "id": "30ff164e-ce73-43ef-a79f-21dbb45bebdc",
   "metadata": {},
   "outputs": [
    {
     "data": {
      "text/plain": [
       "array([[0., 0., 0., ..., 0., 0., 0.],\n",
       "       [0., 0., 0., ..., 0., 0., 0.],\n",
       "       [0., 0., 0., ..., 0., 0., 0.],\n",
       "       ...,\n",
       "       [0., 0., 0., ..., 0., 0., 0.],\n",
       "       [0., 0., 0., ..., 0., 0., 0.],\n",
       "       [0., 0., 0., ..., 0., 0., 0.]])"
      ]
     },
     "execution_count": 97,
     "metadata": {},
     "output_type": "execute_result"
    }
   ],
   "source": [
    "x_test= cv.transform(xtest)\n",
    "x_test.toarray()"
   ]
  },
  {
   "cell_type": "code",
   "execution_count": 98,
   "id": "6bfa797b-2f8c-4f7d-be91-32743756de4d",
   "metadata": {},
   "outputs": [
    {
     "name": "stdout",
     "output_type": "stream",
     "text": [
      "Accuracy: 0.8025059665871122\n"
     ]
    }
   ],
   "source": [
    "accuracy = lr_model.score(x_test, ytest)\n",
    "print(\"Accuracy:\", accuracy)"
   ]
  },
  {
   "cell_type": "raw",
   "id": "05965032-d426-4ac9-a917-fa6470a3ba2a",
   "metadata": {},
   "source": [
    "# PERFORMANCE ANALYSIS"
   ]
  },
  {
   "cell_type": "code",
   "execution_count": 99,
   "id": "8865b65c-cbc1-460b-8de9-06f2f7a9c1f2",
   "metadata": {},
   "outputs": [
    {
     "data": {
      "text/plain": [
       "array([1, 0, 1, ..., 0, 0, 0])"
      ]
     },
     "execution_count": 99,
     "metadata": {},
     "output_type": "execute_result"
    }
   ],
   "source": [
    "pred = lr_model.predict(x_test)\n",
    "pred"
   ]
  },
  {
   "cell_type": "code",
   "execution_count": 100,
   "id": "c6fd5199-4837-4d4d-a08a-ff09c9223c78",
   "metadata": {},
   "outputs": [
    {
     "data": {
      "text/plain": [
       "array([[1276,  362],\n",
       "       [ 300, 1414]], dtype=int64)"
      ]
     },
     "execution_count": 100,
     "metadata": {},
     "output_type": "execute_result"
    }
   ],
   "source": [
    "confusion_matrix(ytest,pred)"
   ]
  },
  {
   "cell_type": "code",
   "execution_count": 101,
   "id": "c4630e03-cf23-4128-b48e-d3fa4537c9c8",
   "metadata": {},
   "outputs": [
    {
     "name": "stdout",
     "output_type": "stream",
     "text": [
      "              precision    recall  f1-score   support\n",
      "\n",
      "           0       0.81      0.78      0.79      1638\n",
      "           1       0.80      0.82      0.81      1714\n",
      "\n",
      "    accuracy                           0.80      3352\n",
      "   macro avg       0.80      0.80      0.80      3352\n",
      "weighted avg       0.80      0.80      0.80      3352\n",
      "\n"
     ]
    }
   ],
   "source": [
    "from sklearn.metrics import classification_report\n",
    "print(classification_report(ytest,pred))"
   ]
  },
  {
   "cell_type": "markdown",
   "id": "7da4206f-59c1-4b90-be7c-2ef7b7b19e19",
   "metadata": {},
   "source": [
    "# k-fold for logistic regression"
   ]
  },
  {
   "cell_type": "code",
   "execution_count": 102,
   "id": "99d39914-0d44-4fa2-bce3-df9ecd9e5970",
   "metadata": {},
   "outputs": [],
   "source": [
    "from sklearn.model_selection import cross_val_score"
   ]
  },
  {
   "cell_type": "code",
   "execution_count": 103,
   "id": "0ecccf97-54c8-4b45-887e-3dfff3510f09",
   "metadata": {},
   "outputs": [],
   "source": [
    "cv = TfidfVectorizer()\n",
    "x_train=cv.fit_transform(xtrain)"
   ]
  },
  {
   "cell_type": "code",
   "execution_count": 104,
   "id": "8deb626b-219a-41ee-8f25-12a5537a059c",
   "metadata": {},
   "outputs": [],
   "source": [
    "cvscore1 = cross_val_score(lr_model,x_train,ytrain,cv=5)"
   ]
  },
  {
   "cell_type": "code",
   "execution_count": 105,
   "id": "3b9e441f-5ddc-476b-a921-7581b2bd7653",
   "metadata": {},
   "outputs": [
    {
     "data": {
      "text/plain": [
       "array([0.80818414, 0.79923274, 0.80690537, 0.81138107, 0.78900256])"
      ]
     },
     "execution_count": 105,
     "metadata": {},
     "output_type": "execute_result"
    }
   ],
   "source": [
    "cvscore1"
   ]
  },
  {
   "cell_type": "code",
   "execution_count": 106,
   "id": "9162c31d-7e25-4de2-8460-36719b0c1107",
   "metadata": {},
   "outputs": [
    {
     "data": {
      "text/plain": [
       "0.8029411764705883"
      ]
     },
     "execution_count": 106,
     "metadata": {},
     "output_type": "execute_result"
    }
   ],
   "source": [
    "cvscore1.mean()"
   ]
  },
  {
   "cell_type": "markdown",
   "id": "36733afa-f899-43be-9143-330aae64d76f",
   "metadata": {},
   "source": [
    "# This is for support vector machine"
   ]
  },
  {
   "cell_type": "code",
   "execution_count": 107,
   "id": "49826059-9cf6-471d-9539-0e3e0a21ee6f",
   "metadata": {},
   "outputs": [],
   "source": [
    "from sklearn.svm import SVC\n",
    "kernel_options = ['linear', 'rbf', 'poly', 'sigmoid']\n",
    "svm_models = {}\n",
    "# Loop through the kernel options and fit separate models for each\n",
    "for kernel in kernel_options:\n",
    "    svm_model = SVC(kernel=kernel)\n",
    "    svm_model.fit(x_train, ytrain)\n",
    "    svm_models[kernel] = svm_model\n",
    "    \n",
    "svm_model1 = svm_models['rbf']"
   ]
  },
  {
   "cell_type": "code",
   "execution_count": 108,
   "id": "3b6c1680-76fc-4489-b27b-da337d14a613",
   "metadata": {},
   "outputs": [
    {
     "data": {
      "text/plain": [
       "array([[0., 0., 0., ..., 0., 0., 0.],\n",
       "       [0., 0., 0., ..., 0., 0., 0.],\n",
       "       [0., 0., 0., ..., 0., 0., 0.],\n",
       "       ...,\n",
       "       [0., 0., 0., ..., 0., 0., 0.],\n",
       "       [0., 0., 0., ..., 0., 0., 0.],\n",
       "       [0., 0., 0., ..., 0., 0., 0.]])"
      ]
     },
     "execution_count": 108,
     "metadata": {},
     "output_type": "execute_result"
    }
   ],
   "source": [
    "x_test= cv.transform(xtest)\n",
    "x_test.toarray()"
   ]
  },
  {
   "cell_type": "code",
   "execution_count": 109,
   "id": "1-rZiyG_iuvU",
   "metadata": {
    "colab": {
     "base_uri": "https://localhost:8080/"
    },
    "id": "1-rZiyG_iuvU",
    "outputId": "1f79e6b1-257d-42ec-a535-3220608fcc73"
   },
   "outputs": [
    {
     "name": "stdout",
     "output_type": "stream",
     "text": [
      "Accuracy: 0.8111575178997613\n"
     ]
    }
   ],
   "source": [
    "accuracy = svm_model1.score(x_test, ytest)\n",
    "print(\"Accuracy:\", accuracy)"
   ]
  },
  {
   "cell_type": "raw",
   "id": "8a67e451-ce4e-45b9-a9ce-7d8c78a24b0e",
   "metadata": {},
   "source": [
    "# HERE 0 MEANS SPAM AND 1 NON SPAM"
   ]
  },
  {
   "cell_type": "code",
   "execution_count": 110,
   "id": "_LUDX13jiu0S",
   "metadata": {
    "id": "_LUDX13jiu0S"
   },
   "outputs": [],
   "source": [
    "cleaned=[\"কিরে কাইল্লা কি করছ তুই \"]"
   ]
  },
  {
   "cell_type": "code",
   "execution_count": 111,
   "id": "XctiwkXblpFQ",
   "metadata": {
    "id": "XctiwkXblpFQ"
   },
   "outputs": [],
   "source": [
    "cv_cleaned=cv.transform(cleaned)"
   ]
  },
  {
   "cell_type": "code",
   "execution_count": 112,
   "id": "93499f60-ceb5-414a-891f-874c6cca8a83",
   "metadata": {},
   "outputs": [],
   "source": [
    "cv_cleaned_dense = cv_cleaned.toarray()"
   ]
  },
  {
   "cell_type": "code",
   "execution_count": 113,
   "id": "f993ae21-7d1c-49c0-8734-00f9ab1f50b0",
   "metadata": {},
   "outputs": [
    {
     "data": {
      "text/plain": [
       "array([0])"
      ]
     },
     "execution_count": 113,
     "metadata": {},
     "output_type": "execute_result"
    }
   ],
   "source": [
    "svm_model1.predict(cv_cleaned_dense)"
   ]
  },
  {
   "cell_type": "raw",
   "id": "7e62ec95-f18c-4f35-872d-ca844c81c1ae",
   "metadata": {},
   "source": [
    "# MODEL PERFORMANCE ANALYSIS DONE HERE"
   ]
  },
  {
   "cell_type": "code",
   "execution_count": 114,
   "id": "4970a52b-2422-47d5-9def-287315932bc0",
   "metadata": {},
   "outputs": [
    {
     "data": {
      "text/plain": [
       "array([1, 0, 1, ..., 0, 0, 0])"
      ]
     },
     "execution_count": 114,
     "metadata": {},
     "output_type": "execute_result"
    }
   ],
   "source": [
    "pred = svm_model1.predict(x_test)\n",
    "pred"
   ]
  },
  {
   "cell_type": "code",
   "execution_count": 115,
   "id": "940c0dad-78cb-4e7e-9a9a-dd3b9d9fad43",
   "metadata": {},
   "outputs": [],
   "source": [
    "from sklearn.metrics import accuracy_score"
   ]
  },
  {
   "cell_type": "code",
   "execution_count": 116,
   "id": "3cdb865a-0eb7-43c1-b931-6a1edf726da8",
   "metadata": {},
   "outputs": [
    {
     "data": {
      "text/plain": [
       "0.8111575178997613"
      ]
     },
     "execution_count": 116,
     "metadata": {},
     "output_type": "execute_result"
    }
   ],
   "source": [
    "accuracy_score(ytest,pred)"
   ]
  },
  {
   "cell_type": "code",
   "execution_count": 117,
   "id": "7267b1d1-c92f-49b4-a18e-8d084438f4c6",
   "metadata": {},
   "outputs": [
    {
     "data": {
      "text/plain": [
       "array([[1276,  362],\n",
       "       [ 271, 1443]], dtype=int64)"
      ]
     },
     "execution_count": 117,
     "metadata": {},
     "output_type": "execute_result"
    }
   ],
   "source": [
    "confusion_matrix(ytest,pred)"
   ]
  },
  {
   "cell_type": "code",
   "execution_count": 118,
   "id": "319df9c4-1363-4304-9ca5-b5f8c6c4ff18",
   "metadata": {},
   "outputs": [
    {
     "name": "stdout",
     "output_type": "stream",
     "text": [
      "              precision    recall  f1-score   support\n",
      "\n",
      "           0       0.82      0.78      0.80      1638\n",
      "           1       0.80      0.84      0.82      1714\n",
      "\n",
      "    accuracy                           0.81      3352\n",
      "   macro avg       0.81      0.81      0.81      3352\n",
      "weighted avg       0.81      0.81      0.81      3352\n",
      "\n"
     ]
    }
   ],
   "source": [
    "from sklearn.metrics import classification_report\n",
    "print(classification_report(ytest,pred))"
   ]
  },
  {
   "cell_type": "markdown",
   "id": "44c8cdd2-a9f4-4d48-a6fb-bfcf31e25f6c",
   "metadata": {},
   "source": [
    "# k fold for svm"
   ]
  },
  {
   "cell_type": "code",
   "execution_count": 119,
   "id": "f2735c53-5cc3-4431-b094-49bff66b11a3",
   "metadata": {},
   "outputs": [],
   "source": [
    "from sklearn.model_selection import cross_val_score"
   ]
  },
  {
   "cell_type": "code",
   "execution_count": 120,
   "id": "9741b9b5-cfe0-4ef4-9cee-5515da55702e",
   "metadata": {},
   "outputs": [],
   "source": [
    "cv = TfidfVectorizer()\n",
    "x_train=cv.fit_transform(xtrain)"
   ]
  },
  {
   "cell_type": "code",
   "execution_count": 121,
   "id": "bbf30ac5-4430-4e02-802d-2729fa3b2d32",
   "metadata": {},
   "outputs": [],
   "source": [
    "cvscore2 = cross_val_score(svm_model1,x_train,ytrain,cv=5)"
   ]
  },
  {
   "cell_type": "code",
   "execution_count": 122,
   "id": "bb0d0fa2-1be8-47bb-ab29-62b41efedafa",
   "metadata": {},
   "outputs": [
    {
     "data": {
      "text/plain": [
       "array([0.81074169, 0.81074169, 0.80818414, 0.82097187, 0.79092072])"
      ]
     },
     "execution_count": 122,
     "metadata": {},
     "output_type": "execute_result"
    }
   ],
   "source": [
    "cvscore2"
   ]
  },
  {
   "cell_type": "code",
   "execution_count": 123,
   "id": "42905e16-5d09-4df4-9f37-52d48052ab63",
   "metadata": {},
   "outputs": [
    {
     "data": {
      "text/plain": [
       "0.808312020460358"
      ]
     },
     "execution_count": 123,
     "metadata": {},
     "output_type": "execute_result"
    }
   ],
   "source": [
    "cvscore2.mean()"
   ]
  },
  {
   "cell_type": "markdown",
   "id": "9caa3457-a61b-41ab-b6e8-04fabc9c1aa2",
   "metadata": {},
   "source": [
    "# Apply Stacking ensemble"
   ]
  },
  {
   "cell_type": "code",
   "execution_count": 124,
   "id": "1eecba69-665f-4696-aef8-b2808b7a9043",
   "metadata": {},
   "outputs": [],
   "source": [
    "estimators=[('svm',svm_model1),('rbf',lr_model)]\n",
    "final_estimator=svm_models['rbf']"
   ]
  },
  {
   "cell_type": "code",
   "execution_count": 125,
   "id": "e57bacf5-0469-4501-842c-737597b55dad",
   "metadata": {},
   "outputs": [],
   "source": [
    "from sklearn.ensemble import StackingClassifier\n",
    "clf= StackingClassifier(estimators=estimators,final_estimator=final_estimator)"
   ]
  },
  {
   "cell_type": "code",
   "execution_count": 126,
   "id": "5ce45574-5f28-464b-8e34-3cc28c2b9733",
   "metadata": {},
   "outputs": [
    {
     "data": {
      "text/html": [
       "<style>#sk-container-id-5 {color: black;}#sk-container-id-5 pre{padding: 0;}#sk-container-id-5 div.sk-toggleable {background-color: white;}#sk-container-id-5 label.sk-toggleable__label {cursor: pointer;display: block;width: 100%;margin-bottom: 0;padding: 0.3em;box-sizing: border-box;text-align: center;}#sk-container-id-5 label.sk-toggleable__label-arrow:before {content: \"▸\";float: left;margin-right: 0.25em;color: #696969;}#sk-container-id-5 label.sk-toggleable__label-arrow:hover:before {color: black;}#sk-container-id-5 div.sk-estimator:hover label.sk-toggleable__label-arrow:before {color: black;}#sk-container-id-5 div.sk-toggleable__content {max-height: 0;max-width: 0;overflow: hidden;text-align: left;background-color: #f0f8ff;}#sk-container-id-5 div.sk-toggleable__content pre {margin: 0.2em;color: black;border-radius: 0.25em;background-color: #f0f8ff;}#sk-container-id-5 input.sk-toggleable__control:checked~div.sk-toggleable__content {max-height: 200px;max-width: 100%;overflow: auto;}#sk-container-id-5 input.sk-toggleable__control:checked~label.sk-toggleable__label-arrow:before {content: \"▾\";}#sk-container-id-5 div.sk-estimator input.sk-toggleable__control:checked~label.sk-toggleable__label {background-color: #d4ebff;}#sk-container-id-5 div.sk-label input.sk-toggleable__control:checked~label.sk-toggleable__label {background-color: #d4ebff;}#sk-container-id-5 input.sk-hidden--visually {border: 0;clip: rect(1px 1px 1px 1px);clip: rect(1px, 1px, 1px, 1px);height: 1px;margin: -1px;overflow: hidden;padding: 0;position: absolute;width: 1px;}#sk-container-id-5 div.sk-estimator {font-family: monospace;background-color: #f0f8ff;border: 1px dotted black;border-radius: 0.25em;box-sizing: border-box;margin-bottom: 0.5em;}#sk-container-id-5 div.sk-estimator:hover {background-color: #d4ebff;}#sk-container-id-5 div.sk-parallel-item::after {content: \"\";width: 100%;border-bottom: 1px solid gray;flex-grow: 1;}#sk-container-id-5 div.sk-label:hover label.sk-toggleable__label {background-color: #d4ebff;}#sk-container-id-5 div.sk-serial::before {content: \"\";position: absolute;border-left: 1px solid gray;box-sizing: border-box;top: 0;bottom: 0;left: 50%;z-index: 0;}#sk-container-id-5 div.sk-serial {display: flex;flex-direction: column;align-items: center;background-color: white;padding-right: 0.2em;padding-left: 0.2em;position: relative;}#sk-container-id-5 div.sk-item {position: relative;z-index: 1;}#sk-container-id-5 div.sk-parallel {display: flex;align-items: stretch;justify-content: center;background-color: white;position: relative;}#sk-container-id-5 div.sk-item::before, #sk-container-id-5 div.sk-parallel-item::before {content: \"\";position: absolute;border-left: 1px solid gray;box-sizing: border-box;top: 0;bottom: 0;left: 50%;z-index: -1;}#sk-container-id-5 div.sk-parallel-item {display: flex;flex-direction: column;z-index: 1;position: relative;background-color: white;}#sk-container-id-5 div.sk-parallel-item:first-child::after {align-self: flex-end;width: 50%;}#sk-container-id-5 div.sk-parallel-item:last-child::after {align-self: flex-start;width: 50%;}#sk-container-id-5 div.sk-parallel-item:only-child::after {width: 0;}#sk-container-id-5 div.sk-dashed-wrapped {border: 1px dashed gray;margin: 0 0.4em 0.5em 0.4em;box-sizing: border-box;padding-bottom: 0.4em;background-color: white;}#sk-container-id-5 div.sk-label label {font-family: monospace;font-weight: bold;display: inline-block;line-height: 1.2em;}#sk-container-id-5 div.sk-label-container {text-align: center;}#sk-container-id-5 div.sk-container {/* jupyter's `normalize.less` sets `[hidden] { display: none; }` but bootstrap.min.css set `[hidden] { display: none !important; }` so we also need the `!important` here to be able to override the default hidden behavior on the sphinx rendered scikit-learn.org. See: https://github.com/scikit-learn/scikit-learn/issues/21755 */display: inline-block !important;position: relative;}#sk-container-id-5 div.sk-text-repr-fallback {display: none;}</style><div id=\"sk-container-id-5\" class=\"sk-top-container\"><div class=\"sk-text-repr-fallback\"><pre>StackingClassifier(estimators=[(&#x27;svm&#x27;, SVC()),\n",
       "                               (&#x27;rbf&#x27;, LogisticRegression(random_state=42))],\n",
       "                   final_estimator=SVC())</pre><b>In a Jupyter environment, please rerun this cell to show the HTML representation or trust the notebook. <br />On GitHub, the HTML representation is unable to render, please try loading this page with nbviewer.org.</b></div><div class=\"sk-container\" hidden><div class=\"sk-item sk-dashed-wrapped\"><div class=\"sk-label-container\"><div class=\"sk-label sk-toggleable\"><input class=\"sk-toggleable__control sk-hidden--visually\" id=\"sk-estimator-id-5\" type=\"checkbox\" ><label for=\"sk-estimator-id-5\" class=\"sk-toggleable__label sk-toggleable__label-arrow\">StackingClassifier</label><div class=\"sk-toggleable__content\"><pre>StackingClassifier(estimators=[(&#x27;svm&#x27;, SVC()),\n",
       "                               (&#x27;rbf&#x27;, LogisticRegression(random_state=42))],\n",
       "                   final_estimator=SVC())</pre></div></div></div><div class=\"sk-serial\"><div class=\"sk-item\"><div class=\"sk-parallel\"><div class=\"sk-parallel-item\"><div class=\"sk-item\"><div class=\"sk-label-container\"><div class=\"sk-label sk-toggleable\"><label>svm</label></div></div><div class=\"sk-serial\"><div class=\"sk-item\"><div class=\"sk-estimator sk-toggleable\"><input class=\"sk-toggleable__control sk-hidden--visually\" id=\"sk-estimator-id-6\" type=\"checkbox\" ><label for=\"sk-estimator-id-6\" class=\"sk-toggleable__label sk-toggleable__label-arrow\">SVC</label><div class=\"sk-toggleable__content\"><pre>SVC()</pre></div></div></div></div></div></div><div class=\"sk-parallel-item\"><div class=\"sk-item\"><div class=\"sk-label-container\"><div class=\"sk-label sk-toggleable\"><label>rbf</label></div></div><div class=\"sk-serial\"><div class=\"sk-item\"><div class=\"sk-estimator sk-toggleable\"><input class=\"sk-toggleable__control sk-hidden--visually\" id=\"sk-estimator-id-7\" type=\"checkbox\" ><label for=\"sk-estimator-id-7\" class=\"sk-toggleable__label sk-toggleable__label-arrow\">LogisticRegression</label><div class=\"sk-toggleable__content\"><pre>LogisticRegression(random_state=42)</pre></div></div></div></div></div></div></div></div><div class=\"sk-item\"><div class=\"sk-parallel\"><div class=\"sk-parallel-item\"><div class=\"sk-item\"><div class=\"sk-label-container\"><div class=\"sk-label sk-toggleable\"><label>final_estimator</label></div></div><div class=\"sk-serial\"><div class=\"sk-item\"><div class=\"sk-estimator sk-toggleable\"><input class=\"sk-toggleable__control sk-hidden--visually\" id=\"sk-estimator-id-8\" type=\"checkbox\" ><label for=\"sk-estimator-id-8\" class=\"sk-toggleable__label sk-toggleable__label-arrow\">SVC</label><div class=\"sk-toggleable__content\"><pre>SVC()</pre></div></div></div></div></div></div></div></div></div></div></div></div>"
      ],
      "text/plain": [
       "StackingClassifier(estimators=[('svm', SVC()),\n",
       "                               ('rbf', LogisticRegression(random_state=42))],\n",
       "                   final_estimator=SVC())"
      ]
     },
     "execution_count": 126,
     "metadata": {},
     "output_type": "execute_result"
    }
   ],
   "source": [
    "clf.fit(x_train,ytrain)"
   ]
  },
  {
   "cell_type": "code",
   "execution_count": 127,
   "id": "a79e1f1a-3b9f-4dfb-ab6b-676956c2c060",
   "metadata": {},
   "outputs": [
    {
     "data": {
      "text/plain": [
       "array([[0., 0., 0., ..., 0., 0., 0.],\n",
       "       [0., 0., 0., ..., 0., 0., 0.],\n",
       "       [0., 0., 0., ..., 0., 0., 0.],\n",
       "       ...,\n",
       "       [0., 0., 0., ..., 0., 0., 0.],\n",
       "       [0., 0., 0., ..., 0., 0., 0.],\n",
       "       [0., 0., 0., ..., 0., 0., 0.]])"
      ]
     },
     "execution_count": 127,
     "metadata": {},
     "output_type": "execute_result"
    }
   ],
   "source": [
    "x_test= cv.transform(xtest)\n",
    "x_test.toarray()"
   ]
  },
  {
   "cell_type": "code",
   "execution_count": 128,
   "id": "a50ac57b-afdb-4f71-aae9-fd67065f4854",
   "metadata": {},
   "outputs": [
    {
     "name": "stdout",
     "output_type": "stream",
     "text": [
      "accuracy 0.8105608591885441\n"
     ]
    }
   ],
   "source": [
    "y_pred=clf.predict(x_test)\n",
    "print(\"accuracy\",accuracy_score(ytest,y_pred))"
   ]
  },
  {
   "cell_type": "code",
   "execution_count": 129,
   "id": "011ce49b-c521-4172-ab25-6f08897c43a0",
   "metadata": {},
   "outputs": [
    {
     "data": {
      "text/plain": [
       "array([1, 0, 1, ..., 0, 0, 0])"
      ]
     },
     "execution_count": 129,
     "metadata": {},
     "output_type": "execute_result"
    }
   ],
   "source": [
    "pred = clf.predict(x_test)\n",
    "pred"
   ]
  },
  {
   "cell_type": "code",
   "execution_count": 130,
   "id": "211e9aa2-62c9-482a-89d9-b0cad12a8b12",
   "metadata": {},
   "outputs": [
    {
     "data": {
      "text/plain": [
       "array([[1281,  357],\n",
       "       [ 278, 1436]], dtype=int64)"
      ]
     },
     "execution_count": 130,
     "metadata": {},
     "output_type": "execute_result"
    }
   ],
   "source": [
    "from sklearn.metrics import accuracy_score\n",
    "confusion_matrix(ytest,pred)"
   ]
  },
  {
   "cell_type": "code",
   "execution_count": 131,
   "id": "61d1a6fd-12f9-44dc-b13c-66534e7c3b8f",
   "metadata": {},
   "outputs": [
    {
     "name": "stdout",
     "output_type": "stream",
     "text": [
      "              precision    recall  f1-score   support\n",
      "\n",
      "           0       0.82      0.78      0.80      1638\n",
      "           1       0.80      0.84      0.82      1714\n",
      "\n",
      "    accuracy                           0.81      3352\n",
      "   macro avg       0.81      0.81      0.81      3352\n",
      "weighted avg       0.81      0.81      0.81      3352\n",
      "\n"
     ]
    }
   ],
   "source": [
    "from sklearn.metrics import classification_report\n",
    "print(classification_report(ytest,pred))"
   ]
  },
  {
   "cell_type": "markdown",
   "id": "722bce97-1d7d-41c0-b5ed-9d050609d9c2",
   "metadata": {},
   "source": [
    "# Using k-fold for stacking ensemble model"
   ]
  },
  {
   "cell_type": "code",
   "execution_count": 132,
   "id": "09fe1f6a-72c2-4e03-ae64-a50be516e7fc",
   "metadata": {},
   "outputs": [],
   "source": [
    "from sklearn.model_selection import cross_val_score"
   ]
  },
  {
   "cell_type": "code",
   "execution_count": 133,
   "id": "2782b8db-9aeb-400f-b0c9-43e23dc2eb4d",
   "metadata": {},
   "outputs": [],
   "source": [
    "cv = TfidfVectorizer()\n",
    "x_train=cv.fit_transform(xtrain)"
   ]
  },
  {
   "cell_type": "code",
   "execution_count": 134,
   "id": "0315c03a-4f22-484e-b423-89978f4db029",
   "metadata": {},
   "outputs": [],
   "source": [
    "cvscore4 = cross_val_score(clf,x_train,ytrain,cv=5)"
   ]
  },
  {
   "cell_type": "code",
   "execution_count": 135,
   "id": "49400613-d633-4b83-b8ec-a3d3d8174ee9",
   "metadata": {},
   "outputs": [
    {
     "data": {
      "text/plain": [
       "array([0.81329923, 0.81265985, 0.80690537, 0.82480818, 0.79411765])"
      ]
     },
     "execution_count": 135,
     "metadata": {},
     "output_type": "execute_result"
    }
   ],
   "source": [
    "cvscore4"
   ]
  },
  {
   "cell_type": "code",
   "execution_count": 136,
   "id": "f0058929-ddd8-4a59-b11f-f2673f9a6e6c",
   "metadata": {},
   "outputs": [
    {
     "data": {
      "text/plain": [
       "0.8103580562659847"
      ]
     },
     "execution_count": 136,
     "metadata": {},
     "output_type": "execute_result"
    }
   ],
   "source": [
    "cvscore4.mean()"
   ]
  },
  {
   "cell_type": "code",
   "execution_count": null,
   "id": "7114ae58-a494-4dad-8b50-462d8693847c",
   "metadata": {},
   "outputs": [],
   "source": []
  },
  {
   "cell_type": "markdown",
   "id": "71580331-018d-4767-bf55-b8c558e0fdbc",
   "metadata": {},
   "source": [
    "# PICKLE DONE HERE"
   ]
  },
  {
   "cell_type": "code",
   "execution_count": 137,
   "id": "4223d9dc-f26a-4707-93a8-a974f9228806",
   "metadata": {},
   "outputs": [],
   "source": [
    "import pickle"
   ]
  },
  {
   "cell_type": "code",
   "execution_count": 138,
   "id": "a69df67a-4604-43d5-a7e1-c7ec9da05483",
   "metadata": {},
   "outputs": [],
   "source": [
    "pickle.dump(clf, open(\"spam.pkl\",\"wb\"))"
   ]
  },
  {
   "cell_type": "code",
   "execution_count": 139,
   "id": "1da58f62-36ae-4236-854f-0cbb698cf7fb",
   "metadata": {},
   "outputs": [],
   "source": [
    "pickle.dump(cv, open(\"TfidfVectorizer.pkl\",\"wb\"))"
   ]
  },
  {
   "cell_type": "code",
   "execution_count": 140,
   "id": "891e8a22-06a7-4cfc-b029-87e48b6cbd4e",
   "metadata": {},
   "outputs": [],
   "source": [
    "cllf=pickle.load( open (\"spam.pkl\",\"rb\"))"
   ]
  },
  {
   "cell_type": "code",
   "execution_count": 141,
   "id": "731b8630-0bfa-4878-9097-6b3bbbaa8910",
   "metadata": {},
   "outputs": [
    {
     "data": {
      "text/html": [
       "<style>#sk-container-id-6 {color: black;}#sk-container-id-6 pre{padding: 0;}#sk-container-id-6 div.sk-toggleable {background-color: white;}#sk-container-id-6 label.sk-toggleable__label {cursor: pointer;display: block;width: 100%;margin-bottom: 0;padding: 0.3em;box-sizing: border-box;text-align: center;}#sk-container-id-6 label.sk-toggleable__label-arrow:before {content: \"▸\";float: left;margin-right: 0.25em;color: #696969;}#sk-container-id-6 label.sk-toggleable__label-arrow:hover:before {color: black;}#sk-container-id-6 div.sk-estimator:hover label.sk-toggleable__label-arrow:before {color: black;}#sk-container-id-6 div.sk-toggleable__content {max-height: 0;max-width: 0;overflow: hidden;text-align: left;background-color: #f0f8ff;}#sk-container-id-6 div.sk-toggleable__content pre {margin: 0.2em;color: black;border-radius: 0.25em;background-color: #f0f8ff;}#sk-container-id-6 input.sk-toggleable__control:checked~div.sk-toggleable__content {max-height: 200px;max-width: 100%;overflow: auto;}#sk-container-id-6 input.sk-toggleable__control:checked~label.sk-toggleable__label-arrow:before {content: \"▾\";}#sk-container-id-6 div.sk-estimator input.sk-toggleable__control:checked~label.sk-toggleable__label {background-color: #d4ebff;}#sk-container-id-6 div.sk-label input.sk-toggleable__control:checked~label.sk-toggleable__label {background-color: #d4ebff;}#sk-container-id-6 input.sk-hidden--visually {border: 0;clip: rect(1px 1px 1px 1px);clip: rect(1px, 1px, 1px, 1px);height: 1px;margin: -1px;overflow: hidden;padding: 0;position: absolute;width: 1px;}#sk-container-id-6 div.sk-estimator {font-family: monospace;background-color: #f0f8ff;border: 1px dotted black;border-radius: 0.25em;box-sizing: border-box;margin-bottom: 0.5em;}#sk-container-id-6 div.sk-estimator:hover {background-color: #d4ebff;}#sk-container-id-6 div.sk-parallel-item::after {content: \"\";width: 100%;border-bottom: 1px solid gray;flex-grow: 1;}#sk-container-id-6 div.sk-label:hover label.sk-toggleable__label {background-color: #d4ebff;}#sk-container-id-6 div.sk-serial::before {content: \"\";position: absolute;border-left: 1px solid gray;box-sizing: border-box;top: 0;bottom: 0;left: 50%;z-index: 0;}#sk-container-id-6 div.sk-serial {display: flex;flex-direction: column;align-items: center;background-color: white;padding-right: 0.2em;padding-left: 0.2em;position: relative;}#sk-container-id-6 div.sk-item {position: relative;z-index: 1;}#sk-container-id-6 div.sk-parallel {display: flex;align-items: stretch;justify-content: center;background-color: white;position: relative;}#sk-container-id-6 div.sk-item::before, #sk-container-id-6 div.sk-parallel-item::before {content: \"\";position: absolute;border-left: 1px solid gray;box-sizing: border-box;top: 0;bottom: 0;left: 50%;z-index: -1;}#sk-container-id-6 div.sk-parallel-item {display: flex;flex-direction: column;z-index: 1;position: relative;background-color: white;}#sk-container-id-6 div.sk-parallel-item:first-child::after {align-self: flex-end;width: 50%;}#sk-container-id-6 div.sk-parallel-item:last-child::after {align-self: flex-start;width: 50%;}#sk-container-id-6 div.sk-parallel-item:only-child::after {width: 0;}#sk-container-id-6 div.sk-dashed-wrapped {border: 1px dashed gray;margin: 0 0.4em 0.5em 0.4em;box-sizing: border-box;padding-bottom: 0.4em;background-color: white;}#sk-container-id-6 div.sk-label label {font-family: monospace;font-weight: bold;display: inline-block;line-height: 1.2em;}#sk-container-id-6 div.sk-label-container {text-align: center;}#sk-container-id-6 div.sk-container {/* jupyter's `normalize.less` sets `[hidden] { display: none; }` but bootstrap.min.css set `[hidden] { display: none !important; }` so we also need the `!important` here to be able to override the default hidden behavior on the sphinx rendered scikit-learn.org. See: https://github.com/scikit-learn/scikit-learn/issues/21755 */display: inline-block !important;position: relative;}#sk-container-id-6 div.sk-text-repr-fallback {display: none;}</style><div id=\"sk-container-id-6\" class=\"sk-top-container\"><div class=\"sk-text-repr-fallback\"><pre>StackingClassifier(estimators=[(&#x27;svm&#x27;, SVC()),\n",
       "                               (&#x27;rbf&#x27;, LogisticRegression(random_state=42))],\n",
       "                   final_estimator=SVC())</pre><b>In a Jupyter environment, please rerun this cell to show the HTML representation or trust the notebook. <br />On GitHub, the HTML representation is unable to render, please try loading this page with nbviewer.org.</b></div><div class=\"sk-container\" hidden><div class=\"sk-item sk-dashed-wrapped\"><div class=\"sk-label-container\"><div class=\"sk-label sk-toggleable\"><input class=\"sk-toggleable__control sk-hidden--visually\" id=\"sk-estimator-id-9\" type=\"checkbox\" ><label for=\"sk-estimator-id-9\" class=\"sk-toggleable__label sk-toggleable__label-arrow\">StackingClassifier</label><div class=\"sk-toggleable__content\"><pre>StackingClassifier(estimators=[(&#x27;svm&#x27;, SVC()),\n",
       "                               (&#x27;rbf&#x27;, LogisticRegression(random_state=42))],\n",
       "                   final_estimator=SVC())</pre></div></div></div><div class=\"sk-serial\"><div class=\"sk-item\"><div class=\"sk-parallel\"><div class=\"sk-parallel-item\"><div class=\"sk-item\"><div class=\"sk-label-container\"><div class=\"sk-label sk-toggleable\"><label>svm</label></div></div><div class=\"sk-serial\"><div class=\"sk-item\"><div class=\"sk-estimator sk-toggleable\"><input class=\"sk-toggleable__control sk-hidden--visually\" id=\"sk-estimator-id-10\" type=\"checkbox\" ><label for=\"sk-estimator-id-10\" class=\"sk-toggleable__label sk-toggleable__label-arrow\">SVC</label><div class=\"sk-toggleable__content\"><pre>SVC()</pre></div></div></div></div></div></div><div class=\"sk-parallel-item\"><div class=\"sk-item\"><div class=\"sk-label-container\"><div class=\"sk-label sk-toggleable\"><label>rbf</label></div></div><div class=\"sk-serial\"><div class=\"sk-item\"><div class=\"sk-estimator sk-toggleable\"><input class=\"sk-toggleable__control sk-hidden--visually\" id=\"sk-estimator-id-11\" type=\"checkbox\" ><label for=\"sk-estimator-id-11\" class=\"sk-toggleable__label sk-toggleable__label-arrow\">LogisticRegression</label><div class=\"sk-toggleable__content\"><pre>LogisticRegression(random_state=42)</pre></div></div></div></div></div></div></div></div><div class=\"sk-item\"><div class=\"sk-parallel\"><div class=\"sk-parallel-item\"><div class=\"sk-item\"><div class=\"sk-label-container\"><div class=\"sk-label sk-toggleable\"><label>final_estimator</label></div></div><div class=\"sk-serial\"><div class=\"sk-item\"><div class=\"sk-estimator sk-toggleable\"><input class=\"sk-toggleable__control sk-hidden--visually\" id=\"sk-estimator-id-12\" type=\"checkbox\" ><label for=\"sk-estimator-id-12\" class=\"sk-toggleable__label sk-toggleable__label-arrow\">SVC</label><div class=\"sk-toggleable__content\"><pre>SVC()</pre></div></div></div></div></div></div></div></div></div></div></div></div>"
      ],
      "text/plain": [
       "StackingClassifier(estimators=[('svm', SVC()),\n",
       "                               ('rbf', LogisticRegression(random_state=42))],\n",
       "                   final_estimator=SVC())"
      ]
     },
     "execution_count": 141,
     "metadata": {},
     "output_type": "execute_result"
    }
   ],
   "source": [
    "cllf"
   ]
  },
  {
   "cell_type": "markdown",
   "id": "1b7d6ee2-17d5-4457-8ca0-5f6e8443ccf0",
   "metadata": {
    "id": "217b5436-f94f-460a-81ef-5bc3a8f13bb6"
   },
   "source": [
    "# PICKLE OUTPUT IS HERE"
   ]
  },
  {
   "cell_type": "code",
   "execution_count": 142,
   "id": "3f441a53-ea28-4993-a1af-17af41052d5f",
   "metadata": {},
   "outputs": [],
   "source": [
    "# HERE 0 MEANS SPAM AND 1 MEANS NON SPAM"
   ]
  },
  {
   "cell_type": "code",
   "execution_count": 143,
   "id": "681851cd-550d-444b-ba2a-0b15268804fe",
   "metadata": {},
   "outputs": [
    {
     "name": "stdout",
     "output_type": "stream",
     "text": [
      "[0]\n"
     ]
    }
   ],
   "source": [
    "msg =\"﻿হুঁশিয়ার করে দিলাম সাবধান এত বাড়াবাড়ি ভালো না\"\n",
    "data =[msg]\n",
    "vect=cv.transform(data).toarray()\n",
    "result=clf.predict(vect)\n",
    "print(result)"
   ]
  },
  {
   "cell_type": "code",
   "execution_count": null,
   "id": "0c5202ed-abcc-47fa-a65f-fcde8a2b3cda",
   "metadata": {},
   "outputs": [],
   "source": []
  }
 ],
 "metadata": {
  "colab": {
   "provenance": []
  },
  "kernelspec": {
   "display_name": "Python 3 (ipykernel)",
   "language": "python",
   "name": "python3"
  },
  "language_info": {
   "codemirror_mode": {
    "name": "ipython",
    "version": 3
   },
   "file_extension": ".py",
   "mimetype": "text/x-python",
   "name": "python",
   "nbconvert_exporter": "python",
   "pygments_lexer": "ipython3",
   "version": "3.11.4"
  }
 },
 "nbformat": 4,
 "nbformat_minor": 5
}
